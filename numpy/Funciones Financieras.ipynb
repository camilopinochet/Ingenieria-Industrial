{
 "cells": [
  {
   "cell_type": "code",
   "execution_count": 18,
   "metadata": {},
   "outputs": [],
   "source": [
    "import numpy as np"
   ]
  },
  {
   "cell_type": "code",
   "execution_count": null,
   "metadata": {},
   "outputs": [],
   "source": []
  },
  {
   "cell_type": "markdown",
   "metadata": {},
   "source": [
    "---\n",
    "#### numpy.fv (rate, nper, pmt, pv, when='end')\n",
    "* Calcular el valor futuro."
   ]
  },
  {
   "cell_type": "raw",
   "metadata": {},
   "source": [
    "El valor futuro se calcula resolviendo la ecuación:\n",
    "--------------------------------------------------\n",
    "fv +\n",
    "pv*(1+rate)**nper +\n",
    "pmt*(1 + rate*when)/rate*((1 + rate)**nper - 1) == 0"
   ]
  },
  {
   "cell_type": "raw",
   "metadata": {},
   "source": [
    "¿Cuál es el valor futuro después de 10 años de ahorrar $ 100 ahora, con un ahorro mensual adicional de $ 100? ¿Supongamos que la tasa de interés es del 5% (anual) compuesto mensualmente?"
   ]
  },
  {
   "cell_type": "code",
   "execution_count": 2,
   "metadata": {},
   "outputs": [
    {
     "data": {
      "text/plain": [
       "15692.928894335748"
      ]
     },
     "execution_count": 2,
     "metadata": {},
     "output_type": "execute_result"
    }
   ],
   "source": [
    "np.fv(0.05/12, 10*12, -100, -100)"
   ]
  },
  {
   "cell_type": "raw",
   "metadata": {},
   "source": [
    "Por convención, el signo negativo representa el flujo de efectivo (es decir, el dinero no está disponible hoy). Por lo tanto, ahorrar $ 100 al mes a un 5% de interés anual lleva a $ 15,692.93 disponibles para gastar en 10 años."
   ]
  },
  {
   "cell_type": "raw",
   "metadata": {},
   "source": [
    "Si alguna entrada es array_like, devuelve una matriz de igual forma. Comparemos diferentes tasas de interés del ejemplo anterior."
   ]
  },
  {
   "cell_type": "code",
   "execution_count": 3,
   "metadata": {},
   "outputs": [],
   "source": [
    "a = np.array((0.05, 0.06, 0.07))/12"
   ]
  },
  {
   "cell_type": "code",
   "execution_count": 4,
   "metadata": {},
   "outputs": [
    {
     "data": {
      "text/plain": [
       "array([15692.92889434, 16569.87435405, 17509.44688102])"
      ]
     },
     "execution_count": 4,
     "metadata": {},
     "output_type": "execute_result"
    }
   ],
   "source": [
    "np.fv(a, 10*12, -100, -100)"
   ]
  },
  {
   "cell_type": "markdown",
   "metadata": {},
   "source": [
    "---\n",
    "#### numpy.pv (rate, nper, pmt, fv=0, when='end')\n",
    "* Calcular el valor presente."
   ]
  },
  {
   "cell_type": "raw",
   "metadata": {},
   "source": [
    "¿Cuál es el valor presente (por ejemplo, la inversión inicial) de una inversión que necesita sumar $ 15692.93 después de 10 años de ahorrar $ 100 cada mes? Supongamos que la tasa de interés es del 5% (anual) compuesto mensualmente."
   ]
  },
  {
   "cell_type": "code",
   "execution_count": 6,
   "metadata": {},
   "outputs": [
    {
     "data": {
      "text/plain": [
       "-100.00067131625819"
      ]
     },
     "execution_count": 6,
     "metadata": {},
     "output_type": "execute_result"
    }
   ],
   "source": [
    "np.pv(0.05/12, 10*12, -100, 15692.93)"
   ]
  },
  {
   "cell_type": "raw",
   "metadata": {},
   "source": [
    "Por convención, el signo negativo representa el flujo de efectivo (es decir, el dinero no está disponible hoy). Por lo tanto, para terminar con $ 15,692.93 en 10 años, ahorrando $ 100 al mes al 5% de interés anual, el depósito inicial también debe ser de $ 100.\n",
    "\n",
    "Si alguna entrada es array_like, pvdevuelve una matriz de igual forma. Comparemos diferentes tasas de interés en el ejemplo anterior:"
   ]
  },
  {
   "cell_type": "code",
   "execution_count": 7,
   "metadata": {},
   "outputs": [],
   "source": [
    "a = np.array((0.05, 0.04, 0.03))/12"
   ]
  },
  {
   "cell_type": "code",
   "execution_count": 10,
   "metadata": {},
   "outputs": [
    {
     "data": {
      "text/plain": [
       "array([ -100.00067132,  -649.26771385, -1273.78633713])"
      ]
     },
     "execution_count": 10,
     "metadata": {},
     "output_type": "execute_result"
    }
   ],
   "source": [
    "np.pv(a, 10*12, -100, 15692.93)"
   ]
  },
  {
   "cell_type": "raw",
   "metadata": {},
   "source": [
    "Entonces, para terminar con los mismos $ 15692.93 bajo el mismo \"plan de ahorros\" de $ 100 por mes, para tasas de interés anuales del 4% y 3%, uno necesitaría inversiones iniciales de $ 649.27 y $ 1273.79, respectivamente."
   ]
  },
  {
   "cell_type": "markdown",
   "metadata": {},
   "source": [
    "---\n",
    "#### numpy.npv (tasa, valores)\n",
    "* Devuelve el NPV (valor actual neto) de una serie de flujo de efectivo."
   ]
  },
  {
   "cell_type": "code",
   "execution_count": 11,
   "metadata": {},
   "outputs": [
    {
     "data": {
      "text/plain": [
       "-0.00847859163845488"
      ]
     },
     "execution_count": 11,
     "metadata": {},
     "output_type": "execute_result"
    }
   ],
   "source": [
    "np.npv(0.281, [-100, 39, 59, 55, 20])"
   ]
  },
  {
   "cell_type": "markdown",
   "metadata": {},
   "source": [
    "---\n",
    "#### numpy.pmt (rate, nper, pv, fv=0, when='end')\n",
    "* Calcular el pago contra el principal del préstamo más los intereses."
   ]
  },
  {
   "cell_type": "raw",
   "metadata": {},
   "source": [
    "¿Cuál es el pago mensual necesario para pagar un préstamo de $ 200,000 en 15 años a una tasa de interés anual del 7.5%?"
   ]
  },
  {
   "cell_type": "code",
   "execution_count": 14,
   "metadata": {},
   "outputs": [
    {
     "data": {
      "text/plain": [
       "-1854.0247200054619"
      ]
     },
     "execution_count": 14,
     "metadata": {},
     "output_type": "execute_result"
    }
   ],
   "source": [
    "np.pmt(0.075/12, 12*15, 200000)"
   ]
  },
  {
   "cell_type": "raw",
   "metadata": {},
   "source": [
    "Para pagar (es decir, tener un valor futuro de 0) los $ 200,000 obtenidos hoy, se requeriría un pago mensual de $ 1,854.02. Tenga en cuenta que este ejemplo ilustra el uso de fv tener un valor predeterminado de 0."
   ]
  },
  {
   "cell_type": "markdown",
   "metadata": {},
   "source": [
    "---\n",
    "#### numpy.ppmt ( rate , per , nper , pv , fv = 0 , when = 'end' )\n",
    "* Calcular el pago contra el principal del préstamo."
   ]
  },
  {
   "cell_type": "markdown",
   "metadata": {},
   "source": [
    "----\n",
    "#### numpy.ipmt( rate , per , nper , pv , fv = 0 , when = 'end' )\n",
    "* Calcule la parte de interés de un pago."
   ]
  },
  {
   "cell_type": "raw",
   "metadata": {},
   "source": [
    "Nota:\n",
    "-----\n",
    "El pago total se compone de pago contra el principal más los intereses.\n",
    "pmt = ppmt + ipmt"
   ]
  },
  {
   "cell_type": "raw",
   "metadata": {},
   "source": [
    "¿Cuál es el cronograma de amortización para un préstamo a un año de $ 2500 al 8.24% de interés anual compuesto mensualmente?"
   ]
  },
  {
   "cell_type": "code",
   "execution_count": 15,
   "metadata": {},
   "outputs": [],
   "source": [
    "principal = 2500.00"
   ]
  },
  {
   "cell_type": "raw",
   "metadata": {},
   "source": [
    "La variable 'per' representa los períodos del préstamo. ¡Recuerda que las ecuaciones financieras comienzan el recuento de períodos en 1!"
   ]
  },
  {
   "cell_type": "code",
   "execution_count": 26,
   "metadata": {},
   "outputs": [],
   "source": [
    "per = np.arange(1*12)+1"
   ]
  },
  {
   "cell_type": "code",
   "execution_count": 27,
   "metadata": {},
   "outputs": [],
   "source": [
    "ipmt = np.ipmt(0.0824/12, per, 1*12, principal)"
   ]
  },
  {
   "cell_type": "code",
   "execution_count": 28,
   "metadata": {},
   "outputs": [],
   "source": [
    "ppmt = np.ppmt(0.0824/12, per, 1*12, principal)"
   ]
  },
  {
   "cell_type": "raw",
   "metadata": {},
   "source": [
    "Cada elemento de la suma de las matrices 'ipmt' y 'ppmt' debe ser igual a 'pmt'."
   ]
  },
  {
   "cell_type": "code",
   "execution_count": 29,
   "metadata": {},
   "outputs": [],
   "source": [
    "pmt = np.pmt(0.0824/12, 1*12, principal)"
   ]
  },
  {
   "cell_type": "code",
   "execution_count": 32,
   "metadata": {},
   "outputs": [
    {
     "data": {
      "text/plain": [
       "True"
      ]
     },
     "execution_count": 32,
     "metadata": {},
     "output_type": "execute_result"
    }
   ],
   "source": [
    "np.allclose(ipmt + ppmt, pmt)"
   ]
  },
  {
   "cell_type": "code",
   "execution_count": 33,
   "metadata": {},
   "outputs": [],
   "source": [
    "fmt = '{0:2d} {1:8.2f} {2:8.2f} {3:8.2f}'"
   ]
  },
  {
   "cell_type": "code",
   "execution_count": 35,
   "metadata": {},
   "outputs": [
    {
     "name": "stdout",
     "output_type": "stream",
     "text": [
      " 1  -200.58   -17.17  2299.42\n",
      " 2  -201.96   -15.79  2097.46\n",
      " 3  -203.35   -14.40  1894.11\n",
      " 4  -204.74   -13.01  1689.37\n",
      " 5  -206.15   -11.60  1483.22\n",
      " 6  -207.56   -10.18  1275.66\n",
      " 7  -208.99    -8.76  1066.67\n",
      " 8  -210.42    -7.32   856.25\n",
      " 9  -211.87    -5.88   644.38\n",
      "10  -213.32    -4.42   431.05\n",
      "11  -214.79    -2.96   216.26\n",
      "12  -216.26    -1.49    -0.00\n"
     ]
    }
   ],
   "source": [
    "for payment in per:\n",
    "    index = payment - 1\n",
    "    principal = principal + ppmt[index]\n",
    "    print(fmt.format(payment, ppmt[index], ipmt[index], principal))"
   ]
  },
  {
   "cell_type": "code",
   "execution_count": 36,
   "metadata": {},
   "outputs": [],
   "source": [
    "intersestpd = np.sum(ipmt) "
   ]
  },
  {
   "cell_type": "code",
   "execution_count": 37,
   "metadata": {},
   "outputs": [
    {
     "data": {
      "text/plain": [
       "-112.98"
      ]
     },
     "execution_count": 37,
     "metadata": {},
     "output_type": "execute_result"
    }
   ],
   "source": [
    "np.round(intersestpd, 2)"
   ]
  },
  {
   "cell_type": "markdown",
   "metadata": {},
   "source": [
    "---\n",
    "#### numpy.irr( valores ) [fuente]\n",
    "* Devuelva la tasa interna de retorno (TIR).\n",
    "https://docs.scipy.org/doc/numpy/reference/generated/numpy.irr.html#numpy.irr"
   ]
  },
  {
   "cell_type": "code",
   "execution_count": 39,
   "metadata": {},
   "outputs": [
    {
     "data": {
      "text/plain": [
       "0.28095"
      ]
     },
     "execution_count": 39,
     "metadata": {},
     "output_type": "execute_result"
    }
   ],
   "source": [
    "round(np.irr([-100, 39, 59, 55, 20]), 5)"
   ]
  },
  {
   "cell_type": "code",
   "execution_count": 40,
   "metadata": {},
   "outputs": [
    {
     "data": {
      "text/plain": [
       "-0.0955"
      ]
     },
     "execution_count": 40,
     "metadata": {},
     "output_type": "execute_result"
    }
   ],
   "source": [
    "round(np.irr([-100, 0, 0, 74]), 5)"
   ]
  },
  {
   "cell_type": "code",
   "execution_count": 41,
   "metadata": {},
   "outputs": [
    {
     "data": {
      "text/plain": [
       "-0.0833"
      ]
     },
     "execution_count": 41,
     "metadata": {},
     "output_type": "execute_result"
    }
   ],
   "source": [
    "round(np.irr([-100, 100, 0, -7]), 5)"
   ]
  },
  {
   "cell_type": "code",
   "execution_count": 42,
   "metadata": {},
   "outputs": [
    {
     "data": {
      "text/plain": [
       "0.06206"
      ]
     },
     "execution_count": 42,
     "metadata": {},
     "output_type": "execute_result"
    }
   ],
   "source": [
    "round(np.irr([-100, 100, 0, 7]), 5)"
   ]
  },
  {
   "cell_type": "code",
   "execution_count": 43,
   "metadata": {},
   "outputs": [
    {
     "data": {
      "text/plain": [
       "0.0886"
      ]
     },
     "execution_count": 43,
     "metadata": {},
     "output_type": "execute_result"
    }
   ],
   "source": [
    "round(np.irr([-5, 10.5, 1, -8, 1]), 5)"
   ]
  },
  {
   "cell_type": "markdown",
   "metadata": {},
   "source": [
    "---\n",
    "#### numpy.mirr( valores , finance_rate , reinvest_rate )\n",
    "* Modificación de la tasa interna de retorno."
   ]
  },
  {
   "cell_type": "markdown",
   "metadata": {},
   "source": [
    "---\n",
    "#### numpy.nper( rate , pmt , pv , fv = 0 , when = 'end' )\n",
    "* Calcule el número de pagos periódicos."
   ]
  },
  {
   "cell_type": "raw",
   "metadata": {},
   "source": [
    "Si solo tuviera $ 150 / mes para pagar el préstamo, ¿cuánto tiempo tomaría pagar un préstamo de $ 8,000 al 7% de interés anual?"
   ]
  },
  {
   "cell_type": "code",
   "execution_count": 47,
   "metadata": {},
   "outputs": [
    {
     "data": {
      "text/plain": [
       "array(64.07334877)"
      ]
     },
     "execution_count": 47,
     "metadata": {},
     "output_type": "execute_result"
    }
   ],
   "source": [
    "np.nper(0.07/12, -150, 8000)"
   ]
  },
  {
   "cell_type": "raw",
   "metadata": {},
   "source": [
    "Por lo tanto, se requerirían más de 64 meses para pagar el préstamo.\n",
    "\n",
    "El mismo análisis se podría hacer con diferentes tasas de interés y / o pagos y / o montos totales para producir una tabla completa."
   ]
  },
  {
   "cell_type": "code",
   "execution_count": 48,
   "metadata": {},
   "outputs": [
    {
     "data": {
      "text/plain": [
       "array([[[ 64.07334877,  74.06368256],\n",
       "        [108.07548412, 127.99022654]],\n",
       "\n",
       "       [[ 66.12443902,  76.87897353],\n",
       "        [114.70165583, 137.90124779]]])"
      ]
     },
     "execution_count": 48,
     "metadata": {},
     "output_type": "execute_result"
    }
   ],
   "source": [
    "np.nper(*(np.ogrid[0.07/12: 0.08/12: 0.01/12,\n",
    "                  -150 : -99:  50  ,\n",
    "                  8000:  9001:   1000]))"
   ]
  },
  {
   "cell_type": "markdown",
   "metadata": {},
   "source": [
    "---\n",
    "#### numpy.rate(nper, pmt, pv, fv, when='end', guess=None, tol=None, maxiter=100)\n",
    "* Calcula la tasa de interés por periodo."
   ]
  },
  {
   "cell_type": "code",
   "execution_count": null,
   "metadata": {},
   "outputs": [],
   "source": []
  },
  {
   "cell_type": "code",
   "execution_count": null,
   "metadata": {},
   "outputs": [],
   "source": []
  },
  {
   "cell_type": "code",
   "execution_count": null,
   "metadata": {},
   "outputs": [],
   "source": []
  },
  {
   "cell_type": "code",
   "execution_count": null,
   "metadata": {},
   "outputs": [],
   "source": []
  },
  {
   "cell_type": "code",
   "execution_count": null,
   "metadata": {},
   "outputs": [],
   "source": []
  },
  {
   "cell_type": "code",
   "execution_count": null,
   "metadata": {},
   "outputs": [],
   "source": []
  }
 ],
 "metadata": {
  "kernelspec": {
   "display_name": "Python 3",
   "language": "python",
   "name": "python3"
  },
  "language_info": {
   "codemirror_mode": {
    "name": "ipython",
    "version": 3
   },
   "file_extension": ".py",
   "mimetype": "text/x-python",
   "name": "python",
   "nbconvert_exporter": "python",
   "pygments_lexer": "ipython3",
   "version": "3.6.8"
  }
 },
 "nbformat": 4,
 "nbformat_minor": 2
}
