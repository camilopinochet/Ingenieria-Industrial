{
 "cells": [
  {
   "cell_type": "code",
   "execution_count": 1,
   "metadata": {},
   "outputs": [],
   "source": [
    "import numpy as np"
   ]
  },
  {
   "cell_type": "markdown",
   "metadata": {},
   "source": [
    "--- \n",
    "#### numpy.core.defchararray.count( a , sub , inicio = 0 , final = Ninguno ) [fuente]\n",
    "* Devuelve una matriz con el número de ocurrencias no solapados de subcadena sub en el rango [ empezar , final ]."
   ]
  },
  {
   "cell_type": "markdown",
   "metadata": {},
   "source": [
    "---\n",
    "#### numpy.core.defchararray.find( a , sub , inicio = 0 , final = Ninguno ) [fuente]\n",
    "* Para cada elemento, devolverá el índice más bajo de la cadena en la subcadena sub se encuentra."
   ]
  },
  {
   "cell_type": "markdown",
   "metadata": {},
   "source": [
    "---\n",
    "#### numpy.core.defchararray.index( a , sub , inicio = 0 , final = Ninguno ) [fuente]\n",
    "* Me gusta find, pero genera ValueError cuando no se encuentra la subcadena."
   ]
  },
  {
   "cell_type": "markdown",
   "metadata": {},
   "source": [
    "----\n",
    "#### numpy.core.defchararray.isalpha( a ) [fuente]\n",
    "* Devuelve verdadero para cada elemento si todos los caracteres de la cadena son alfabéticos y hay al menos un carácter, de lo contrario es falso."
   ]
  },
  {
   "cell_type": "markdown",
   "metadata": {},
   "source": [
    "---\n",
    "#### numpy.core.defchararray.isdecimal( a ) [fuente]\n",
    "* Para cada elemento, devuelva Verdadero si solo hay caracteres decimales en el elemento."
   ]
  },
  {
   "cell_type": "markdown",
   "metadata": {},
   "source": [
    "---\n",
    "### numpy.core.defchararray.isdigit( a ) [fuente]\n",
    "* Devuelve verdadero para cada elemento si todos los caracteres de la cadena son dígitos y hay al menos un carácter, de lo contrario es falso."
   ]
  },
  {
   "cell_type": "markdown",
   "metadata": {},
   "source": [
    "---\n",
    "#### numpy.core.defchararray.islower( a ) [fuente]\n",
    "* Devuelve verdadero para cada elemento si todos los caracteres encajonados en la cadena son minúsculas y hay al menos un carácter encajonado, falso de lo contrario."
   ]
  },
  {
   "cell_type": "markdown",
   "metadata": {},
   "source": [
    "---\n",
    "#### numpy.core.defchararray.isnumeric( a ) [fuente]\n",
    "* Para cada elemento, devuelva True si solo hay caracteres numéricos en el elemento."
   ]
  },
  {
   "cell_type": "markdown",
   "metadata": {},
   "source": [
    "---\n",
    "#### numpy.core.defchararray.istitle( a ) [fuente]\n",
    "* Devuelve verdadero para cada elemento si el elemento es una cadena titlecased y hay al menos un carácter, de lo contrario es falso."
   ]
  },
  {
   "cell_type": "markdown",
   "metadata": {},
   "source": [
    "---\n",
    "#### numpy.core.defchararray.rfind( a , sub , inicio = 0 , final = Ninguno ) [fuente]\n",
    "* Para cada elemento en una , devuelva el índice más alto de la cadena donde subcadena sub se encuentra, de manera que sub está contenido dentro de [ inicio , final ]."
   ]
  },
  {
   "cell_type": "markdown",
   "metadata": {},
   "source": [
    "---\n",
    "#### numpy.core.defchararray.rindex( a , sub , inicio = 0 , final = Ninguno ) [fuente]\n",
    "* Me gusta rfind, pero genera ValueError cuando no se encuentra el sub subcadena ."
   ]
  },
  {
   "cell_type": "markdown",
   "metadata": {},
   "source": [
    "---\n",
    "#### numpy.core.defchararray.startswith( a , prefijo , inicio = 0 , final = Ninguno ) [fuente]\n",
    "* Devuelve una matriz booleana que es verdadera , donde el elemento de cadena en una comienza con el prefijo , de lo contrario falso ."
   ]
  }
 ],
 "metadata": {
  "kernelspec": {
   "display_name": "Python 3",
   "language": "python",
   "name": "python3"
  },
  "language_info": {
   "codemirror_mode": {
    "name": "ipython",
    "version": 3
   },
   "file_extension": ".py",
   "mimetype": "text/x-python",
   "name": "python",
   "nbconvert_exporter": "python",
   "pygments_lexer": "ipython3",
   "version": "3.6.8"
  }
 },
 "nbformat": 4,
 "nbformat_minor": 2
}
