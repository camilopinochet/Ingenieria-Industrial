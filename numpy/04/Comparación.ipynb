{
 "cells": [
  {
   "cell_type": "code",
   "execution_count": 1,
   "metadata": {},
   "outputs": [],
   "source": [
    "import numpy as np"
   ]
  },
  {
   "cell_type": "markdown",
   "metadata": {},
   "source": [
    "---\n",
    "#### numpy.core.defchararray.equal( x1 , x2 ) [fuente]\n",
    "* Devuelve (x1 == x2) en cuanto a elementos."
   ]
  },
  {
   "cell_type": "markdown",
   "metadata": {},
   "source": [
    "---\n",
    "### numpy.core.defchararray.not_equal( x1 , x2 ) [fuente]\n",
    "* Devuelve (x1! = X2) en cuanto a elementos."
   ]
  },
  {
   "cell_type": "markdown",
   "metadata": {},
   "source": [
    "---\n",
    "#### numpy.core.defchararray.greater_equal( x1 , x2 ) [fuente]\n",
    "* Devuelve (x1> = x2) en cuanto a elementos."
   ]
  },
  {
   "cell_type": "markdown",
   "metadata": {},
   "source": [
    "---\n",
    "#### numpy.core.defchararray.less_equal( x1 , x2 ) [fuente]\n",
    "* Devuelve (x1 <= x2) en cuanto a elementos."
   ]
  },
  {
   "cell_type": "markdown",
   "metadata": {},
   "source": [
    "---\n",
    "#### numpy.core.defchararray.greater( x1 , x2 ) [fuente]\n",
    "* Devuelve (x1> x2) en cuanto a elementos.\n",
    "* A diferencia numpy.greater, esta comparación se realiza eliminando primero los caracteres de espacio en blanco del final de la cadena. Este comportamiento se proporciona para compatibilidad hacia atrás con numarray."
   ]
  },
  {
   "cell_type": "markdown",
   "metadata": {},
   "source": [
    "---\n",
    "#### numpy.core.defchararray.less( x1 , x2 ) [fuente]\n",
    "* Devuelve (x1 <x2) en cuanto a elementos."
   ]
  },
  {
   "cell_type": "markdown",
   "metadata": {},
   "source": []
  }
 ],
 "metadata": {
  "kernelspec": {
   "display_name": "Python 3",
   "language": "python",
   "name": "python3"
  },
  "language_info": {
   "codemirror_mode": {
    "name": "ipython",
    "version": 3
   },
   "file_extension": ".py",
   "mimetype": "text/x-python",
   "name": "python",
   "nbconvert_exporter": "python",
   "pygments_lexer": "ipython3",
   "version": "3.6.8"
  }
 },
 "nbformat": 4,
 "nbformat_minor": 2
}
