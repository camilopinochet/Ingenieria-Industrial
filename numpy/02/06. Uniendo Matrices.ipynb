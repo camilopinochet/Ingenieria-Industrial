{
 "cells": [
  {
   "cell_type": "code",
   "execution_count": 1,
   "metadata": {},
   "outputs": [],
   "source": [
    "import numpy as np"
   ]
  },
  {
   "cell_type": "markdown",
   "metadata": {},
   "source": [
    "* concatenate : Unir una secuencia de matrices a lo largo de un eje existente.\n",
    "* stack(matrices) : Unir una secuencia de matrices a lo largo de un nuevo eje.\n",
    "* column_stack : Apile matrices 1-D como columnas en una matriz 2-D.\n",
    "* dstack : Apilar las matrices en secuencia de profundidad (a lo largo del tercer eje).\n",
    "* hstack : Apilar matrices en secuencia horizontalmente (columna sabia).\n",
    "* vstack : Apilar matrices en secuencia verticalmente (fila sabio).\n",
    "* block(matrices) : Armar un nd-array a partir de listas anidadas de bloques."
   ]
  },
  {
   "cell_type": "markdown",
   "metadata": {},
   "source": [
    "### numpy.concatenate \n",
    "#### numpy.concatenate( (a1 , a2 , ...) , axis = 0 , out = None ) \n",
    "\n",
    "- Unir una secuencia de matrices a lo largo de un eje existente."
   ]
  },
  {
   "cell_type": "code",
   "execution_count": 2,
   "metadata": {},
   "outputs": [],
   "source": [
    "a = np.array([[1,2] , [3,4]])"
   ]
  },
  {
   "cell_type": "code",
   "execution_count": 3,
   "metadata": {},
   "outputs": [],
   "source": [
    "b = np.array([[5,6]])"
   ]
  },
  {
   "cell_type": "code",
   "execution_count": 4,
   "metadata": {},
   "outputs": [
    {
     "data": {
      "text/plain": [
       "array([[1, 2],\n",
       "       [3, 4],\n",
       "       [5, 6]])"
      ]
     },
     "execution_count": 4,
     "metadata": {},
     "output_type": "execute_result"
    }
   ],
   "source": [
    "np.concatenate((a,b), axis=0)"
   ]
  },
  {
   "cell_type": "code",
   "execution_count": 5,
   "metadata": {},
   "outputs": [
    {
     "data": {
      "text/plain": [
       "array([[1, 2, 5],\n",
       "       [3, 4, 6]])"
      ]
     },
     "execution_count": 5,
     "metadata": {},
     "output_type": "execute_result"
    }
   ],
   "source": [
    "np.concatenate((a,b.T), axis=1)"
   ]
  },
  {
   "cell_type": "code",
   "execution_count": 122,
   "metadata": {},
   "outputs": [
    {
     "data": {
      "text/plain": [
       "array([2., 0., 0., 0., 2., 0., 0., 0., 2., 3., 0., 0., 0., 3., 0., 0., 0.,\n",
       "       3.])"
      ]
     },
     "execution_count": 122,
     "metadata": {},
     "output_type": "execute_result"
    }
   ],
   "source": [
    "np.concatenate((a,b), axis=None)"
   ]
  },
  {
   "cell_type": "code",
   "execution_count": 148,
   "metadata": {},
   "outputs": [
    {
     "data": {
      "text/plain": [
       "array([[1., 0., 0., 0.],\n",
       "       [1., 0., 0., 0.]])"
      ]
     },
     "execution_count": 148,
     "metadata": {},
     "output_type": "execute_result"
    }
   ],
   "source": [
    "x = np.ones((2,1))\n",
    "y = np.zeros((2,3))\n",
    "np.concatenate((x,y), axis=1)"
   ]
  },
  {
   "cell_type": "code",
   "execution_count": null,
   "metadata": {},
   "outputs": [],
   "source": []
  },
  {
   "cell_type": "code",
   "execution_count": null,
   "metadata": {},
   "outputs": [],
   "source": []
  },
  {
   "cell_type": "markdown",
   "metadata": {},
   "source": [
    "1. Esta función no conservará el enmascaramiento de las entradas MaskedArray."
   ]
  },
  {
   "cell_type": "code",
   "execution_count": 156,
   "metadata": {},
   "outputs": [
    {
     "data": {
      "text/plain": [
       "array([0, 1, 2])"
      ]
     },
     "execution_count": 156,
     "metadata": {},
     "output_type": "execute_result"
    }
   ],
   "source": [
    "a = np.arange(3) ; a"
   ]
  },
  {
   "cell_type": "code",
   "execution_count": 160,
   "metadata": {},
   "outputs": [
    {
     "data": {
      "text/plain": [
       "masked_array(data=[0, 1, 2],\n",
       "             mask=False,\n",
       "       fill_value=999999)"
      ]
     },
     "execution_count": 160,
     "metadata": {},
     "output_type": "execute_result"
    }
   ],
   "source": [
    "a = np.ma.arange(3) ; a"
   ]
  },
  {
   "cell_type": "code",
   "execution_count": 161,
   "metadata": {},
   "outputs": [],
   "source": [
    "a[1] = np.ma.masked"
   ]
  },
  {
   "cell_type": "code",
   "execution_count": 162,
   "metadata": {},
   "outputs": [
    {
     "data": {
      "text/plain": [
       "array([2, 3, 4])"
      ]
     },
     "execution_count": 162,
     "metadata": {},
     "output_type": "execute_result"
    }
   ],
   "source": [
    "b = np.arange(2,5) ; b"
   ]
  },
  {
   "cell_type": "code",
   "execution_count": 167,
   "metadata": {},
   "outputs": [
    {
     "data": {
      "text/plain": [
       "masked_array(data=[0, --, 2],\n",
       "             mask=[False,  True, False],\n",
       "       fill_value=999999)"
      ]
     },
     "execution_count": 167,
     "metadata": {},
     "output_type": "execute_result"
    }
   ],
   "source": [
    "a"
   ]
  },
  {
   "cell_type": "code",
   "execution_count": 164,
   "metadata": {},
   "outputs": [
    {
     "data": {
      "text/plain": [
       "array([2, 3, 4])"
      ]
     },
     "execution_count": 164,
     "metadata": {},
     "output_type": "execute_result"
    }
   ],
   "source": [
    "b"
   ]
  },
  {
   "cell_type": "code",
   "execution_count": 165,
   "metadata": {},
   "outputs": [
    {
     "data": {
      "text/plain": [
       "masked_array(data=[0, 1, 2, 2, 3, 4],\n",
       "             mask=False,\n",
       "       fill_value=999999)"
      ]
     },
     "execution_count": 165,
     "metadata": {},
     "output_type": "execute_result"
    }
   ],
   "source": [
    "np.concatenate([a,b])"
   ]
  },
  {
   "cell_type": "code",
   "execution_count": 166,
   "metadata": {},
   "outputs": [
    {
     "data": {
      "text/plain": [
       "masked_array(data=[0, --, 2, 2, 3, 4],\n",
       "             mask=[False,  True, False, False, False, False],\n",
       "       fill_value=999999)"
      ]
     },
     "execution_count": 166,
     "metadata": {},
     "output_type": "execute_result"
    }
   ],
   "source": [
    "np.ma.concatenate([a,b])"
   ]
  },
  {
   "cell_type": "markdown",
   "metadata": {},
   "source": [
    "### numpy.stack \n",
    "#### numpy.stack( arrays , axis = 0 , out = None ) [fuente]\n",
    "\n",
    "- Unir una secuencia de matrices a lo largo de un nuevo eje.\n",
    "\n",
    "- El parámetro de eje especifica el índice del nuevo eje en las dimensiones del resultado. Por ejemplo, si axis=0 será la primera dimensión y si axis=-1 será la última dimensión."
   ]
  },
  {
   "cell_type": "code",
   "execution_count": 218,
   "metadata": {},
   "outputs": [
    {
     "data": {
      "text/plain": [
       "[array([[-0.85543663, -0.74906676,  0.43636615, -2.21825927],\n",
       "        [-0.22578287,  2.12420589,  0.19109187, -1.39129444],\n",
       "        [ 0.40570961,  1.23912292, -0.14552353,  2.09492647]]),\n",
       " array([[-0.72965326, -0.03990624, -0.67561808,  0.01632265],\n",
       "        [-0.37598494,  0.77439999,  0.13176053, -1.31556358],\n",
       "        [-1.46641012,  0.62352434,  0.57377149,  1.06279246]]),\n",
       " array([[ 0.20672801,  0.23505525, -1.07779376, -1.31182015],\n",
       "        [ 0.23150472, -0.1967677 , -1.25118317,  0.25921946],\n",
       "        [-0.87478653, -1.93116832, -0.91394767, -0.00805654]]),\n",
       " array([[-2.15979473, -0.30914869,  0.25366192,  0.11007551],\n",
       "        [-0.57086485, -1.03168726, -2.07182033, -0.49728403],\n",
       "        [-0.74866155,  1.41494626, -0.58547082, -0.10867142]]),\n",
       " array([[ 0.36875954,  0.92111807, -1.03172224,  1.30446898],\n",
       "        [-0.05510516, -0.78087971, -0.23306223, -0.75807188],\n",
       "        [ 0.15465679, -1.45735557, -0.95665683, -1.28166045]]),\n",
       " array([[ 0.14481965, -1.8992195 , -0.33518502,  0.17607403],\n",
       "        [-1.07110124, -1.2077567 ,  0.54333958, -1.33447569],\n",
       "        [-0.95445852, -0.03170413,  0.03192976,  1.69827   ]]),\n",
       " array([[-1.05352676, -1.00216357, -1.96607944, -0.30612145],\n",
       "        [ 1.15564483,  0.55806348, -2.0843614 , -0.85893222],\n",
       "        [ 0.8442362 ,  2.46981979,  0.99545603, -2.80994274]]),\n",
       " array([[ 0.59077552, -1.58042438, -0.06599549,  0.84969311],\n",
       "        [ 0.60084043,  1.40020037, -0.16646893, -1.54712123],\n",
       "        [-0.4749777 ,  0.51057533, -0.89174973,  0.23450727]]),\n",
       " array([[ 1.18030075, -1.59124907, -1.89512701, -0.48115934],\n",
       "        [-0.90609284, -1.42546858, -0.42626146,  0.72840565],\n",
       "        [-1.31320546, -1.86462057,  1.1189152 ,  0.81399649]]),\n",
       " array([[ 0.24777007, -0.00556594,  0.20417963, -0.47381646],\n",
       "        [ 2.32684314,  1.5805005 ,  0.26158756, -0.81719664],\n",
       "        [-0.56903302, -1.57642059, -0.60901157, -0.98441021]])]"
      ]
     },
     "execution_count": 218,
     "metadata": {},
     "output_type": "execute_result"
    }
   ],
   "source": [
    "arrays = [np.random.randn(3,4) for  _ in range(10)] ; arrays"
   ]
  },
  {
   "cell_type": "code",
   "execution_count": 222,
   "metadata": {},
   "outputs": [
    {
     "data": {
      "text/plain": [
       "(3, 4, 10)"
      ]
     },
     "execution_count": 222,
     "metadata": {},
     "output_type": "execute_result"
    }
   ],
   "source": [
    "np.stack(arrays, axis=2).shape"
   ]
  },
  {
   "cell_type": "code",
   "execution_count": 227,
   "metadata": {},
   "outputs": [
    {
     "data": {
      "text/plain": [
       "3"
      ]
     },
     "execution_count": 227,
     "metadata": {},
     "output_type": "execute_result"
    }
   ],
   "source": [
    "j = np.stack(arrays, axis=2) ; len(j)"
   ]
  },
  {
   "cell_type": "code",
   "execution_count": 211,
   "metadata": {},
   "outputs": [
    {
     "data": {
      "text/plain": [
       "array([[[-0.58989873,  0.47271066, -0.77488257,  0.75896488],\n",
       "        [ 0.93914609, -0.30151489, -1.03367582,  1.56447589],\n",
       "        [-1.02236488, -1.02436185,  0.17601328,  0.28780776],\n",
       "        [-2.17069323,  0.07890601, -0.13678209,  0.18699706],\n",
       "        [ 0.05504586, -0.61033956, -1.68732151,  1.08003825],\n",
       "        [-0.92228462, -0.67840231,  0.64967523,  1.9495621 ],\n",
       "        [ 1.4612021 , -0.12743722, -2.41260272,  1.76583196],\n",
       "        [-2.13167285, -0.33959028, -0.4092303 ,  0.1783158 ],\n",
       "        [-1.23677374,  0.78654773, -1.33680691,  0.24678458],\n",
       "        [ 0.13619866, -1.14577865, -0.40028072,  0.74693637]],\n",
       "\n",
       "       [[-0.1582412 ,  0.02218756,  0.08663916, -0.67273698],\n",
       "        [-1.6134763 ,  0.08248065,  0.10652411, -0.56325623],\n",
       "        [ 0.57307701,  0.75564961,  0.54166807, -0.24971505],\n",
       "        [-1.43930017, -0.68980658, -0.01105212,  0.20275534],\n",
       "        [ 0.25092062,  0.17774526, -1.61168736,  0.75046407],\n",
       "        [-0.36594517,  1.21726707,  0.73838392,  0.69499625],\n",
       "        [-1.40938036,  0.34521918,  0.16664814,  0.88903188],\n",
       "        [-0.63822108,  0.13746153, -0.20541702,  0.01395687],\n",
       "        [ 2.46241059,  0.05293387, -0.96773753,  1.54915036],\n",
       "        [ 0.22424558, -0.15350349, -0.32221756,  0.56843854]],\n",
       "\n",
       "       [[-0.36367515,  0.81501561, -0.33954024,  0.58394197],\n",
       "        [ 0.36926896, -0.10933086,  1.29045095,  0.61923094],\n",
       "        [ 0.96587528,  2.56230946, -0.08270856,  0.44367207],\n",
       "        [-0.11362579, -0.10367423, -0.4119126 ,  0.79538771],\n",
       "        [-0.39161965, -0.55475459,  1.0444687 ,  1.70416174],\n",
       "        [-0.57560921,  1.22161254,  1.45416327, -2.14178096],\n",
       "        [ 0.69627771, -0.02095849, -0.04591159,  0.15683479],\n",
       "        [-1.35314351,  0.05324091, -0.16874389, -0.31595499],\n",
       "        [ 0.58203164,  1.19564889, -1.65789911,  1.06622635],\n",
       "        [ 0.47178726,  0.10261795, -1.46528569, -0.76566041]]])"
      ]
     },
     "execution_count": 211,
     "metadata": {},
     "output_type": "execute_result"
    }
   ],
   "source": [
    "i =np.stack(arrays, axis=1) ; i"
   ]
  },
  {
   "cell_type": "code",
   "execution_count": 201,
   "metadata": {},
   "outputs": [
    {
     "data": {
      "text/plain": [
       "0.5839419705240159"
      ]
     },
     "execution_count": 201,
     "metadata": {},
     "output_type": "execute_result"
    }
   ],
   "source": [
    "i[0][2][3]"
   ]
  },
  {
   "cell_type": "code",
   "execution_count": 230,
   "metadata": {},
   "outputs": [
    {
     "data": {
      "text/plain": [
       "(3, 10, 4)"
      ]
     },
     "execution_count": 230,
     "metadata": {},
     "output_type": "execute_result"
    }
   ],
   "source": [
    "np.stack(arrays, axis=1).shape"
   ]
  },
  {
   "cell_type": "code",
   "execution_count": 231,
   "metadata": {},
   "outputs": [
    {
     "data": {
      "text/plain": [
       "(3, 4, 10)"
      ]
     },
     "execution_count": 231,
     "metadata": {},
     "output_type": "execute_result"
    }
   ],
   "source": [
    "np.stack(arrays, axis=2).shape"
   ]
  },
  {
   "cell_type": "code",
   "execution_count": 232,
   "metadata": {},
   "outputs": [],
   "source": [
    "a = np.array([1,2,3])"
   ]
  },
  {
   "cell_type": "code",
   "execution_count": 233,
   "metadata": {},
   "outputs": [],
   "source": [
    "b = np.array([2,3,4])"
   ]
  },
  {
   "cell_type": "code",
   "execution_count": 234,
   "metadata": {},
   "outputs": [
    {
     "data": {
      "text/plain": [
       "array([[1, 2, 3],\n",
       "       [2, 3, 4]])"
      ]
     },
     "execution_count": 234,
     "metadata": {},
     "output_type": "execute_result"
    }
   ],
   "source": [
    "np.stack((a,b))"
   ]
  },
  {
   "cell_type": "code",
   "execution_count": 290,
   "metadata": {},
   "outputs": [
    {
     "name": "stdout",
     "output_type": "stream",
     "text": [
      "[[0. 0.]\n",
      " [0. 0.]\n",
      " [0. 0.]]\n",
      "\n",
      "[[1. 1.]\n",
      " [1. 1.]\n",
      " [1. 1.]]\n",
      "stack\n",
      "[[[0. 1.]\n",
      "  [0. 1.]]\n",
      "\n",
      " [[0. 1.]\n",
      "  [0. 1.]]\n",
      "\n",
      " [[0. 1.]\n",
      "  [0. 1.]]]\n",
      "Column stack\n",
      "[[0. 0. 1. 1.]\n",
      " [0. 0. 1. 1.]\n",
      " [0. 0. 1. 1.]]\n",
      "dstack\n",
      "[[[0. 1.]\n",
      "  [0. 1.]]\n",
      "\n",
      " [[0. 1.]\n",
      "  [0. 1.]]\n",
      "\n",
      " [[0. 1.]\n",
      "  [0. 1.]]]\n"
     ]
    },
    {
     "data": {
      "text/plain": [
       "(3, 2, 2)"
      ]
     },
     "execution_count": 290,
     "metadata": {},
     "output_type": "execute_result"
    }
   ],
   "source": [
    "ii = np.zeros((3,2)) ; print(ii), print()\n",
    "jj = np.ones((3,2)) ; print(jj), print(\"stack\")\n",
    "yy = np.stack((ii,jj), axis=2) ;  print(yy), print(\"Column stack\")\n",
    "zz = np.column_stack((ii,jj)) ; print(zz), print(\"dstack\")\n",
    "aa = np.dstack((ii,jj)) ; print(aa)\n",
    "\n",
    "yy.shape"
   ]
  },
  {
   "cell_type": "code",
   "execution_count": 291,
   "metadata": {},
   "outputs": [
    {
     "data": {
      "text/plain": [
       "array([[[ True,  True],\n",
       "        [ True,  True]],\n",
       "\n",
       "       [[ True,  True],\n",
       "        [ True,  True]],\n",
       "\n",
       "       [[ True,  True],\n",
       "        [ True,  True]]])"
      ]
     },
     "execution_count": 291,
     "metadata": {},
     "output_type": "execute_result"
    }
   ],
   "source": [
    "yy == aa"
   ]
  },
  {
   "cell_type": "code",
   "execution_count": null,
   "metadata": {},
   "outputs": [],
   "source": []
  },
  {
   "cell_type": "code",
   "execution_count": null,
   "metadata": {},
   "outputs": [],
   "source": []
  },
  {
   "cell_type": "code",
   "execution_count": null,
   "metadata": {},
   "outputs": [],
   "source": []
  },
  {
   "cell_type": "markdown",
   "metadata": {},
   "source": [
    "### numpy.column_stack \n",
    "#### numpy.column_stack( tup ) [fuente]\n",
    "\n",
    "- Apila matrices 1-D como columnas en una matriz 2-D.\n",
    "\n",
    "- Tome una secuencia de arreglos 1-D y los apila como columnas para hacer un solo arreglo 2-D. Las matrices 2-D se apilan como están, al igual que con hstack. Las matrices 1-D se convierten primero en columnas 2-D."
   ]
  },
  {
   "cell_type": "code",
   "execution_count": 251,
   "metadata": {},
   "outputs": [],
   "source": [
    "a = np.array((11,12,13))"
   ]
  },
  {
   "cell_type": "code",
   "execution_count": 252,
   "metadata": {},
   "outputs": [],
   "source": [
    "b = np.array((22,23,24))"
   ]
  },
  {
   "cell_type": "code",
   "execution_count": 253,
   "metadata": {},
   "outputs": [
    {
     "data": {
      "text/plain": [
       "array([[11, 22],\n",
       "       [12, 23],\n",
       "       [13, 24]])"
      ]
     },
     "execution_count": 253,
     "metadata": {},
     "output_type": "execute_result"
    }
   ],
   "source": [
    "np.column_stack((a,b))"
   ]
  },
  {
   "cell_type": "code",
   "execution_count": 261,
   "metadata": {},
   "outputs": [
    {
     "name": "stdout",
     "output_type": "stream",
     "text": [
      "[[0. 0.]\n",
      " [0. 0.]\n",
      " [0. 0.]]\n",
      "\n",
      "[[1. 1.]\n",
      " [1. 1.]\n",
      " [1. 1.]]\n",
      "\n",
      "[[0. 0. 1. 1.]\n",
      " [0. 0. 1. 1.]\n",
      " [0. 0. 1. 1.]]\n"
     ]
    }
   ],
   "source": [
    "ii = np.zeros((3,2)) ; print(ii), print()\n",
    "jj = np.ones((3,2)) ; print(jj), print()\n",
    "yy = np.column_stack((ii,jj)) ; print(yy)"
   ]
  },
  {
   "cell_type": "markdown",
   "metadata": {},
   "source": [
    "### numpy.dstack \n",
    "#### numpy.dstack( tup ) [fuente]\n",
    "\n",
    "- Apila las matrices en secuencia de profundidad (a lo largo del tercer eje).\n",
    "\n",
    "- Esto es equivalente a la concatenación a lo largo del tercer eje después de que las matrices de forma 2-D (M, N) se hayan reformado a (M, N, 1) y las matrices de forma 1-D (N,) se hayan reformado a (1, N, 1) . Reconstruye arrays divididos por dsplit.\n",
    "\n",
    "- Esta función tiene más sentido para arreglos con hasta 3 dimensiones. Por ejemplo, para datos de píxeles con una altura (primer eje), ancho (segundo eje) y r / g / b canales (tercer eje). Las funciones concatenate, stacky block proporcionan operaciones más generales de apilamiento y concatenación."
   ]
  },
  {
   "cell_type": "code",
   "execution_count": 24,
   "metadata": {},
   "outputs": [],
   "source": [
    "a = np.array((11,22,33))"
   ]
  },
  {
   "cell_type": "code",
   "execution_count": 25,
   "metadata": {},
   "outputs": [],
   "source": [
    "b = np.array((22,33,44))"
   ]
  },
  {
   "cell_type": "code",
   "execution_count": 26,
   "metadata": {},
   "outputs": [
    {
     "data": {
      "text/plain": [
       "array([[[11, 22],\n",
       "        [22, 33],\n",
       "        [33, 44]]])"
      ]
     },
     "execution_count": 26,
     "metadata": {},
     "output_type": "execute_result"
    }
   ],
   "source": [
    "np.dstack((a,b))"
   ]
  },
  {
   "cell_type": "code",
   "execution_count": 27,
   "metadata": {},
   "outputs": [],
   "source": [
    "a = np.array(((1),(2),(3)))"
   ]
  },
  {
   "cell_type": "code",
   "execution_count": 28,
   "metadata": {},
   "outputs": [],
   "source": [
    "b = np.array(((22),(33),(44)))"
   ]
  },
  {
   "cell_type": "code",
   "execution_count": 29,
   "metadata": {},
   "outputs": [
    {
     "data": {
      "text/plain": [
       "array([[[ 1, 22],\n",
       "        [ 2, 33],\n",
       "        [ 3, 44]]])"
      ]
     },
     "execution_count": 29,
     "metadata": {},
     "output_type": "execute_result"
    }
   ],
   "source": [
    "np.dstack((a,b))"
   ]
  },
  {
   "cell_type": "markdown",
   "metadata": {},
   "source": [
    "### numpy.hstack \n",
    "#### numpy.hstack( tup ) [fuente]\n",
    "\n",
    "- Apilar matrices en secuencia horizontalmente (columna sabia).\n",
    "\n",
    "- Esto es equivalente a la concatenación a lo largo del segundo eje, a excepción de las matrices 1-D donde concatena a lo largo del primer eje. Reconstruye arrays divididos por hsplit.\n",
    "\n",
    "- Esta función tiene más sentido para arreglos con hasta 3 dimensiones. Por ejemplo, para datos de píxeles con una altura (primer eje), ancho (segundo eje) y r / g / b canales (tercer eje). Las funciones concatenate, stacky blockproporcionan operaciones más generales de apilamiento y concatenación."
   ]
  },
  {
   "cell_type": "code",
   "execution_count": 30,
   "metadata": {},
   "outputs": [],
   "source": [
    "a = np.array((1,2,3))"
   ]
  },
  {
   "cell_type": "code",
   "execution_count": 31,
   "metadata": {},
   "outputs": [],
   "source": [
    "b = np.array((22,33,44))"
   ]
  },
  {
   "cell_type": "code",
   "execution_count": 32,
   "metadata": {},
   "outputs": [
    {
     "data": {
      "text/plain": [
       "array([ 1,  2,  3, 22, 33, 44])"
      ]
     },
     "execution_count": 32,
     "metadata": {},
     "output_type": "execute_result"
    }
   ],
   "source": [
    "np.hstack((a,b))"
   ]
  },
  {
   "cell_type": "code",
   "execution_count": 33,
   "metadata": {},
   "outputs": [],
   "source": [
    "a = np.array([[1],[2],[3]])"
   ]
  },
  {
   "cell_type": "code",
   "execution_count": 34,
   "metadata": {},
   "outputs": [],
   "source": [
    "b = np.array([[22],[33],[44]])"
   ]
  },
  {
   "cell_type": "code",
   "execution_count": 35,
   "metadata": {},
   "outputs": [
    {
     "data": {
      "text/plain": [
       "array([[ 1, 22],\n",
       "       [ 2, 33],\n",
       "       [ 3, 44]])"
      ]
     },
     "execution_count": 35,
     "metadata": {},
     "output_type": "execute_result"
    }
   ],
   "source": [
    "np.hstack((a,b))"
   ]
  },
  {
   "cell_type": "markdown",
   "metadata": {},
   "source": [
    "### numpy.vstack \n",
    "#### numpy.vstack( tup ) [fuente]\n",
    "\n",
    "- Apilar matrices en secuencia verticalmente (fila sabio).\n",
    "\n",
    "- Esto es equivalente a la concatenación a lo largo del primer eje después de que los arreglos 1-D de forma (N,) se hayan reformado a (1, N) . Reconstruye arrays divididos por vsplit.\n",
    "\n",
    "- Esta función tiene más sentido para arreglos con hasta 3 dimensiones. Por ejemplo, para datos de píxeles con una altura (primer eje), ancho (segundo eje) y r / g / b canales (tercer eje). Las funciones concatenate, stacky blockproporcionan operaciones más generales de apilamiento y concatenación."
   ]
  },
  {
   "cell_type": "code",
   "execution_count": 36,
   "metadata": {},
   "outputs": [],
   "source": [
    "a = np.array([1,2,3])"
   ]
  },
  {
   "cell_type": "code",
   "execution_count": 37,
   "metadata": {},
   "outputs": [],
   "source": [
    "b = np.array([22,33,44])"
   ]
  },
  {
   "cell_type": "code",
   "execution_count": 38,
   "metadata": {},
   "outputs": [
    {
     "data": {
      "text/plain": [
       "array([[ 1,  2,  3],\n",
       "       [22, 33, 44]])"
      ]
     },
     "execution_count": 38,
     "metadata": {},
     "output_type": "execute_result"
    }
   ],
   "source": [
    "np.vstack((a,b))"
   ]
  },
  {
   "cell_type": "code",
   "execution_count": 39,
   "metadata": {},
   "outputs": [],
   "source": [
    "a = np.array([[1],[2],[3]])"
   ]
  },
  {
   "cell_type": "code",
   "execution_count": 40,
   "metadata": {},
   "outputs": [],
   "source": [
    "b = np.array([[22],[33],[44]])"
   ]
  },
  {
   "cell_type": "code",
   "execution_count": 41,
   "metadata": {},
   "outputs": [
    {
     "data": {
      "text/plain": [
       "array([[ 1],\n",
       "       [ 2],\n",
       "       [ 3],\n",
       "       [22],\n",
       "       [33],\n",
       "       [44]])"
      ]
     },
     "execution_count": 41,
     "metadata": {},
     "output_type": "execute_result"
    }
   ],
   "source": [
    "np.vstack((a,b))"
   ]
  },
  {
   "cell_type": "markdown",
   "metadata": {},
   "source": [
    "### numpy.block \n",
    "#### numpy.block (matrices)\n",
    "\n",
    "- Arma un nd-array a partir de listas anidadas de bloques.\n",
    "\n",
    "- Los bloques en las listas más internas se concatenan (vea concatenate) a lo largo de la última dimensión (-1), luego se concatenan a lo largo de la segunda última dimensión (-2), y así sucesivamente hasta que se alcanza la lista más externa.\n",
    "\n",
    "- Los bloques pueden ser de cualquier dimensión, pero no se emitirán utilizando las reglas normales. En su lugar, se insertan ejes delanteros de tamaño 1, para hacer block.ndim lo mismo para todos los bloques. Esto es principalmente útil para trabajar con escalares, y significa que el código como es válido, donde .np.block([v, 1])v.ndim == 1\n",
    "\n",
    "- Cuando la lista anidada tiene dos niveles de profundidad, esto permite construir matrices de bloques a partir de sus componentes."
   ]
  },
  {
   "cell_type": "code",
   "execution_count": 92,
   "metadata": {},
   "outputs": [
    {
     "data": {
      "text/plain": [
       "array([[2., 0., 0.],\n",
       "       [0., 2., 0.],\n",
       "       [0., 0., 2.]])"
      ]
     },
     "execution_count": 92,
     "metadata": {},
     "output_type": "execute_result"
    }
   ],
   "source": [
    "a = np.eye(3) * 2 ; a"
   ]
  },
  {
   "cell_type": "code",
   "execution_count": 87,
   "metadata": {},
   "outputs": [
    {
     "data": {
      "text/plain": [
       "((2, 2), numpy.ndarray, dtype('float64'))"
      ]
     },
     "execution_count": 87,
     "metadata": {},
     "output_type": "execute_result"
    }
   ],
   "source": [
    "a.shape, type(a), a.dtype"
   ]
  },
  {
   "cell_type": "code",
   "execution_count": 88,
   "metadata": {},
   "outputs": [
    {
     "data": {
      "text/plain": [
       "array([[3., 0., 0.],\n",
       "       [0., 3., 0.],\n",
       "       [0., 0., 3.]])"
      ]
     },
     "execution_count": 88,
     "metadata": {},
     "output_type": "execute_result"
    }
   ],
   "source": [
    "b = np.eye(3) * 3 ; b"
   ]
  },
  {
   "cell_type": "code",
   "execution_count": 89,
   "metadata": {},
   "outputs": [
    {
     "data": {
      "text/plain": [
       "((3, 3), numpy.ndarray, dtype('float64'))"
      ]
     },
     "execution_count": 89,
     "metadata": {},
     "output_type": "execute_result"
    }
   ],
   "source": [
    "b.shape, type(b), b.dtype"
   ]
  },
  {
   "cell_type": "code",
   "execution_count": null,
   "metadata": {},
   "outputs": [],
   "source": []
  },
  {
   "cell_type": "code",
   "execution_count": 91,
   "metadata": {},
   "outputs": [
    {
     "data": {
      "text/plain": [
       "array([[2., 0., 0., 0., 0.],\n",
       "       [0., 2., 0., 0., 0.],\n",
       "       [1., 1., 3., 0., 0.],\n",
       "       [1., 1., 0., 3., 0.],\n",
       "       [1., 1., 0., 0., 3.]])"
      ]
     },
     "execution_count": 91,
     "metadata": {},
     "output_type": "execute_result"
    }
   ],
   "source": [
    "np.block([[a, np.zeros((2,3))], [np.ones((3,2)), b]])"
   ]
  },
  {
   "cell_type": "code",
   "execution_count": 104,
   "metadata": {},
   "outputs": [
    {
     "data": {
      "text/plain": [
       "array([[1., 1., 1.],\n",
       "       [1., 1., 1.],\n",
       "       [1., 1., 1.]])"
      ]
     },
     "execution_count": 104,
     "metadata": {},
     "output_type": "execute_result"
    }
   ],
   "source": [
    "i = np.ones((3,3)) ; i "
   ]
  },
  {
   "cell_type": "code",
   "execution_count": 110,
   "metadata": {},
   "outputs": [
    {
     "data": {
      "text/plain": [
       "array([[1., 1., 1.],\n",
       "       [1., 1., 1.]])"
      ]
     },
     "execution_count": 110,
     "metadata": {},
     "output_type": "execute_result"
    }
   ],
   "source": [
    "j = np.ones((2,3)) ; j"
   ]
  },
  {
   "cell_type": "code",
   "execution_count": 111,
   "metadata": {},
   "outputs": [
    {
     "data": {
      "text/plain": [
       "array([[1., 1., 1., 0., 0., 0.],\n",
       "       [1., 1., 1., 0., 0., 0.],\n",
       "       [1., 1., 1., 0., 0., 0.],\n",
       "       [0., 0., 0., 1., 1., 1.],\n",
       "       [0., 0., 0., 1., 1., 1.]])"
      ]
     },
     "execution_count": 111,
     "metadata": {},
     "output_type": "execute_result"
    }
   ],
   "source": [
    "y = np.block([[i, np.zeros((3,3))],[np.zeros((2,3)), j]]) ; y"
   ]
  },
  {
   "cell_type": "code",
   "execution_count": 112,
   "metadata": {},
   "outputs": [],
   "source": [
    "ii = np.ones((2,2))"
   ]
  },
  {
   "cell_type": "code",
   "execution_count": 113,
   "metadata": {},
   "outputs": [],
   "source": [
    "jj = np.ones((2,2))"
   ]
  },
  {
   "cell_type": "code",
   "execution_count": 117,
   "metadata": {},
   "outputs": [
    {
     "data": {
      "text/plain": [
       "array([[1., 1., 0., 0.],\n",
       "       [1., 1., 0., 0.],\n",
       "       [0., 0., 1., 1.],\n",
       "       [0., 0., 1., 1.]])"
      ]
     },
     "execution_count": 117,
     "metadata": {},
     "output_type": "execute_result"
    }
   ],
   "source": [
    "yy = np.block([[ii, np.zeros((2,2))], [np.zeros((2,2)), jj]]) ; yy"
   ]
  },
  {
   "cell_type": "code",
   "execution_count": null,
   "metadata": {},
   "outputs": [],
   "source": []
  },
  {
   "cell_type": "code",
   "execution_count": null,
   "metadata": {},
   "outputs": [],
   "source": []
  },
  {
   "cell_type": "code",
   "execution_count": null,
   "metadata": {},
   "outputs": [],
   "source": []
  },
  {
   "cell_type": "code",
   "execution_count": null,
   "metadata": {},
   "outputs": [],
   "source": []
  },
  {
   "cell_type": "code",
   "execution_count": null,
   "metadata": {},
   "outputs": [],
   "source": []
  },
  {
   "cell_type": "code",
   "execution_count": null,
   "metadata": {},
   "outputs": [],
   "source": []
  },
  {
   "cell_type": "code",
   "execution_count": null,
   "metadata": {},
   "outputs": [],
   "source": []
  },
  {
   "cell_type": "code",
   "execution_count": null,
   "metadata": {},
   "outputs": [],
   "source": []
  },
  {
   "cell_type": "code",
   "execution_count": null,
   "metadata": {},
   "outputs": [],
   "source": []
  }
 ],
 "metadata": {
  "kernelspec": {
   "display_name": "Python 3",
   "language": "python",
   "name": "python3"
  },
  "language_info": {
   "codemirror_mode": {
    "name": "ipython",
    "version": 3
   },
   "file_extension": ".py",
   "mimetype": "text/x-python",
   "name": "python",
   "nbconvert_exporter": "python",
   "pygments_lexer": "ipython3",
   "version": "3.6.8"
  }
 },
 "nbformat": 4,
 "nbformat_minor": 2
}
