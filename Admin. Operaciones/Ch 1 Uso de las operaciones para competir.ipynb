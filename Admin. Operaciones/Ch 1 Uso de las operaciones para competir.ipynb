{
 "cells": [
  {
   "cell_type": "markdown",
   "metadata": {},
   "source": [
    "# Parte 1 Uso de las operaciones para competir"
   ]
  },
  {
   "cell_type": "markdown",
   "metadata": {},
   "source": [
    "## Capitulo1  Las operaciones como arma competitiva"
   ]
  },
  {
   "cell_type": "markdown",
   "metadata": {},
   "source": [
    "### Administración de operaciones en la organización\n",
    "\n",
    "**Proceso**\n",
    "\n",
    "Cualquier actividad o grupo de actividades en las que se transforman uno o más insumos para obtener uno o más productos para los clientes.\n",
    "\n",
    "**Administración de operaciones**\n",
    "\n",
    "El diseño, dirección y control sistemáticos de los procesos que transforman los insumos en servicios y productos para los clientes internos y externos.\n",
    "\n",
    "**Proceso anidado**\n",
    "\n",
    "Es el concepto de un proceso dentro de otro.\n",
    "\n",
    "**Clientes externos**\n",
    "\n",
    "Los clientes que son o un usuario final o un intermediario (por ejemplo, fabricantes, instituciones financieras o comerciantes minoristas) que compran los servicios o productos terminados de la empresa.\n",
    "\n",
    "**Clientes internos**\n",
    "\n",
    "Uno o más empleados o procesos que dependen de los insumos de otros empleados o procesos para realizar su trabajo.\n",
    "\n",
    "**Proveedores externos**\n",
    "\n",
    "Empresas o particulares que proporcionan los recursos, servicios, productos y materiales para cubrir las necesidades de corto y largo plazos de la empresa.\n",
    "\n",
    "**Proveedores internos**\n",
    "\n",
    "Empleados o procesos que suministran información importante o materiales.\n",
    "\n",
    "**Cadena de valor**\n",
    "\n",
    "Serie interrelacionada de procesos que produce un servicio o producto que satisface a los clientes.\n",
    "\n",
    "**Proceso central**\n",
    "\n",
    "Cadena de actividades que entrega valor a los clientes externos.\n",
    "\n",
    "**Proceso de apoyo**\n",
    "\n",
    "Proceso que proporciona recursos vitales e insumos a los procesos centrales y, por lo tanto, es esencial para la administración de la empresa.\n",
    "\n",
    "**Proceso de relaciones con los clientes**\n",
    "\n",
    "Proceso que identifica, atrae y entabla relaciones con los clientes externos, y facilita la colocación de pedidos de los clientes; en ocasiones llamado administración de relaciones con los clientes.\n",
    "\n",
    "**Proceso de desarrollo de nuevos servicios y productos**\n",
    "\n",
    "Es el proceso en el que se diseñan y desarrollan nuevos servicios o productos de acuerdo con las especificaciones de clientes externos o a partir de información recibida del mercado en general mediante el proceso de relaciones con los clientes.\n",
    "\n",
    "**Proceso de surtido de pedidos**\n",
    "\n",
    "Proceso que incluye las actividades requeridas para producir y entregar el servicio o producto al cliente externo.\n",
    "\n",
    "**Proceso de relaciones con los proveedores**\n",
    "\n",
    "Es el proceso en el que se selecciona a los proveedores de los servicios, materiales e información y se facilita el flujo oportuno y eficiente de estos artículos hacia la empresa.\n",
    "\n",
    "**Productividad**\n",
    "\n",
    "Es el valor de los productos (bienes y servicios), dividido entre los valores de los recursos (salarios, costo de equipo, etcétera) que se han usado como insumos."
   ]
  },
  {
   "cell_type": "code",
   "execution_count": null,
   "metadata": {},
   "outputs": [],
   "source": []
  },
  {
   "cell_type": "markdown",
   "metadata": {},
   "source": [
    "### Ejemplo 1.1 Cálculos de productividad\n",
    "\n",
    "Calcule la productividad en las siguientes operaciones:\n",
    "\n",
    "a. Tres empleados procesan 600 pólizas de seguros en una semana. Trabajan 8 horas diarias, 5 días a la semana.\n",
    "\n",
    "b. Un equipo de trabajadores fabrica 400 unidades de un producto, el cual se valora de acuerdo con su costo estándar de S10 cada (antes de sumar otros gastos y la utilidad). El departamento de contabilidad informa que, para es- te trabajo, los costos reales son de S400 por mano de obra, S1,000 por materiales y S300 por gastos generales.\n",
    "\n"
   ]
  },
  {
   "cell_type": "code",
   "execution_count": 11,
   "metadata": {},
   "outputs": [
    {
     "name": "stdout",
     "output_type": "stream",
     "text": [
      "5.0\n",
      "2.35\n"
     ]
    }
   ],
   "source": [
    "polizas = 600 # polizas_procesadas = 600\n",
    "hh = 40 # horas_por_empleados = 40\n",
    "ce = 3 # cantidad_empleados = 3\n",
    "\n",
    "# Productividad de la mano de obra\n",
    "produc_empleados = polizas/(hh * ce) \n",
    "\n",
    "print(produc_empleados)\n",
    "\n",
    "# b.\n",
    "tp = 400 # cantidad total de produccion\n",
    "cu= 10 # costo unitario estandar\n",
    "cthh = 400 # costo total mano de obra\n",
    "ctm = 1000 # costo total materiales\n",
    "gg = 300 # gastos generales\n",
    "\n",
    "produc_multifactorial = tp * cu / (cthh + ctm + gg)\n",
    "print(\"{:.2f}\".format(produc_multifactorial))\n",
    "\n"
   ]
  },
  {
   "cell_type": "markdown",
   "metadata": {},
   "source": []
  },
  {
   "cell_type": "code",
   "execution_count": null,
   "metadata": {},
   "outputs": [],
   "source": []
  },
  {
   "cell_type": "markdown",
   "metadata": {},
   "source": [
    "### Una visión de los procesos\n",
    "\n",
    "#### Cómo funcionan los procesos\n",
    "\n",
    "#### Procesos anidados\n",
    "\n",
    "#### Relaciones con clientes y proveedores\n",
    " \n",
    "#### Procesos de servicio y manufactura\n",
    "\n",
    "### Agregar valor: la cadena de valor\n",
    "\n",
    "#### Procesos centrales\n",
    "\n",
    "#### Procesos de apoyo\n",
    "\n",
    "#### Agregar valor con los procesos\n",
    "\n",
    "### La administración de operaciones como un conjunto de decisiones\n",
    "\n",
    "#### HERRAMIENTAS PARA LA TOMA DE DECISIONES\n",
    "\n",
    "#### APOYO A LAS METAS DE LA EMPRESA\n",
    "\n",
    "### TENDENCIAS EN LA ADMINISTRACIÓN DE OPERACIONES \n"
   ]
  }
 ],
 "metadata": {
  "kernelspec": {
   "display_name": "Python 3",
   "language": "python",
   "name": "python3"
  },
  "language_info": {
   "codemirror_mode": {
    "name": "ipython",
    "version": 3
   },
   "file_extension": ".py",
   "mimetype": "text/x-python",
   "name": "python",
   "nbconvert_exporter": "python",
   "pygments_lexer": "ipython3",
   "version": "3.6.8"
  }
 },
 "nbformat": 4,
 "nbformat_minor": 2
}
