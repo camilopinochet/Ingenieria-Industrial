{
 "cells": [
  {
   "cell_type": "markdown",
   "metadata": {},
   "source": [
    "### SUPLEMENTO A  - Toma de decisiones\n",
    "\n",
    "\n",
    "1. <a href=\"#Análisis-de-punto-de-equilibrio\">Análisis de punto de equilibrio</a>\n",
    "\n",
    "1.1 <a href=\"#Evaluación-de-servicios-o-productos\">Evaluación de servicios o productos</a>\n",
    "\n",
    "1.1.1 <a href=\"#EJEMPLO-A.1\">Ejemplo A.1</a>\n",
    "\n",
    "1.1.2 <a href=\"#EJEMPLO-A.2\">Ejemplo A.2</a>\n",
    "\n",
    "\n",
    "1.2 <a href=\"#Evaluación-de-procesos\">Evaluación de procesos</a>\n",
    "\n",
    "\n",
    "1.2.1 <a href=\"#EJEMPLO-A.3\">Ejemplo A.3</a>\n",
    "\n",
    "2. <a href=\"#Matriz-de-preferencias\">Matriz de preferencias</a>\n",
    "\n",
    "2.1 <a href=\"#EJEMPLO-A.4\">Ejemplo A.4</a>\n",
    "\n",
    "\n",
    "3. <a href=\"#Teoría-de-decisiones\">Teoría de decisiones</a>\n",
    "\n",
    "\n",
    "3.1 <a href=\"#Toma-de-decisiones-bajo-certidumbre\">Toma de decisiones bajo certidumbre</a>\n",
    "    \n",
    "5. <a href=\"#EJEMPLO-A.5\">Ejemplo A.5</a>\n",
    "\n",
    "3.2 <a href=\"#Toma-de-decisiones-bajo-incertidumbre\">Toma de decisiones bajo incertidumbre</a>\n",
    "\n",
    "3.2.1 <a href=\"#EJEMPLO-A.6\">Ejemplo A.6</a>\n",
    "\n",
    "\n",
    "3.3 <a href=\"#Toma-de-decisiones-bajo-riesgo\">Toma de decisiones bajo riesgo</a>\n",
    "\n",
    "3.3.1 <a href=\"#EJEMPLO-A.7\">Ejemplo A.7</a>\n",
    "\n",
    "\n",
    "4. <a href=\"#Árboles-de-decisiones\">Árboles de decisiones</a>\n",
    "\n",
    "4.1. <a href=\"#Problema-Resuelto-1\">Problema Resuelto 1</a>\n",
    "\n",
    "4.2. <a href=\"#Problema-Resuelto-2\">Problema Resuelto 2</a>\n",
    "\n",
    "4.3. <a href=\"#Problema-Resuelto-3\">Problema Resuelto 3</a>\n",
    "\n",
    "4.4. <a href=\"#Problema-Resuelto-4\">Problema Resuelto 4</a>\n",
    "\n"
   ]
  },
  {
   "cell_type": "markdown",
   "metadata": {},
   "source": [
    "\n",
    "\n",
    "\n",
    "\n",
    "\n",
    "\n"
   ]
  },
  {
   "cell_type": "markdown",
   "metadata": {},
   "source": [
    "### Objetivos de aprendizaje\n",
    "\n",
    "Después de leer este suplemento, usted podrá:\n",
    "\n",
    "1. Explicar el análisis de punto de equilibrio, usando tanto el método gráfico como el algebraico.\n",
    "2. Definir una matriz de preferencias\n",
    "3. Identificar las reglas de decisión maximin, maximax, Laplace, rechazo minimax y valor esperado\n",
    "4. Explicar cómo se construye una tabla de pagos.\n",
    "5. Describir cómo se traza y analiza un árbol de decisiones.\n",
    "\n",
    "\n",
    "### Análisis de punto de equilibrio\n",
    "\n",
    "Para evaluar una idea que generará un nuevo servicio o producto, o para evaluar el desempeño de uno existente, resulta útil determinar el volumen de ventas con el cual dicho producto o servicio alcanza el punto de equilibrio.\n",
    "\n",
    "**punto de equilibrio** El volumen en el que los ingresos totales son iguales a los costos totales.\n",
    "\n",
    "**análisis de punto de equilibrio** El uso del punto de equilibrio; puede emplearse para comparar los procesos, calculando el volumen en el que dos procesos diferentes tienen costos totales iguales.\n",
    "\n",
    "### Evaluación de servicios o productos\n",
    "\n",
    "Evaluación de servicios o productos\n",
    "\n",
    "Esta técnica ayuda al gerente a responder preguntas como las siguientes:\n",
    "\n",
    "- ¿El volumen previsto de ventas del servicio o producto es suficiente para alcanzar el equili- brio (ni obtener utilidades ni sufrir pérdidas)?\n",
    "- ¿Cuán bajo debe ser el costo variable por unidad para alcanzar el equilibrio, con base en los precios actuales y los pronósticos de ventas?\n",
    "- ¿Cuán bajo debe ser el costo fijo para alcanzar el equilibrio?\n",
    "- ¿Cómo afectan los niveles de precios el volumen de equilibrio?\n",
    "\n",
    "**costo variable (c)** La parte del costo total que varía directamente con el volumen de producción.\n",
    "\n",
    "**costo fijo (F)** La parte del costo total que permanece constante, independientemente de los cambios en los niveles de producción.\n",
    "\n",
    "Si **Q** es igual al número de clientes atendidos o unidades producidas al año.\n",
    "\n",
    "`Costo total = F + cQ`\n",
    "\n",
    "Ingreso por unidad vendida, **p**\n",
    "\n",
    "`Ingreso total = pQ `\n",
    "\n",
    "Si el **ingreso total es igual al costo total**, se obtiene el punto de equilibrio mediante\n",
    "\n",
    "        pQ = F +cQ\n",
    "    (p−c)Q = F\n",
    "         Q = F / (p−c)"
   ]
  },
  {
   "cell_type": "markdown",
   "metadata": {},
   "source": [
    "### EJEMPLO A.1 \n",
    "\n",
    "### Cálculo del punto de equilibrio\n",
    "\n",
    "Un hospital está considerando un nuevo procedimiento que se ofrecerá al precio de `$200` por paciente. El costo fijo anual sería de `$100,000`, con costos variables totales de `$100` por paciente. ¿Cuál sería el punto de equilibrio de este servicio? Use los dos métodos, el algebraico y el gráfico, para obtener la respuesta.\n",
    "\n",
    "$$\n",
    "Q = \\frac{F}{p-c} = \\frac{100.000}{200-100} = 1.000 pacientes\n",
    "$$"
   ]
  },
  {
   "cell_type": "code",
   "execution_count": 1,
   "metadata": {},
   "outputs": [
    {
     "data": {
      "text/plain": [
       "<Figure size 640x480 with 1 Axes>"
      ]
     },
     "metadata": {},
     "output_type": "display_data"
    },
    {
     "name": "stdout",
     "output_type": "stream",
     "text": [
      "       0.0        0.0\n",
      "     250.0    50000.0\n",
      "     500.0   100000.0\n",
      "     750.0   150000.0\n",
      "    1000.0   200000.0\n",
      "    1250.0   250000.0\n",
      "    1500.0   300000.0\n",
      "    1750.0   350000.0\n",
      "    2000.0   400000.0\n",
      "\n",
      "       0.0   100000.0\n",
      "     250.0   125000.0\n",
      "     500.0   150000.0\n",
      "     750.0   175000.0\n",
      "    1000.0   200000.0\n",
      "    1250.0   225000.0\n",
      "    1500.0   250000.0\n",
      "    1750.0   275000.0\n",
      "    2000.0   300000.0\n",
      "1000.0\n"
     ]
    }
   ],
   "source": [
    "from numpy import *\n",
    "import matplotlib.pyplot as plt\n",
    "from matplotlib.legend_handler import HandlerLine2D\n",
    "\n",
    "F = 100000\n",
    "p = 200\n",
    "c = 100\n",
    "\n",
    "def pto_equ (F, p, c):\n",
    "    Q=F/(p-c)\n",
    "    return Q\n",
    "\n",
    "Q = pto_equ(F,p,c)\n",
    "\n",
    "def plot_recta(p,c, Q):\n",
    "    \n",
    "    \n",
    "    k = 9\n",
    "    ingresos_x = linspace(0, 2*Q, k)\n",
    "    ingresos_y = linspace(0, p*(2*Q), k)\n",
    "    \n",
    "    costos_x = linspace(0, 2*Q, k)\n",
    "    costos_y = linspace(F, F + (c*(2*Q)), k)\n",
    "    \n",
    "    line1, = plt.plot(ingresos_x, ingresos_y, marker='o',label='Ingresos')\n",
    "    line2, = plt.plot(costos_x, costos_y, marker='o', label='Costos')\n",
    "    \n",
    "    plt.legend(handler_map={line1: HandlerLine2D(numpoints=3)})\n",
    "    plt.title(\"Análisis de pto. de Equilibrio\")\n",
    "    plt.xlabel(\"Cantidad Q\")\n",
    "    plt.ylabel('Dolarees')\n",
    "    \n",
    "    #plt.grid(True)\n",
    "    plt.grid(True, linestyle='--', which='major',\n",
    "                   color='gray', alpha=.75)\n",
    "    plt.text(1000, 0, r'Q= {:.1f} und. Pto.Equi. = ${:.1f} '\\\n",
    "             .format(Q, p*Q))\n",
    "\n",
    "    plt.show()\n",
    "    \n",
    "    for i in range(len(ingresos_x)):\n",
    "        print(\"{:10.1f} {:10.1f}\".format(ingresos_x[i], ingresos_y[i]))\n",
    "    print(\"\")\n",
    "    for i in range(len(ingresos_x)):\n",
    "        print(\"{:10.1f} {:10.1f}\".format(costos_x[i], costos_y[i]))\n",
    "\n",
    "plot_recta(p,c,Q)\n",
    "print(pto_equ(F, p, c))\n"
   ]
  },
  {
   "cell_type": "markdown",
   "metadata": {},
   "source": [
    "El análisis del punto de equilibrio no puede indicarle a un gerente si le conviene seguir ade- lante con una idea sobre un nuevo servicio o producto o si debe suprimir una línea existente. La técnica sólo puede mostrar lo que es probable que ocurra de acuerdo con diversos pronósticos de costos y volúmenes de ventas.\n",
    "\n",
    "**análisis de sensibilidad** Técnica para cambiar sistemáticamente los parámetros de un modelo a fin de determinar los efectos de dichos cambios."
   ]
  },
  {
   "cell_type": "markdown",
   "metadata": {},
   "source": [
    "### EJEMPLO A.2 \n",
    "\n",
    "### Análisis de sensibilidad de los pronósticos de ventas\n",
    "\n",
    "\n",
    "\n",
    "Si el pronóstico de ventas más pesimista para el servicio propuesto en la figura A.1 fuera de `1500 pacientes`, ¿cuál sería la contribución total del procedimiento a las utilidades y gastos generales por año?\n",
    "\n",
    "**SOLUCIÓN**\n",
    "El gráfico muestra que aun el pronóstico más pesimista se ubica por encima del volumen de equilibrio, lo que resulta alentador. La contribución total del producto, que se encuentra restando los costos totales de los ingresos totales, es:\n",
    "\n",
    "`pQ - (F + cQ) = 200 * (1.500) - [100.000 + 100(1.500)] = $50.000`\n",
    "\n"
   ]
  },
  {
   "cell_type": "code",
   "execution_count": 2,
   "metadata": {},
   "outputs": [
    {
     "name": "stdout",
     "output_type": "stream",
     "text": [
      "= $50000 al año\n"
     ]
    }
   ],
   "source": [
    "F = 100000\n",
    "p = 200\n",
    "c = 100\n",
    "\n",
    "Q = 1500 # Cantidad de pacientes propuestos\n",
    "\n",
    "x = p * Q - (F + c * Q)\n",
    "print(\"= ${:.0f} al año\".format(x))"
   ]
  },
  {
   "cell_type": "markdown",
   "metadata": {},
   "source": [
    "**Punto de decisión** Aun con el pronóstico más pesimista, el nuevo procedimiento contribuye `$50,000` al año. Después de evaluar la propuesta con el método del valor presente, la gerencia agregó el nuevo procedimiento a los servicios del hospital."
   ]
  },
  {
   "cell_type": "markdown",
   "metadata": {},
   "source": [
    "### Evaluación de procesos\n",
    "\n",
    "Con frecuencia, es preciso elegir entre dos procesos o entre un proceso interno y la compra de servicios o materiales por fuera.\n",
    "En lugar de hallar la cantidad en que el total de los costos es igual al total de los ingresos, el analista calcula la cantidad en la que los costos totales de las dos alternativas son iguales. En el caso de la decisión de fabricar o comprar, se trata de la cantidad en la que el costo total de “comprar” es igual al costo total de “fabricar”.\n",
    "\n",
    "**$F_b$** =  igual al costo fijo (por año) de la opción de comprar.\n",
    "\n",
    "**$F_m$** =  igual al costo fijo de la opción de fabricar.\n",
    "\n",
    "**$c_b$** =  igual al costo variable (por unidad) de la opción de comprar.\n",
    "\n",
    "**$c_m$** =  igual al costo variable de la opción de fabricar. \n",
    "\n",
    "$$F_b + c_bQ = F_m + c_mQ$$\n",
    "\n",
    "$$Q = \\frac{F_m - F_b}{c_b - c_m}$$\n",
    "\n",
    "La opción de fabricar debe tomarse en consideración, pasando por alto los factores cualitativos, sólo si sus costos variables son más bajos que los de la opción de comprar."
   ]
  },
  {
   "cell_type": "markdown",
   "metadata": {},
   "source": [
    "### EJEMPLO A.3\n",
    "\n",
    "### Análisis de punto de equilibrio para decisiones de fabricar o comprar\n",
    "\n",
    "\n",
    "\n",
    "El gerente de un restaurante de comida rápida que vende hamburguesas decide incluir ensaladas en el menú. Existen dos opciones y el precio para el cliente será el mismo con cualquiera de ellas. La opción de fabricar consiste en instalar una barra de ensaladas bien provista de verduras, frutas y aderezos, y dejar que el cliente prepare la ensalada. La barra de ensaladas tendría que pedirse en alquiler y sería necesario contratar un empleado de tiempo parcial que la atendiera. El gerente estima los costos fijos en `$12,000` y cree que los costos variables ascenderán a `$1.50` por ensalada. La opción de comprar consiste en conseguir las ensaladas ya preparadas y listas para la venta. Éstas tendrían que comprarse a un proveedor local a `$2.00` por ensalada. La venta de ensaladas previamente preparadas requeriría la instalación y operación de más refrigeradores, con un costo fijo anual de `$2400`. El gerente espera vender `25.000` en- saladas al año.\n",
    "\n",
    "¿Cuál es la cantidad en la que se alcanza el punto de equilibrio?\n",
    "\n",
    "**SOLUCIÓN**\n",
    "\n",
    "Usando la fórmula del punto de equilibrio se obtiene:\n",
    "\n",
    "$$Q = \\frac{F_m - F_b}{c_b - c_m}$$\n",
    "\n",
    "$$ = \\frac{12.000 - 2.400}{2.0 - 1.5} = 19.200 ensaladas$$\n"
   ]
  },
  {
   "cell_type": "code",
   "execution_count": 3,
   "metadata": {},
   "outputs": [
    {
     "name": "stdout",
     "output_type": "stream",
     "text": [
      "19200.0\n"
     ]
    }
   ],
   "source": [
    "fm = 12000 # costos fijos de fabricacion\n",
    "cm = 1.5 # costos variables de fabricacion\n",
    "fb = 2400 # costos fijos de compra\n",
    "cb = 2.0 # costos variables de compras\n",
    "\n",
    "def evaluacion (fm, cm, fb, cb):\n",
    "    Q = (fm-fb)/(cb-cm)\n",
    "    return Q\n",
    "\n",
    "Q = evaluacion(fm, cm, fb, cb)\n",
    "print(Q)"
   ]
  },
  {
   "cell_type": "markdown",
   "metadata": {},
   "source": [
    "En la figura de abajo se muestra la solución obtenida de análisis de punto de equilibrio. La cantidad en la que se alcanza el punto de equilibrio es de `19,200` ensaladas. En virtud de que el pronóstico de ventas de `25,000` ensaladas es superior a esta cantidad, la opción de fabricar resulta preferible. Sólo si el restaurante esperara vender menos de 19,200 ensaladas, la opción de comprar sería la mejor."
   ]
  },
  {
   "cell_type": "code",
   "execution_count": 4,
   "metadata": {},
   "outputs": [
    {
     "name": "stdout",
     "output_type": "stream",
     "text": [
      "19200.0\n",
      "Las dos líneas se cruzan en Q = 19200 unidades, la cantidad       en la que se alcanza el punto de equilibrio \n"
     ]
    },
    {
     "data": {
      "image/png": "[encoded data removed]",
      "text/plain": [
       "<Figure size 432x288 with 1 Axes>"
      ]
     },
     "metadata": {
      "needs_background": "light"
     },
     "output_type": "display_data"
    },
    {
     "name": "stdout",
     "output_type": "stream",
     "text": [
      "       0.0     2400.0\n",
      "    4800.0    12000.0\n",
      "    9600.0    21600.0\n",
      "   14400.0    31200.0\n",
      "   19200.0    40800.0\n",
      "   24000.0    50400.0\n",
      "   28800.0    60000.0\n",
      "   33600.0    69600.0\n",
      "   38400.0    79200.0\n",
      "\n",
      "       0.0    12000.0\n",
      "    4800.0    19200.0\n",
      "    9600.0    26400.0\n",
      "   14400.0    33600.0\n",
      "   19200.0    40800.0\n",
      "   24000.0    48000.0\n",
      "   28800.0    55200.0\n",
      "   33600.0    62400.0\n",
      "   38400.0    69600.0\n"
     ]
    }
   ],
   "source": [
    "from numpy import *\n",
    "import matplotlib.pyplot as plt\n",
    "from matplotlib.legend_handler import HandlerLine2D\n",
    "\n",
    "fm = 12000 # costos fijos de fabricacion\n",
    "cm = 1.5 # costos variables de fabricacion\n",
    "fb = 2400 # costos fijos de compra\n",
    "cb = 2.0 # costos variables de compras\n",
    "\n",
    "def evaluacion (fm, cm, fb, cb):\n",
    "    Q = (fm-fb)/(cb-cm)\n",
    "    return Q\n",
    "\n",
    "Q = evaluacion(fm, cm, fb, cb)\n",
    "print(Q)\n",
    "\n",
    "\n",
    "def plot_recta(fm, cm, fb, cb, Q):\n",
    "    \n",
    "    k = 9\n",
    "    proceso1_x = linspace(0, 2*Q, k)\n",
    "    proceso1_y = linspace(fb, fb+(cb*(2*Q)), k)\n",
    "    \n",
    "    proceso2_x = linspace(0, 2*Q, k)\n",
    "    proceso2_y = linspace(fm, fm+(cm*(2*Q)), k)\n",
    "    \n",
    "    line1, = plt.plot(proceso1_x, proceso1_y, \"k--\", \\\n",
    "                      color='blue',marker='o',label='proceso 1')\n",
    "    line2, = plt.plot(proceso2_x, proceso2_y, \"k:\",\\\n",
    "                      color='red', marker='o', label='proceso 2')\n",
    "    \n",
    "    plt.legend(handler_map={line1: HandlerLine2D(numpoints=3)})\n",
    "    plt.title(\"Análisis de pto. de Equilibrio\")\n",
    "    plt.xlabel(\"Cantidad (Q)\")\n",
    "    plt.ylabel(\"Dolares\")\n",
    "    plt.grid(True, linestyle='--', which='major',\n",
    "                   color='gray', alpha=.75)\n",
    "    plt.text(1000, 0, r'Q= {:.1f} und. Pto.Equi'.format(Q))\n",
    "    plt.show()\n",
    "    for i in range(len(proceso1_x)):\n",
    "        print(\"{:10.1f} {:10.1f}\".format(proceso1_x[i], proceso1_y[i]))\n",
    "    print(\"\")\n",
    "    for i in range(len(proceso1_x)):\n",
    "        print(\"{:10.1f} {:10.1f}\".format(proceso2_x[i], proceso2_y[i]))\n",
    "\n",
    "#cant = pto_equ(F, p, c)        \n",
    "print(\"Las dos líneas se cruzan en Q = {:.0f} unidades, la cantidad\\\n",
    "       en la que se alcanza el punto de equilibrio \".format(Q))\n",
    "\n",
    "plot_recta(fm, cm, fb, cb, Q)\n"
   ]
  },
  {
   "cell_type": "markdown",
   "metadata": {},
   "source": [
    "### Matriz de preferencias\n",
    "---\n",
    "\n",
    "Con frecuencia es necesario tomar decisiones en situaciones en las que no es posible combinar naturalmente criterios múltiples en una sola medición(e.g U$ Dolares).\n",
    "\n",
    "**matriz de preferencias** Una tabla que permite al gerente calificar una alternativa de acuerdo con varios criterios de desempeño, como del 1 (peor posible) al 10 (mejor posible), o del 0 al 1, con tal de que se aplique la misma escala a todas las alternativas que se desea comparar."
   ]
  },
  {
   "cell_type": "markdown",
   "metadata": {},
   "source": [
    "### EJEMPLO A.4 \n",
    "\n",
    "### Evaluación de una alternativa con una matriz de preferencias\n",
    "\n",
    "\n",
    "\n",
    "La tabla muestra los criterios de desempeño, ponderaciones y puntajes (1=peor, 10=mejor) correspondientes a un nuevo producto: un aparato de aire acondicionado para almacenamiento térmico. Si la gerencia desea lanzar al mercado sólo un nuevo producto y el puntaje total más alto de las ideas sobre otros productos es 800, ¿debe la empresa insistir en fabricar el aparato de aire acondicionado?"
   ]
  },
  {
   "cell_type": "code",
   "execution_count": 5,
   "metadata": {},
   "outputs": [
    {
     "name": "stdout",
     "output_type": "stream",
     "text": [
      "                   Criterio  Ponderacion  Puntaje  Ptje_pond\n",
      "0      Potencial de mercado           30        8        240\n",
      "1      Margen de uti. unit.           20       10        200\n",
      "2  Compatibilidad con opec.           20        6        120\n",
      "3       Ventaja competitiva           15       10        150\n",
      "4   Requisitos de inversion           10        2         20\n",
      "5       Riesgo del proyecto            5        4         20\n"
     ]
    }
   ],
   "source": [
    "import numpy as np\n",
    "import pandas as pd\n",
    "\n",
    "s1 = pd.Series([\"Potencial de mercado\",\"Margen de uti. unit.\",\n",
    "                \"Compatibilidad con opec.\",\"Ventaja competitiva\",\n",
    "                \"Requisitos de inversion\", \"Riesgo del proyecto\"])\n",
    "\n",
    "data = {\"Ponderacion\" : [30,20,20,15,10,5],\n",
    "        \"Puntaje\" : [8,10,6,10,2,4]}\n",
    "\n",
    "# armar el DataFrame\n",
    "index = pd.Series(np.arange(6))\n",
    "df = pd.DataFrame(data, index)\n",
    "df[\"Criterio\"] = s1\n",
    "\n",
    "# Operacion y creacion de columnas\n",
    "pp = df[\"Ponderacion\"] * df[\"Puntaje\"]\n",
    "df = df.assign(Ptje_pond = pp.values)\n",
    "cols = df.columns.tolist()\n",
    "cols = ['Criterio', 'Ponderacion', 'Puntaje', 'Ptje_pond']\n",
    "df = df[cols]\n",
    "\n",
    "# exportar archivo\n",
    "df.to_csv(\"sumplemenoA_eg4.csv\",header=True, index=False)\n",
    "print(df)"
   ]
  },
  {
   "cell_type": "code",
   "execution_count": 6,
   "metadata": {},
   "outputs": [
    {
     "name": "stdout",
     "output_type": "stream",
     "text": [
      "                   Criterio  Ponderacion  Puntaje  Ptje_pond\n",
      "0      Potencial de mercado           30        8        240\n",
      "1      Margen de uti. unit.           20       10        200\n",
      "2  Compatibilidad con opec.           20        6        120\n",
      "3       Ventaja competitiva           15       10        150\n",
      "4   Requisitos de inversion           10        2         20\n",
      "5       Riesgo del proyecto            5        4         20\n",
      "\n",
      "Como el puntaje ponderado es 750 y es menor a 800,el producto no sale a  mercado \n"
     ]
    }
   ],
   "source": [
    "import pandas as pd \n",
    "import numpy as np\n",
    "datos = pd.read_csv(\"sumplemenoA_eg4.csv\")\n",
    "df = pd.DataFrame(datos)\n",
    "print(df)\n",
    "print(\"\")\n",
    "print(\"Como el puntaje ponderado es {} y es menor a 800,\" \n",
    "      \"el producto no sale a  mercado \"\\\n",
    "      .format(df[\"Ptje_pond\"].sum()))"
   ]
  },
  {
   "cell_type": "markdown",
   "metadata": {},
   "source": [
    "**SOLUCIÓN** \n",
    "\n",
    "Puesto que la suma de puntajes ponderados es de 750, no llega al puntaje de 800 que correspondería a otro producto."
   ]
  },
  {
   "cell_type": "markdown",
   "metadata": {},
   "source": [
    "### Teoría de decisiones\n",
    "---\n",
    "\n",
    "**Teoría de decisiones** Aproximación general a la toma de decisiones cuando los resultados correspondientes a las distintas alternativas frecuentemente son dudosos, en cuanto a procesos, capacidad, localización e inventario, porque todas decisiones se refieren a un futuro incierto.\n",
    "\n",
    "Segun esta teoria se debe realizar el siguiente proceso:\n",
    "\n",
    "1. Hacer una lista de las alternativas viables.\n",
    "2. Hacer una lista de los acontecimientos (llamados a veces acontecimientos fortuitos o estados de la naturaleza) que tienen alguna repercusión en el resultado de la opción seleccionada, pero que están fuera del control del gerente. \n",
    "3. Calcular el beneficio de cada alternativa, en cada acontecimiento. \n",
    "\n",
    "**tabla de beneficios** Tabla que muestra el monto que correspondería a cada alternativa si ocurriera en realidad cada uno de los posibles acontecimientos.\n",
    "\n",
    "4. Estimar la posibilidad de que ocurra cada acontecimiento a partir de datos anteriores, opi- niones de los ejecutivos u otros métodos de pronóstico.\n",
    "5. Seleccionar una regla de decisión para evaluar las alternativas; por ejemplo, escoger la alter- nativa que tenga el costo esperado mas bajo.\n",
    "\n",
    "###  Toma de decisiones bajo certidumbre\n",
    "\n",
    "La situación más sencilla se presenta cuando el gerente sabe qué acontecimiento va a ocurrir. En este caso, la regla de decisión consiste en escoger la alternativa que produzca el mejor beneficio con el acontecimiento conocido. "
   ]
  },
  {
   "cell_type": "code",
   "execution_count": null,
   "metadata": {},
   "outputs": [],
   "source": []
  },
  {
   "cell_type": "markdown",
   "metadata": {},
   "source": [
    "### EJEMPLO A.5\n",
    "\n",
    "### Decisiones bajo certidumbre\n",
    "\n",
    "Un gerente tiene que decidir si conviene construir una instalación pequeña o una grande. Mucho depende de la futura demanda que la instalación tenga que atender, y dicha demanda puede ser grande o pequeña. El gerente conoce con certeza los beneficios que producirá cada alternativa, que se muestran la siguiente tabla de beneficios. Los beneficios `(en $000)` son los valores presentes de los ingresos futuros menos los costos que corresponden a cada alternativa, en cada uno de los acontecimientos.\n",
    "\n",
    "\n",
    "| Altrnativas   | Baja | Alta  |\n",
    "| ------------- |:----:| -----:|\n",
    "| Instalacion pequeña      | 200 |  270 |\n",
    "| Instalacion grande     | 160 |    800 |\n",
    "| No hacer nada | 0   |     0 |\n",
    "\n",
    "**SOLUCIÓN**\n",
    "\n",
    "En este ejemplo, la mejor opción es la que produce el beneficio más grande. Si el gerente sabe que la demanda futura va a ser baja, la compañía debe construir una instalación pequeña y disfrutar de un beneficio de `$200,000`. La instalación grande reporta un beneficio de sólo `$160,000`. La alternativa de “no hacer nada” está dominada por las otras alternativas; es decir, el resultado de una alternativa no es mejor que el resultado de la otra en cada acontecimiento. En virtud de que la alternativa de “no hacer nada” está dominada, el gerente la descarta.\n",
    "\n",
    "**Punto de decisión**  Si la gerencia conoce en realidad la demanda futura, construirá la instalación pequeña si la demanda va a ser baja, y la instalación grande, si la demanda va a ser alta. Si la demanda es incierta, debe considerar otras reglas de decisión."
   ]
  },
  {
   "cell_type": "markdown",
   "metadata": {},
   "source": [
    "### Toma de decisiones bajo incertidumbre\n",
    "\n",
    "En este caso, suponemos que el gerente hace la lista de los posibles acontecimientos, pero no pue- de estimar sus respectivas probabilidades.\n",
    "\n",
    "En esa situación, el gerente tiene la posibilidad de aplicar una de cuatro reglas de decisión.\n",
    "\n",
    "1. **Maximin**. Elegir la alternativa que sea “la mejor de las peores”. Esta regla es para el pesimista que prevé el “peor caso” en cada alternativa.\n",
    "\n",
    "2. **Maximax**. Elegir la alternativa que sea “la mejor de las mejores”. Esta regla es para el optimista que tiene grandes expectativas y prefiere “pensar en grande”.\n",
    "\n",
    "3. **Laplace**. Elegir la alternativa que tenga el mejor beneficio ponderado. Para encontrar el beneficio ponderado, debe concederse la misma importancia (o si no, la misma probabilidad) a todos los acontecimientos, Si hay n acontecimientos, la importancia (o probabilidad) de cada uno es 1/n, de manera que la suma de todos será 1.0. Esta regla es para la persona realista.\n",
    "\n",
    "4. **Rechazo minimax**. Elegir la alternativa que tenga el mejor de los “peores rechazos”.\n"
   ]
  },
  {
   "cell_type": "markdown",
   "metadata": {},
   "source": [
    "###  EJEMPLO A.6\n",
    "\n",
    "### Decisiones bajo incertidumbre\n",
    "\n",
    "Considere de nuevo la matriz de beneficios del ejemplo A.5. ¿Cuál es la mejor alternativa para cada regla de decisión?\n",
    "\n",
    "| Altrnativas   | Pesimista | Optimista  |\n",
    "| ------------- |:----:| -----:|\n",
    "| Instalacion pequeña      | 200 |  270 |\n",
    "| Instalacion grande     | 160 |    800 |\n",
    "| No hacer nada | 0   |     0 |\n",
    "\n",
    "\n",
    "**SOLUCIÓN**\n",
    "\n",
    "**a.** Maximin: el peor beneficio de una alternativa es el número más bajo que aparece en la fila respectiva de la matriz de beneficios, porque los beneficios son utilidades. Los peores beneficios `($000)` son:\n",
    "\n",
    "El mejor de esos números peores es `$200,000`, por lo cual el pesimista decidiría construir una instalación pequeña.\n",
    "\n",
    "---\n",
    "\n",
    "**b. Maximax:** el mejor beneficio de una alternativa `($000)` es el número más alto que aparece en la fila respectiva de la matriz de beneficios, o\n",
    "\n",
    "El mejor de esos números mejores es `$800,000`, por lo cual el optimista decidiría construir una instalación grande.\n",
    "\n",
    "---\n",
    "\n",
    "**c. Laplace:** si se trata de dos acontecimientos, asignamos a cada uno una probabilidad de 0.5. Así, los beneficios ponderados `($000)` son:\n",
    "\n",
    "| Altrnativas   | Beneficio ponderado|\n",
    "| ------------- |:---------:| \n",
    "| Instalacion pequeña | 0.5(200) + 0.5(270) = 235 |\n",
    "| Instalacion grande  | 0.5(160) + 0.5(800) = 480  |\n",
    "\n",
    "---\n"
   ]
  },
  {
   "cell_type": "code",
   "execution_count": 7,
   "metadata": {},
   "outputs": [
    {
     "name": "stdout",
     "output_type": "stream",
     "text": [
      "           aternativas  pesimista  optimista  benef_pond\n",
      "0  instalacion pequena        200        270       235.0\n",
      "1   instalacion grande        160        800       480.0\n",
      "\n",
      "el mejor beneficio ponderado es 480.0\n"
     ]
    }
   ],
   "source": [
    "import pandas as pd \n",
    "import numpy as np\n",
    "\n",
    "df = pd.read_csv(\"tabla_benef.csv\", sep=\";\")\n",
    "\n",
    "pond = 0.5\n",
    "resul = df[\"pesimista\"]*pond + df[\"optimista\"]*pond\n",
    "df = df.assign(benef_pond = resul)\n",
    "x = df[\"benef_pond\"].max()\n",
    "print(df)\n",
    "print(\"\")\n",
    "print(\"el mejor beneficio ponderado es {}\".format(x))"
   ]
  },
  {
   "cell_type": "markdown",
   "metadata": {},
   "source": [
    "El mejor de esos beneficios ponderados es `$480,000`, por lo cual la persona realista optaría por construir una ins- talación grande.\n",
    "\n",
    "---"
   ]
  },
  {
   "cell_type": "markdown",
   "metadata": {},
   "source": [
    "**d. Rechazo minimax:** si la demanda resulta ser baja, la mejor alternativa es una instalación pequeña y su rechazo es 0 (o sea, 200 – 200). Si se construye una instalación grande cuando la demanda resulta ser baja, el rechazo es 40 (o sea, 200 – 160).\n",
    "\n",
    "| Altrnativas        | Demanada Baja | Demanada Alta  | Rechazo mximo  |\n",
    "| ------------------ |:----:|------:|------:|\n",
    "| Instalacion pequeña|  200 - 200 =  0 | 800 - 270 = 530 |   530 |\n",
    "| Instalacion grande |  200 - 160 = 40 |   800 - 800 = 0 |    40 |\n",
    "\n",
    "La columna de la derecha muestra el peor rechazo en cada una de las alternativas. Para minimizar el rechazo máximo, se elige una instalación grande. El mayor rechazo se produce en el caso en que se tiene sólo una instalación pequeña y hay una gran demanda.\n",
    "\n",
    "**Punto de decisión** El pesimista elegiría la instalación pequeña. El realista, el optimista y el gerente que opta por minimizar el rechazo máximo construirían la instalación grande.\n"
   ]
  },
  {
   "cell_type": "code",
   "execution_count": 8,
   "metadata": {},
   "outputs": [
    {
     "name": "stdout",
     "output_type": "stream",
     "text": [
      "           aternativas  pesimista  optimista  Rechazo Max.\n",
      "0  instalacion pequena        200        270           530\n",
      "1   instalacion grande        160        800            40\n"
     ]
    }
   ],
   "source": [
    "import pandas as pd \n",
    "import numpy as np\n",
    "\n",
    "df = pd.read_csv(\"tabla_benef.csv\", sep=\";\")\n",
    "\n",
    "pes = df[\"pesimista\"].max()\n",
    "opt = df[\"optimista\"].max()\n",
    "\n",
    "r1 = pes - df[\"pesimista\"]\n",
    "r2 = opt - df[\"optimista\"]\n",
    "df[\"Rechazo Max.\"] = r1 + r2\n",
    "\n",
    "\n",
    "#df.loc[:, \"pesimista\" : \"optimista\"].apply(max, axis=1)\n",
    "#df[\"test\"] = df.loc[:, \"pesimista\" : \"optimista\"].apply(sum, axis=1)\n",
    "\n",
    "\n",
    "print(df)\n"
   ]
  },
  {
   "cell_type": "markdown",
   "metadata": {},
   "source": [
    "### Toma de decisiones bajo riesgo\n",
    "\n",
    "La regla de decisión del valor esperado se usa muy a menudo en estas situaciones intermedias. El valor esperado de una alternativa se encuentra ponderando cada beneficio con su probabilidad asociada y sumando después los puntajes de los beneficios ponderados. Se elige la alternativa que tenga el mejor valor esperado (el más alto si se trata de utilidades y el más bajo si se refiere a costos)."
   ]
  },
  {
   "cell_type": "markdown",
   "metadata": {},
   "source": [
    "### EJEMPLO A.7\n",
    "\n",
    "### Ejemplo A.7 Decisiones bajo riesgo\n",
    "\n",
    "Considere de nuevo la matriz de beneficios del ejemplo A.5. Para la regla de decisión del valor esperado, ¿cuál es la mejor alternativa si la probabilidad de que la demanda sea pequeña se estima en 0.4 y la probabilidad de que la demanda sea grande se estima en 0.6?\n",
    "\n",
    "**SOLUCIÓN**\n",
    "\n",
    "El valor esperado para cada alternativa es:\n",
    "\n",
    "| Altrnativas   | Valor esperado |\n",
    "| ------------- |:---------:| \n",
    "| Instalacion pequeña | 0.4(200) + 0.6(270) = 242 |\n",
    "| Instalacion grande  | 0.4(160) + 0.6(800) = 544  |"
   ]
  },
  {
   "cell_type": "code",
   "execution_count": 9,
   "metadata": {},
   "outputs": [
    {
     "name": "stdout",
     "output_type": "stream",
     "text": [
      "           aternativas  pesimista  optimista  Valor esperado\n",
      "0  instalacion pequena        200        270           242.0\n",
      "1   instalacion grande        160        800           544.0\n",
      "\n",
      "Mejor resultado es 544.0\n"
     ]
    }
   ],
   "source": [
    "import pandas as pd \n",
    "import numpy as np\n",
    "\n",
    "df = pd.read_csv(\"tabla_benef.csv\", sep=\";\")\n",
    "\n",
    "dp = 0.4\n",
    "dg = 0.6\n",
    "\n",
    "df[\"Valor esperado\"] = df[\"pesimista\"] * dp + df[\"optimista\"] * dg\n",
    "x = df[\"Valor esperado\"].max()\n",
    "print(df)\n",
    "print(\"\")\n",
    "print(\"Mejor resultado es {}\".format(x))"
   ]
  },
  {
   "cell_type": "markdown",
   "metadata": {},
   "source": [
    "**Punto de decisión** La gerencia escogería una instalación grande si siguiera la regla de decisión del valor esperado, porque ésta ofrece los mejores resultados a largo plazo si se aplica sistemáticamente a través del tiempo."
   ]
  },
  {
   "cell_type": "raw",
   "metadata": {},
   "source": []
  },
  {
   "cell_type": "markdown",
   "metadata": {},
   "source": [
    "### Problema Resuelto 1\n",
    "\n",
    "La propietaria de una pequeña empresa manufacturera ha patentado un nuevo dispositivo para lavar platos y limpiar fregaderos de cocina sucios.\n",
    "\n",
    "Antes de tratar de comercializar el dispositivo y agregarlo a su línea de productos actual, desea asegurarse, dentro de razonable, de que tendrá éxito. Los costos variables se han estimado en `$7` por unidad producida y vendida. Los costos fijos ascienden aproximadamente a `$56,000` al año.\n",
    "\n",
    "**a.** Si el precio de venta se establece en `$25`, ¿cuántas unidades deberán fabricarse y venderse para alcanzar el punto de equilibrio? Use los métodos algebraico y gráfico.\n",
    "\n",
    "**b.** Las ventas pronosticadas para el primer año son de `10,000` unidades si el precio se reduce a `$15`. Con esta estrategia de precios, ¿cuál sería la contribución total del producto a las utilidades en el primer año?"
   ]
  },
  {
   "cell_type": "code",
   "execution_count": 10,
   "metadata": {},
   "outputs": [
    {
     "name": "stdout",
     "output_type": "stream",
     "text": [
      "Las dos líneas se cruzan en Q = 3111 unidades, la cantidad       en la que se alcanza el punto de equilibrio \n"
     ]
    },
    {
     "data": {
      "image/png": "[encoded data removed]",
      "text/plain": [
       "<Figure size 432x288 with 1 Axes>"
      ]
     },
     "metadata": {
      "needs_background": "light"
     },
     "output_type": "display_data"
    },
    {
     "name": "stdout",
     "output_type": "stream",
     "text": [
      "       0.0        0.0\n",
      "     777.8    19444.4\n",
      "    1555.6    38888.9\n",
      "    2333.3    58333.3\n",
      "    3111.1    77777.8\n",
      "    3888.9    97222.2\n",
      "    4666.7   116666.7\n",
      "    5444.4   136111.1\n",
      "    6222.2   155555.6\n",
      "\n",
      "       0.0    56000.0\n",
      "     777.8    61444.4\n",
      "    1555.6    66888.9\n",
      "    2333.3    72333.3\n",
      "    3111.1    77777.8\n",
      "    3888.9    83222.2\n",
      "    4666.7    88666.7\n",
      "    5444.4    94111.1\n",
      "    6222.2    99555.6\n"
     ]
    }
   ],
   "source": [
    "from numpy import *\n",
    "import matplotlib.pyplot as plt\n",
    "from matplotlib.legend_handler import HandlerLine2D\n",
    "%matplotlib inline\n",
    "\n",
    "F = 56000\n",
    "p = 25\n",
    "c = 7\n",
    "\n",
    "def pto_equ (F, p, c):\n",
    "    Q=F/(p-c)\n",
    "    return Q\n",
    "\n",
    "Q = pto_equ(F,p,c)\n",
    "\n",
    "def plot_recta(p, c, Q, F):\n",
    "    \n",
    "    k = 9\n",
    "    ingresos_x = linspace(0, 2*Q, k)\n",
    "    ingresos_y = linspace(0, p*(2*Q), k)\n",
    "    \n",
    "    costos_x = linspace(0, 2*Q, k)\n",
    "    costos_y = linspace(F, F + (c*(2*Q)), k)\n",
    "    \n",
    "    line1, = plt.plot(ingresos_x, ingresos_y, \"k--\", \\\n",
    "                      color='blue',marker='o',label='Ingresos')\n",
    "    line2, = plt.plot(costos_x, costos_y, \"k:\",\\\n",
    "                      color='red', marker='o', label='Costos')\n",
    "    \n",
    "    plt.legend(handler_map={line1: HandlerLine2D(numpoints=3)})\n",
    "    plt.title(\"Análisis de pto. de Equilibrio\")\n",
    "    plt.xlabel(\"Cantidad Q\")\n",
    "    plt.ylabel('Dolarees')\n",
    "    plt.grid(True, color=\"0.7\", linestyle= \"-\", which=\"both\", axis=\"both\")\n",
    "    plt.text(1000, 0, r'Q= {:.1f} und. Pto.Equi. = ${:.1f} '\\\n",
    "             .format(Q, p*Q))\n",
    "    plt.ylim([-5000, 160000])\n",
    "    plt.xlim([-100, 6500])\n",
    "    plt.show()\n",
    "    for i in range(len(ingresos_x)):\n",
    "        print(\"{:10.1f} {:10.1f}\".format(ingresos_x[i], ingresos_y[i]))\n",
    "    print(\"\")\n",
    "    for i in range(len(ingresos_x)):\n",
    "        print(\"{:10.1f} {:10.1f}\".format(costos_x[i], costos_y[i]))\n",
    "\n",
    "cant = pto_equ(F, p, c)        \n",
    "print(\"Las dos líneas se cruzan en Q = {:.0f} unidades, la cantidad\\\n",
    "       en la que se alcanza el punto de equilibrio \".format(cant))\n",
    "\n",
    "plot_recta(p,c,Q,F)\n",
    "\n"
   ]
  },
  {
   "cell_type": "markdown",
   "metadata": {},
   "source": [
    "**b.** Contribución total a las utilidades = Ingreso total – Costo total\n",
    "$$\n",
    " = pQ - (F + cQ)\n",
    "$$"
   ]
  },
  {
   "cell_type": "code",
   "execution_count": 11,
   "metadata": {},
   "outputs": [
    {
     "name": "stdout",
     "output_type": "stream",
     "text": [
      "= $24000 al año\n"
     ]
    }
   ],
   "source": [
    "F = 56000\n",
    "p = 15\n",
    "c = 7\n",
    "\n",
    "Q = 10000 # Cantidad de ventas de dispositivos(por sobre los 3.111)\n",
    "\n",
    "utilidades = p * Q - (F + c * Q)\n",
    "\n",
    "print(\"= ${:.0f} al año\".format(utilidades))"
   ]
  },
  {
   "cell_type": "markdown",
   "metadata": {},
   "source": [
    "### Problema Resuelto 2\n",
    "\n",
    "Binford Tool Company está evaluando tres ideas sobre nuevos productos, A, B y C. Las restricciones de recursos permiten que solo uno de ellos se comercialice. Los criterios de desempeño y las calificaciones, en una escala de 1 (peor) a 10 (mejor), se muestran en la siguiente tabla. Los gerentes de Binford han asignado <span style=\"color:red;\">ponderaciones iguales</span> a los criterios de desempeño. ¿Cuál es la mejor alternativa, según el método de la matriz de preferencias?"
   ]
  },
  {
   "cell_type": "code",
   "execution_count": 12,
   "metadata": {},
   "outputs": [
    {
     "name": "stdout",
     "output_type": "stream",
     "text": [
      "\n",
      "La mejor alternativa es = 6.8\n"
     ]
    }
   ],
   "source": [
    "import numpy as np\n",
    "import pandas as pd\n",
    "\n",
    "df = pd.DataFrame({\"Producto A\": [3,7,10,4,4],\n",
    "                    \"Producto B\": [9,8,4,7,6],\n",
    "                    \"Producto C\": [2,6,8,6,5]})\n",
    "\n",
    "cd = [\"Incertidumbre a demanda y riesgo\",\n",
    "\"Semejanza con productos actuales\",\n",
    "\"Rendimiento esperado de la inversión (ROI)\",\n",
    "\"Compatibilidad con los procesos manufactureros actuales\",\n",
    "\"Ventaja competitiva\"]\n",
    "\n",
    "pond = 1 / (len(df))\n",
    "\n",
    "\n",
    "print(\"\")\n",
    "print(\"La mejor alternativa es = {:2.1f}\"\\\n",
    "      .format(max(df.sum() * pond)))    \n",
    "    "
   ]
  },
  {
   "cell_type": "code",
   "execution_count": 13,
   "metadata": {
    "scrolled": true
   },
   "outputs": [
    {
     "data": {
      "text/plain": [
       "6.8"
      ]
     },
     "execution_count": 13,
     "metadata": {},
     "output_type": "execute_result"
    }
   ],
   "source": [
    "import pandas as pd\n",
    "df = pd.DataFrame(\n",
    "    [[\"Incertidumbre a demanda y riesgo\", 3, 9, 2],\n",
    "     [\"Semejanza con productos actuales\", 7, 8, 6],\n",
    "     [\"Rendimiento esperado de la inversión\", 10, 4 ,8],\n",
    "     [\"Compatibilidad a procesos actuales\", 4, 7, 6],\n",
    "     [\"Ventaja competitiva\", 4, 6, 5]],\n",
    "     index=[0, 1, 2, 3, 4],\n",
    "     columns=[\"Descripcion\",\"A\", \"B\", \"C\"])\n",
    "\n",
    "max(df.mean())"
   ]
  },
  {
   "cell_type": "markdown",
   "metadata": {},
   "source": [
    "### Problema Resuelto 3\n",
    "\n",
    "Adele Weiss administra la florería de la universidad. Los pedidos de flores a su proveedor, en Méxi- co, deben hacerse con tres días de anticipación. A pesar de que el día de San Valentín se acerca rápidamente, las ventas se generan casi en su totalidad por compras impulsivas de último minuto. Las ventas hechas con anticipación son tan pequeñas que Weiss no puede estimar las probabi- lidades de que la demanda de rosas rojas sea baja (25 docenas), mediana (60 docenas) o alta (130 docenas) cuando llegue el gran día. Ella compra las rosas a `$15` la docena y las vende a `$40` la docena. Construya una tabla de beneficios. ¿Qué decisión indica cada uno de los siguientes crite- rios de decisión?\n",
    "\n",
    "    a. Maximin\n",
    "    b. Maximax\n",
    "    c. Laplace\n",
    "    d. Rechazo minimax\n",
    "    \n",
    "**SOLUCIÓN**\n",
    "\n",
    "La tabla de beneficios para este problema es:"
   ]
  },
  {
   "cell_type": "code",
   "execution_count": 14,
   "metadata": {},
   "outputs": [
    {
     "name": "stdout",
     "output_type": "stream",
     "text": [
      "Criterio maximin es  625\n",
      "Criterio maximax es  3250\n"
     ]
    }
   ],
   "source": [
    "import pandas as pd\n",
    "import numpy as np\n",
    "\n",
    "compra1 = 25\n",
    "compra2 = 60\n",
    "compra3 = 130\n",
    "#alt4 = 0\n",
    "\n",
    "compras = [compra1, compra2, compra3]\n",
    "\n",
    "baja = 25\n",
    "media = 60\n",
    "alta = 130\n",
    "#na = 0\n",
    "\n",
    "demanda = [baja, media, alta]\n",
    "rest = []\n",
    "\n",
    "for i in range(len(compras)):\n",
    "    for j in range(len(compras)):\n",
    "        if compras[i] > demanda[j]:\n",
    "            rest.append(compras[j]*40 - compras[j]*15)\n",
    "        else:\n",
    "            rest.append(demanda[i] * 40 - compras[j] * 15)\n",
    "\n",
    "df = pd.Series(rest).T\n",
    "df2 =(df.values.reshape(3,3).T).copy()\n",
    "\n",
    "s1 = pd.DataFrame(df2, index=[0,1,2], columns=[\"A\", \"B\", \"C\"])\n",
    "print(\"Criterio maximin es \",s1.A.max())\n",
    "print(\"Criterio maximax es \",s1.C.max())"
   ]
  },
  {
   "cell_type": "code",
   "execution_count": null,
   "metadata": {},
   "outputs": [],
   "source": []
  },
  {
   "cell_type": "markdown",
   "metadata": {},
   "source": [
    "### Problema Resuelto 4\n",
    "\n",
    "White Valley Ski Resort está planeando la instalación de ascensores en su nuevo centro recreativo para esquiadores. La gerencia de la empresa está tratando de determinar si sería conveniente instalar uno o dos ascensores; cada uno puede transportar a 250 personas todos los días. Habitualmente, los esquiadores practican este deporte en un periodo de 14 semanas, comprendido entre diciembre y abril, durante el cual el ascensor funcionará los siete días de la semana. El primer ascensor funcionará a 90% de su capacidad si las condiciones económicas son adversas, y se cree que la probabilidad de que en efecto lo sean es de `0.3` aproximadamente. En tiempos normales, el primer ascensor se utilizará a 100% de su capacidad, y los usuarios excedentes proveerán 50% de la utilización del segundo ascensor. La probabilidad de que los tiempos sean normales es de `0.5`. Finalmente, si los tiempos son realmente buenos, a lo cual corresponde una probabilidad de `0.2`, la utilización del segundo ascensor aumentará a 90%. El costo anual equivalente a la instalación de un nuevo ascensor, reconociendo el valor del dinero en el tiempo y la vida económica del ascensor, es de `$50,000`. El costo anual de la instalación de dos ascensores es de sólo `$90,000`, si ambos se compran al mismo tiempo. Si se decide utilizarlos, la operación de cada ascensor costará `$200,000`, independientemente de cuán alta o baja sea su tasa de utilización. Los pasajes para el ascensor costarán `$20` por cliente, por día.\n",
    "\n",
    "¿Debe comprar uno o dos ascensores este centro recreativo?\n",
    "\n",
    "**SOLUCIÓN**\n",
    "\n",
    "El árbol de decisiones se presenta en la figura A.7. El beneficio (`$000`) que corresponde a cada una de las ramas de alternativa y acontecimiento se indica en la tabla siguiente. Los ingresos totales generados por un ascensor que funcionara a 100% de su capacidad serían de `$490,000` (o sea, 250 clientes   98 días   `$20`/cliente-día)."
   ]
  },
  {
   "cell_type": "code",
   "execution_count": 15,
   "metadata": {},
   "outputs": [
    {
     "name": "stdout",
     "output_type": "stream",
     "text": [
      "el beneficio con un ascensor es 225300.0\n",
      "el beneficio con dos ascensor es 256000.0\n"
     ]
    }
   ],
   "source": [
    "import pandas as pd\n",
    "import numpy as np\n",
    "\n",
    "tbua = 1.\n",
    "tnua = 1.\n",
    "tmua = 0.9\n",
    "tbda = 1.9\n",
    "tnda = 1.5\n",
    "tmda = 0.9\n",
    "\n",
    "ua = 50000\n",
    "da = 90000\n",
    "\n",
    "acs = [ua, da]\n",
    "\n",
    "operacion = 200000\n",
    "cap_100 = 490000\n",
    "\n",
    "probtm = 0.3\n",
    "probtn = 0.5\n",
    "probtb = 0.2\n",
    "\n",
    "\n",
    "prob = [probtm, probtn, probtb]\n",
    "tiempos = [tmua, tnua, tbua]\n",
    "tiempos2 = [0.9, 1.5, 1.9]\n",
    "operacion2 = [1,2,2]\n",
    "\n",
    "\n",
    "resultados = []\n",
    "\n",
    "for i in range(2):\n",
    "    for j in range(3):\n",
    "        if acs[i] == da:\n",
    "            resultados.append((cap_100)*tiempos2[j] - (acs[i]\\\n",
    "                                + (operacion * operacion2[j])))\n",
    "        else:\n",
    "            resultados.append(cap_100*tiempos[j] - (acs[i] + operacion) )\n",
    "        \n",
    "df = (pd.DataFrame(resultados, columns=[\"A\"]))\n",
    "        \n",
    "df2 = df.values.reshape(2,3)\n",
    "x = df2 * prob\n",
    "suma = x.sum(1) # suma en el eje horizontal\n",
    "\n",
    "print(\"el beneficio con un ascensor es\", suma[0])\n",
    "print(\"el beneficio con dos ascensor es\", suma[1])"
   ]
  },
  {
   "cell_type": "code",
   "execution_count": null,
   "metadata": {},
   "outputs": [],
   "source": []
  }
 ],
 "metadata": {
  "kernelspec": {
   "display_name": "Python 3",
   "language": "python",
   "name": "python3"
  },
  "language_info": {
   "codemirror_mode": {
    "name": "ipython",
    "version": 3
   },
   "file_extension": ".py",
   "mimetype": "text/x-python",
   "name": "python",
   "nbconvert_exporter": "python",
   "pygments_lexer": "ipython3",
   "version": "3.6.8"
  }
 },
 "nbformat": 4,
 "nbformat_minor": 2
}
