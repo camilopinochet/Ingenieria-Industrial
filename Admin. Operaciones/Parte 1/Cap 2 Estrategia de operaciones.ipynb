{
 "cells": [
  {
   "cell_type": "markdown",
   "metadata": {},
   "source": [
    "- <a href=\"#Pregunta-1\">Pregunta 1</a>\n",
    "- <a href=\"#Pregunta-2\">Pregunta 2</a>\n",
    "- <a href=\"#Pregunta-3\">Pregunta 3</a>\n",
    "- <a href=\"#Pregunta-4\">Pregunta 4</a>\n",
    "- <a href=\"#Pregunta-5\">Pregunta 5</a>\n",
    "- <a href=\"#Pregunta-6\">Pregunta 6</a>\n",
    "- <a href=\"#Pregunta-7\">Pregunta 7</a>\n",
    "- <a href=\"#Pregunta-8\">Pregunta 8</a>\n",
    "- <a href=\"#Pregunta-9\">Pregunta 9</a>\n",
    "- <a href=\"#Pregunta-10\">Pregunta 10</a>\n",
    "- <a href=\"#Pregunta-11\">Pregunta 11</a>\n",
    "- <a href=\"#Pregunta-12\">Pregunta 12</a>\n",
    "- <a href=\"#Pregunta-13\">Pregunta 13</a>\n"
   ]
  },
  {
   "cell_type": "markdown",
   "metadata": {},
   "source": [
    "## `Capitulo 2  Estrategia de operaciones`\n",
    "\n",
    "### Estrategia de operaciones en la organización\n",
    "### Desarrollo de una estrategia de operación impulsada por el cliente\n",
    " - Estrategia corporativa\n",
    " - Estrategias globales\n",
    " - Análisis de mercado\n",
    "\n",
    "### Prioridades y capacidades competitivas\n",
    " - Costo\n",
    " - Calidad\n",
    "\n",
    "### Práctica administrativa `2.1`\n",
    "### Uso de las operaciones para obtener utilidades en Costco\n",
    "\n",
    " - Tiempo\n",
    " - Flexibilidad\n",
    "\n",
    "### Práctica administrativa `2.2`\n",
    "#### Construcción de portaaviones sobre pedido del cliente\n",
    " - Ganadores y calificadores de pedidos\n",
    " - Uso de las prioridades competitivas: ejemplo de una aerolínea\n",
    "#### Desarrollo de nuevos servicios o productos\n",
    " - Estrategias de desarrollo\n",
    " - Definición de servicios y productos\n",
    " - Proceso de desarrollo\n",
    "#### Estrategia de operaciones como patrón de decisiones\n",
    " - CD-ROM del estudiante y recursos en Internet (en inglés)\n",
    " - Términos clave\n",
    " - Preguntas para discusión\n",
    " - Caso BSB, Inc., la guerra de las pizzas llega al campus\n",
    "\n",
    "#### Referencias bibliográficas\n",
    "\n",
    "---"
   ]
  },
  {
   "cell_type": "markdown",
   "metadata": {},
   "source": [
    "### `Estrategia de operaciones`\n",
    "\n",
    "**Estrategia de operaciones** Medio por el cual el área de operaciones implementa la estrategia corporativa y contribuye a crear una compañía impulsada por el cliente.\n",
    "\n",
    "La estrategia de operaciones vincula las decisiones de operaciones, a corto y largo plazo, con la estrategia corporativa y desarrolla las capacidades que la empresa necesita para ser competitiva.\n",
    "\n",
    "\n",
    "### `Estrategia de operaciones en la organización`\n",
    "\n",
    "- La estrategia corporativa considera a la organización como un sistema de partes interconectadas, o áreas funcionales, cada una trabajando en armonía con las demás para alcanzar las metas deseadas.\n",
    "- La estrategia de operaciones, que sustenta a la estrategia corporativa, también exige una conexión estrecha entre las áreas funcionales\n",
    "- La estrategia de operaciones especifica la estrategia general de servicios o manufactura y comprende un patrón de decisiones que afectan los procesos, sistemas y procedimientos de la empresa.\n",
    "\n",
    "### `Desarrollo de una estrategia de operación impulsada por el cliente`\n",
    "\n",
    "\n"
   ]
  },
  {
   "cell_type": "code",
   "execution_count": null,
   "metadata": {},
   "outputs": [],
   "source": []
  },
  {
   "cell_type": "markdown",
   "metadata": {},
   "source": [
    "### Pregunta 1\n",
    "\n",
    "En un principio, el crecimiento exponencial del desarrollo de las tecnologías informáticas alentó el nacimiento de muchas empresas de Internet. Internet permitió a estas compañías llegar a los clientes de maneras eficaces. Considere a Amazon. com, cuyo sitio Web recibe millones de visitas todos los días y pone a los clientes en contacto con más de 18 millones de servicios y productos. ¿Cuáles son las prioridades competitivas de Amazon.com y en qué debe centrarse su estrategia de operaciones?"
   ]
  },
  {
   "cell_type": "code",
   "execution_count": null,
   "metadata": {},
   "outputs": [],
   "source": []
  },
  {
   "cell_type": "markdown",
   "metadata": {},
   "source": [
    "### Pregunta 2\n",
    "\n",
    "Un hospital local ha anunciado que se compromete a brindar atención en menos de 15 minutos a los pacientes que llegan a la unidad de urgencias y que nunca rechazará a los pacientes que requieran hospitalización para recibir tratamiento médico adicional. ¿Qué repercusiones tiene este compromiso en las decisiones estratégicas de la administración de operaciones (por ejemplo, las decisiones relacionadas con la capacidad y el personal)?"
   ]
  },
  {
   "cell_type": "code",
   "execution_count": null,
   "metadata": {},
   "outputs": [],
   "source": []
  },
  {
   "cell_type": "markdown",
   "metadata": {},
   "source": [
    "### Pregunta 3\n",
    "\n",
    "FedEx levantó su negocio con base en la entrega rápida y confiable de artículos enviados por vía aérea de una empresa a otra. Entre las primeras ventajas que ofreció estuvo la posibilidad de rastrear envíos en todo el mundo mediante el uso de tecnología Web. Los adelantos en la tecnología de Internet permitieron a los competidores volverse mucho más sofisticados en el seguimiento de pedidos. Además, con el advenimiento de las empresas de Internet aumentó la presión para incrementar las entregas por transporte terrestre. Explique cómo este cambio en el entorno podría afectar la estrategia de operaciones de FedEx, especialmente en relación con UPS, que tiene una posición fuerte en el negocio de envíos de empresa a consumidor por vía terrestre."
   ]
  },
  {
   "cell_type": "code",
   "execution_count": null,
   "metadata": {},
   "outputs": [],
   "source": []
  },
  {
   "cell_type": "markdown",
   "metadata": {},
   "source": [
    "### Pregunta 4\n",
    "\n",
    "Entender el paquete de servicios permite a la gerencia identificar formas de adquirir ventaja competitiva en el mercado. ¿Cuáles considera usted que sean los componentes del paquete de servicios en el suministro de lo siguiente?\n",
    "\n",
    "- a. Una póliza de seguro de automóvil.\n",
    "- b. La colocación de una corona por undentista.\n",
    "- c. Un vuelo de una aerolínea.\n"
   ]
  },
  {
   "cell_type": "code",
   "execution_count": null,
   "metadata": {},
   "outputs": [],
   "source": []
  },
  {
   "cell_type": "markdown",
   "metadata": {},
   "source": [
    "### Pregunta 5\n",
    "\n",
    "Suponga que está realizando un análisis de mercado para un nuevo libro de texto sobre administración de tecnologías. ¿Qué necesitaría saber para identificar un segmento de mercado? ¿Cómo realizaría una evaluación de necesidades? ¿Cuál podría ser el conjunto de servicios y productos?"
   ]
  },
  {
   "cell_type": "code",
   "execution_count": null,
   "metadata": {},
   "outputs": [],
   "source": []
  },
  {
   "cell_type": "markdown",
   "metadata": {},
   "source": [
    "### Pregunta 6\n",
    "\n",
    "Aun cuando las nueve prioridades competitivas mencionadas en el capítulo son pertinentes para el éxito de una compañía en el mercado, explique por qué las empresas no tienen que sobresalir necesariamente en todas ellas. ¿Qué determina la elección de las prioridades competitivas en las que una compañía debe poner mayor interés?"
   ]
  },
  {
   "cell_type": "code",
   "execution_count": null,
   "metadata": {},
   "outputs": [],
   "source": []
  },
  {
   "cell_type": "markdown",
   "metadata": {},
   "source": [
    "### Pregunta 7\n",
    "\n",
    "La elección de los procesos centrales para la posición competitiva de una empresa es una decisión estratégica clave. Por ejemplo, Nike, una compañía de calzado deportivo popular, se centra en la relación con los clientes, el desarrollo de nuevos productos y la relación con los proveedores, y deja el proceso de surtido de pedidos a otros. Edmonds, una compañía de calzado de calidad superior, considera que los cuatro procesos son centrales. ¿Qué tomaría usted en consideración para determinar cuáles procesos deberían ser centrales en una empresa manufacturera?"
   ]
  },
  {
   "cell_type": "code",
   "execution_count": null,
   "metadata": {},
   "outputs": [],
   "source": []
  },
  {
   "cell_type": "markdown",
   "metadata": {},
   "source": [
    "### Pregunta 8\n",
    "\n",
    "Un restaurante local de comida rápida procesa los pedidos de varios clientes al mismo tiempo. Los empleados de servicio se entrecruzan, e incluso llegan a estar a punto de chocar, en su búsqueda de rutas diferentes para atender los pedidos de la clientela. Si algún cliente les pide una combinación especial de aderezos en sus hamburguesas, tendrá que esperar mucho tiempo mientras la cocina prepara el pedido especial. ¿Cómo modificaría usted las operaciones del restaurante para lograr la ventaja competitiva? Debido a que la demanda se multipli ca a la hora de la comida, la flexibilidad de volumen es una prioridad competitiva en el negocio de comida rápida. ¿Cómo lograría usted esa flexibilidad de volumen?"
   ]
  },
  {
   "cell_type": "code",
   "execution_count": null,
   "metadata": {},
   "outputs": [],
   "source": []
  },
  {
   "cell_type": "markdown",
   "metadata": {},
   "source": [
    "### Pregunta 9\n",
    "\n",
    "Kathryn Shoemaker fundó el restaurante Grandmother’s Chicken, en Middlesburg, hace cinco años. Ahí sirve una singular receta de pollo “como la abuela acostumbraba cocinarlo”. El local es acogedor, con servicio relajado y agradable. El negocio ha marchado bien en los dos últimos años, tanto a la hora de la comida como durante la cena. Normalmente, los clientes esperan unos 15 minutos a que les sirvan, pero las quejas por el retraso en el servicio han aumentado. Shoemaker está pensando si le conviene ampliar sus instalaciones actuales o si sería mejor abrir un restaurante similar en la población vecina de Uniontown, que crece rápidamente.\n",
    "\n",
    "- a. ¿Qué tipo de planes estratégicos debe hacer Shoemaker?\n",
    "- b. ¿Qué fuerzas del entorno, que podrían presentarse en Middlesburg y Uniontown, debe tomar en consideración Shoemaker?\n",
    "- c. ¿Cuáles son las posibles competencias distintivas de Grandmother’s?\n"
   ]
  },
  {
   "cell_type": "code",
   "execution_count": null,
   "metadata": {},
   "outputs": [],
   "source": []
  },
  {
   "cell_type": "markdown",
   "metadata": {},
   "source": [
    "### Pregunta 10\n",
    "\n",
    "Russell’s Pharmacy ha estado establecida desde hace 20años en la plaza municipal de River City, la única población en más de 30 kilómetros a la redonda. La economía de River City está dominada por la agricultura y generalmente sube y baja con el precio del maíz. No obstante, Russell’s Pharmacy es un negocio que disfruta de estabilidad. Jim Russell trata con familiaridad a todos los pobladores del lugar. Les ofrece un servicio amigable y preciso, escucha con paciencia las quejas acerca de la salud y conoce la historia clínica familiar de todos los habitantes. Lleva un inventario de los medicamentos que requieren sus clientes regulares, pero a veces se retrasa un día en surtir recetas nuevas. Sin embargo, no puede conseguir los fármacos al mismo precio bajo que las grandes cadenas farmacéuticas. Últimamente, han surgido problemas en River City y varios edificios que rodean la plaza municipal han quedado abandonados o se usan como depósitos de automóviles viejos. El poblado muestra síntomas de que se marchita junto con la granja familiar. A 30 kilómetros corriente arriba, en una isla grande del río, se localiza el floreciente poblado de Large Island. Russell está pensando en la posibilidad de mudarse al Centro Comercial Conestoga, en Large Island.\n",
    "\n",
    "- a. ¿Qué tipo de planes estratégicos debe hacer Russell?\n",
    "- b. ¿Qué fuerzas del entorno podrían entrar en acción que Russell debe tomar en consideración?\n",
    "- c. ¿Cuáles son las posibles competencias centrales de Russell’s Pharmacy?"
   ]
  },
  {
   "cell_type": "code",
   "execution_count": null,
   "metadata": {},
   "outputs": [],
   "source": []
  },
  {
   "cell_type": "markdown",
   "metadata": {},
   "source": [
    "### Pregunta 11\n",
    "\n",
    "WildWest,Inc. es una compañía telefónica regional que heredó casi 100,000 empleados y 50,000 jubilados de AT&T. Wild West tiene una nueva misión: diversificarse. Se requiere un esfuerzo de 10 años para introducirse en los mercados de servicios financieros, bienes raíces, televisión por cable, compras desde el hogar, entretenimiento y servicios de comunicación celular (y también para competir con otras compañías telefónicas). Wild West planea ofrecer servicios de comunicación celular y por fibra óptica en mercados con competidores ya establecidos, como el Reino Unido, y en mercados donde prácticamente no existe competencia, como Rusia y los países del ex bloque soviético.\n",
    "\n",
    "- a. ¿Qué tipo de planes estratégicos debe hacer Wild West? ¿Es factible la opción de “no hacer nada”? Si la misión de Wild West le parece demasiado amplia, ¿qué negocios suprimiría primero?\n",
    "- b. ¿Qué fuerzas del entorno podrían entrar en acción que Wild West debería tomar en consideración?\n",
    "- c. ¿Cuáles son las posibles competencias centrales de Wild West? ¿Qué debilidades debe evitar o mitigar?"
   ]
  },
  {
   "cell_type": "code",
   "execution_count": null,
   "metadata": {},
   "outputs": [],
   "source": []
  },
  {
   "cell_type": "markdown",
   "metadata": {},
   "source": [
    "### Pregunta 12\n",
    "\n",
    "Desea elegir un banco para abrir una cuenta de cheques que pague intereses. Varios bancos de su comunidad ofrecen servicios competitivos de cuentas de cheques que pagan la misma tasa de intereses. Identifique la naturaleza del paquete de servicios que podría servirle como guía en su elección."
   ]
  },
  {
   "cell_type": "code",
   "execution_count": null,
   "metadata": {},
   "outputs": [],
   "source": []
  },
  {
   "cell_type": "markdown",
   "metadata": {},
   "source": [
    "### Pregunta 13\n",
    "\n",
    "Está diseñando un negocio de entrega de víveres a domicilio. A través de Internet, su empresa ofrecerá alimentos frescos y congelados en un área metropolitana grande y luego los entregará dentro de un lapso definido por el cliente. Planea asociarse con dos importantes tiendas de alimentos en la zona. ¿Cuáles deben ser sus prioridades competitivas y qué capacidades necesita desarrollar en sus operaciones?"
   ]
  },
  {
   "cell_type": "code",
   "execution_count": null,
   "metadata": {},
   "outputs": [],
   "source": []
  }
 ],
 "metadata": {
  "kernelspec": {
   "display_name": "Python 3",
   "language": "python",
   "name": "python3"
  },
  "language_info": {
   "codemirror_mode": {
    "name": "ipython",
    "version": 3
   },
   "file_extension": ".py",
   "mimetype": "text/x-python",
   "name": "python",
   "nbconvert_exporter": "python",
   "pygments_lexer": "ipython3",
   "version": "3.6.8"
  }
 },
 "nbformat": 4,
 "nbformat_minor": 2
}
