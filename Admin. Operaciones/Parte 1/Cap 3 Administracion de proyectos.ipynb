{
 "cells": [
  {
   "cell_type": "markdown",
   "metadata": {},
   "source": [
    "## `Capitulo 3 Administración de proyectos``\n"
   ]
  },
  {
   "cell_type": "markdown",
   "metadata": {},
   "source": [
    "### Administración de proyectos en la organización\n",
    "#### Uso de los proyectos para implementar la estrategia de operaciones\n",
    "#### Interacción de las diferentes funciones\n",
    "\n",
    "### Definición y organización de proyectos\n",
    "#### Definición del alcance y los objetivos de un proyecto\n",
    "#### Selección del gerente y el equipo del proyecto\n",
    "#### Estructura organizativa \n",
    "\n",
    "### Práctica administrativa\n",
    "### Equipos globales virtuales en Baxter International\n",
    "### Planificación de proyectos\n",
    "### Definición de la estructura de división del trabajo 75 Elaboración del diagrama de red 76\n",
    "Desarrollo del programa 78\n",
    "Análisis de si debe sacrificarse costo por tiempo o\n",
    "viceversa 84\n",
    "Reto administrativo\n",
    "Administración de proyectos en The Phoenician 85\n",
    "Evaluación de riesgos 91\n",
    "Práctica administrativa 3.2\n",
    "El proyecto Big Dig de Boston plantea muchos retos 92\n",
    "Cadena crítica 97\n",
    "Problemas relacionados con los recursos 97\n",
    "El método de la cadena crítica 98\n",
    "Monitoreo y control de proyectos 98\n",
    "Monitoreo del status que guarda un proyecto 98 Monitoreo de los recursos del proyecto 99 Control de los proyectos 100\n",
    "CD-ROM del estudiante y recursos de Internet\n",
    "(en inglés) 101\n",
    "Ecuaciones clave 101\n",
    "Términos clave 102\n",
    "Problemas resueltos 102 Preguntas para discusión 106 Problemas 106\n",
    "Ejercicio de modelo activo 113 Caso El coqueto Studebaker 115 Referencias bibliográficas 117"
   ]
  },
  {
   "cell_type": "code",
   "execution_count": null,
   "metadata": {},
   "outputs": [],
   "source": []
  },
  {
   "cell_type": "code",
   "execution_count": null,
   "metadata": {},
   "outputs": [],
   "source": []
  },
  {
   "cell_type": "code",
   "execution_count": null,
   "metadata": {},
   "outputs": [],
   "source": []
  }
 ],
 "metadata": {
  "kernelspec": {
   "display_name": "Python 3",
   "language": "python",
   "name": "python3"
  },
  "language_info": {
   "codemirror_mode": {
    "name": "ipython",
    "version": 3
   },
   "file_extension": ".py",
   "mimetype": "text/x-python",
   "name": "python",
   "nbconvert_exporter": "python",
   "pygments_lexer": "ipython3",
   "version": "3.6.8"
  }
 },
 "nbformat": 4,
 "nbformat_minor": 2
}
