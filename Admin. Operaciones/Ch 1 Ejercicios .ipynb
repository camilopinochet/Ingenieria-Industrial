{
 "cells": [
  {
   "cell_type": "markdown",
   "metadata": {},
   "source": [
    "#### Ecuación Clave\n",
    "\n",
    "La productividad es la razón del valor de las salidas (servicios y productos) producidas, divididas entre el valor de los insumos:\n",
    "\n",
    "$$\n",
    "Productividad = \\frac {Productos}{Insumos}\n",
    "$$"
   ]
  },
  {
   "cell_type": "markdown",
   "metadata": {},
   "source": [
    "### Ejemplo 1.1 Cálculos de productividad\n",
    "\n",
    "Calcule la productividad en las siguientes operaciones:\n",
    "\n",
    "a. Tres empleados procesan 600 pólizas de seguros en una semana. Trabajan 8 horas diarias, 5 días a la semana.\n",
    "\n",
    "b. Un equipo de trabajadores fabrica 400 unidades de un producto, el cual se valora de acuerdo con su costo estándar de S10 cada (antes de sumar otros gastos y la utilidad). El departamento de contabilidad informa que, para es- te trabajo, los costos reales son de S400 por mano de obra, S1,000 por materiales y S300 por gastos generales."
   ]
  },
  {
   "cell_type": "code",
   "execution_count": null,
   "metadata": {},
   "outputs": [],
   "source": [
    "produc_empleados = 0 \n",
    "polizas = 600 # polizas_procesadas = 600\n",
    "hh = 40 # horas_por_empleados = 40\n",
    "ce = 3 # cantidad_empleados = 3\n",
    "\n",
    "# Productividad de la mano de obra\n",
    "produc_empleados = polizas/(hh * ce) \n",
    "\n",
    "print(\"Poductividad de la mano de obra = {:.2f}\".format(produc_empleados))\n",
    "\n",
    "# b.\n",
    "tp = 400 # cantidad total de produccion\n",
    "cu= 10 # costo unitario estandar\n",
    "cthh = 400 # costo total mano de obra\n",
    "ctm = 1000 # costo total materiales\n",
    "gg = 300 # gastos generales\n",
    "\n",
    "produc_multifactorial = tp * cu / (cthh + ctm + gg)\n",
    "print(\"Poductividad Multifactorial = {:.2f}\".format(produc_multifactorial))"
   ]
  },
  {
   "cell_type": "markdown",
   "metadata": {},
   "source": [
    "**Punto de decisión** Estas mediciones deben comprarse con los niveles de desempeño en periodos anteriores y con las metas futuras. Si no están a la altura de las expectativas, el proceso debe investigarse para detectar oportuni- dades para mejorar."
   ]
  },
  {
   "cell_type": "markdown",
   "metadata": {},
   "source": [
    "#### PROBLEMA RESUELTO 1\n",
    "\n",
    "El costo de la educación de los estudiantes de la Universidad Boehring es de `$100` por hora crédito al semestre. El gobierno estatal complementa los ingresos de la escuela y aporta un dólar por cada dólar que pagan los estudiantes. El tamaño promedio de los grupos de clase en un curso típico de tres créditos es de 50 alumnos. Los costos de mano de obra son de `$4.000` por grupo, los costos de los materiales ascienden a `$20` por estudiante por grupo y los gastos generales son de `$25.000` por grupo.\n",
    "\n",
    "**a.** ¿Cuál es la productividad multifactorial de este proceso de cursos?\n",
    "\n",
    "**Solución** La productividad multifactorial es la razón del valor de los productos o servicios al valor de los insumos y recursos.\n",
    "\n",
    " **b.** Si los maestros trabajan en promedio 14 horas a la semana durante 16 semanas, en cada clase equivalente a tres créditos, con un grupo de 50 estudiantes, ¿cuál es la productividad de la mano de obra?\n",
    " \n",
    "**Solución** La productividad de la mano de obra es la razón del valor del producto o servicio a las horas de trabajo. El valor del producto es el mismo que en la parte (a), o sea, `$30,000/clase``, por lo que:"
   ]
  },
  {
   "cell_type": "code",
   "execution_count": null,
   "metadata": {},
   "outputs": [],
   "source": [
    "print(\"Solución 1\")\n",
    "print(\"-----\"*12)\n",
    "produc_multifactorial = 0\n",
    "cant_estudiantes = 50\n",
    "horas_creditos = 3\n",
    "cuota_escolar = 100\n",
    "cuota_estatal = 100\n",
    "\n",
    "valor_producto = cant_estudiantes*horas_creditos*\\\n",
    "                (cuota_escolar+cuota_estatal)\n",
    "print(\"Valor del producto = {:.2f}\".format(valor_producto))\n",
    "\n",
    "mano_obra = 4000\n",
    "materiales_unitarios = 20\n",
    "gastos_generales = 25000\n",
    "\n",
    "valor_insumos = mano_obra + (materiales_unitarios*cant_estudiantes) + \\\n",
    "                            gastos_generales\n",
    "\n",
    "print(\"Valor de los insumos = {:.2f}\".format(valor_insumos))\n",
    "\n",
    "produc_multifactorial = valor_producto / valor_insumos\n",
    "print(\"Productividad Multifactorial = {}\".format(produc_multifactorial))\n",
    "\n",
    "print(\"\")\n",
    "print(\"Solución 2\")\n",
    "print(\"-----\"*12)\n",
    "\n",
    "produc_empleados = 0\n",
    "horas_semanas = 14\n",
    "semanas = 16\n",
    "total_horas = 0\n",
    "\n",
    "print(\"Valor del producto = ${}/clase\".format(valor_producto))\n",
    "\n",
    "total_horas = horas_semanas * semanas\n",
    "print(\"Horas de trabajo del insumo = {}horas/clase\".format(total_horas))\n",
    "\n",
    "\n",
    "produc_empleados = valor_producto / total_horas\n",
    "print(\"Productividad de la mano de obra = ${:.2f}/hora\".format(produc_empleados))\n",
    "\n"
   ]
  },
  {
   "cell_type": "code",
   "execution_count": null,
   "metadata": {},
   "outputs": [],
   "source": []
  },
  {
   "cell_type": "markdown",
   "metadata": {},
   "source": [
    "#### PROBLEMA RESUELTO 2\n",
    "Natalie Attire fabrica ropa de moda. En una semana específica, los empleados trabajaron 360 horas para producir un lote de 132 prendas, de las cuales 52 resultaron “segundas” (se les llama así cuando tienen defectos). Las segundas se venderán a `$90` cada una en la tienda de fábrica de Attire. Las 80 prendas restantes se venderán a distribuidores minoristas a `$200` cada una. ¿Cuál es la productividad de la mano de obra de este proceso de manufactura?"
   ]
  },
  {
   "cell_type": "code",
   "execution_count": null,
   "metadata": {},
   "outputs": [],
   "source": [
    "valor_producto = 0\n",
    "produc_empleados = 0\n",
    "cant_total_horas = 360\n",
    "cant_defec = 52\n",
    "precio_defec = 90\n",
    "cant_prendas = 80\n",
    "precio_prendas = 200\n",
    "\n",
    "valor_producto = (cant_defec*precio_defec + cant_prendas * precio_prendas)\n",
    "\n",
    "print(\"Valor del producto = ${}\".format(valor_producto))\n",
    "print(\"Horas de trabajo insumos = {} horas\".format(cant_total_horas))\n",
    "\n",
    "produc_empleados = valor_producto / cant_total_horas\n",
    "print(\"Productividad de la mano de obra = ${:.2f} en ventas por hora\"\\\n",
    "      .format(produc_empleados))\n"
   ]
  },
  {
   "cell_type": "markdown",
   "metadata": {},
   "source": [
    "#### Problema 1\n",
    "\n",
    "**Consulte el Problema resuelto 1).** Bajo la dirección del entrenador Bjourn Toulouse, el equipo de futbol americano de los Big Red Herrings ha tenido varias temporadas decepcionantes. Sólo con un mejor sistema de reclutamiento se logrará que el equipo vuelva a ser ganador. Debido a la situación actual del programa, es improbable que los aficionados de la Universidad Boehring apoyen incrementos en el precio de las entradas a los partidos de la temporada, que es de `$192`. Para mejorar el reclutamiento, los costos generales aumentarán a `$30.000` por sección de clase, frente al costo actual de `$25.000` por sección de clase. El plan presupuestario de la universidad consiste en pagar los costos de reclutamiento incrementando a `75` estudiantes el tamaño promedio de los grupos. Los costos de mano de obra se elevarán a `$6.500` por cada curso de tres créditos. Los costos de los materiales serán de alrededor de $25 por estudiante en cada curso de tres créditos. Las cuotas escolares serán de `$200` por crédito al semestre y el gobierno estatal hará una aportación de `$100` por crédito al semestre.\n",
    "\n",
    "**a.** ¿Cuál es la productividad? En comparación con el resultado obtenido en el Problema resuelto 1, ¿la productividad del proceso de cursos aumentó o disminuyó?\n",
    "\n",
    "**b.** Si los maestros trabajan `20` horas semanales en promedio durante `16` semanas, por cada clase de tres créditos impartida a un grupo de `75` estudiantes, ¿cuál es la productividad de la mano de obra?"
   ]
  },
  {
   "cell_type": "code",
   "execution_count": null,
   "metadata": {},
   "outputs": [],
   "source": [
    "produc_multifactorial = 0\n",
    "cant_estudiantes = 75\n",
    "horas_creditos = 3\n",
    "cuota_escolar = 200\n",
    "cuota_estatal = 100\n",
    "\n",
    "valor_producto = cant_estudiantes * horas_creditos * \\\n",
    "                (cuota_escolar + cuota_estatal)\n",
    "print(\"Valor del producto = {:.2f}/clase\".format(valor_producto))\n",
    "\n",
    "mano_obra = 6500\n",
    "materiales_unitarios = 25\n",
    "gastos_generales = 30000\n",
    "\n",
    "valor_insumos = mano_obra + (materiales_unitarios*cant_estudiantes) + \\\n",
    "                            gastos_generales\n",
    "\n",
    "print(\"Valor de los insumos = {:.2f}\".format(valor_insumos))\n",
    "\n",
    "produc_multifactorial = valor_producto / valor_insumos\n",
    "print(\"Productividad Multifactorial = {:.2f}\".format(produc_multifactorial))\n",
    "\n",
    "print(\"\")\n",
    "print(\"Solución 2\")\n",
    "print(\"-----\"*12)\n",
    "\n",
    "produc_empleados = 0\n",
    "horas_semanas = 20\n",
    "semanas = 16\n",
    "total_horas = 0\n",
    "\n",
    "print(\"Valor del producto = ${}/clase\".format(valor_producto))\n",
    "\n",
    "total_horas = horas_semanas * semanas\n",
    "print(\"Horas de trabajo del insumo = {}horas/clase\".format(total_horas))\n",
    "\n",
    "\n",
    "produc_empleados = valor_producto / total_horas\n",
    "print(\"Productividad de la mano de obra = ${:.2f}/hora\".format(produc_empleados))\n",
    "\n"
   ]
  },
  {
   "cell_type": "markdown",
   "metadata": {},
   "source": [
    "#### Problema 2\n",
    "\n",
    "*Suds and Duds Laundry* lavó y planchó las siguientes cantidades de camisas de vestir por semana:\n",
    "\n",
    "**a.** Calcule la productividad de la mano de obra en cada semana.\n",
    "\n",
    "**b.** Explique la pauta de productividad de la mano de obra que se aprecia en los datos.\n",
    "\n"
   ]
  },
  {
   "cell_type": "code",
   "execution_count": null,
   "metadata": {},
   "outputs": [],
   "source": [
    "semana = [\"1\",\"2\",\"3\",\"4\",\"5\"]\n",
    "trabajadores = [2,2,3,3,2]\n",
    "total_horas = [24,46,62,51,45]\n",
    "camisas = [68,130,152,125,131]\n",
    "productividad = []\n",
    "productividad_trabajador = []\n",
    "for i in range(len(semana)):\n",
    "    productividad.append(camisas[i]/(total_horas[i]))\n",
    "    productividad_trabajador.append(camisas[i]/trabajadores[i])\n",
    "print(\"Cantidad de camisas por horas\")\n",
    "print(\"---\"*12)\n",
    "for i in range(len(semana)):\n",
    "    print(\"Semana {} productividad = {:.2f}\".format(semana[i],productividad[i]))\n",
    "print()\n",
    "print(\"Cantidad de camisas por trabajador\")\n",
    "print(\"---\"*12)\n",
    "for i in range(len(semana)):\n",
    "    print(\"Semana {} prod. trabajador = {:.2f}\".format(semana[i],productividad_trabajador[i]))\n"
   ]
  },
  {
   "cell_type": "markdown",
   "metadata": {},
   "source": [
    "#### Problema 3\n",
    "\n",
    "Los reproductores de discos compactos se fabrican en una línea de ensamblaje automatizada. El costo estándar de los reproductores de discos compactos es de `$150` por unidad (mano de obra, `$30`; materiales, `$70`; y gastos generales, `$50`). El precio de venta es de `$300` por unidad.\n",
    "\n",
    "**a.** Si se desea lograr una mejora de `10%` en la productividad multifactorial reduciendo únicamente los costos de materiales, ¿en qué porcentaje habrá que reducir esos costos?\n",
    "\n",
    "**b.** Si se desea lograr una mejora de `10%` en la productividad multifactorial reduciendo únicamente los costos de mano de obra, ¿en qué porcentaje habrá que reducir esos costos?\n",
    "\n",
    "**c.** Si se desea lograr una mejora de `10%` en la productividad multifactorial reduciendo únicamente los gastos generales, ¿en qué porcentaje habrá que reducir esos gastos?"
   ]
  },
  {
   "cell_type": "code",
   "execution_count": 27,
   "metadata": {},
   "outputs": [
    {
     "name": "stdout",
     "output_type": "stream",
     "text": [
      "2.2\n",
      "56.34999999999846 30 50\n",
      "2.200058668231178\n"
     ]
    }
   ],
   "source": [
    "productividad = 0\n",
    "materiales = 70\n",
    "mano_obra = 30\n",
    "gastos_generales = 50\n",
    "precio_venta = 300\n",
    "valor_insumos = materiales + mano_obra + gastos_generales\n",
    "\n",
    "productividad = precio_venta / valor_insumos\n",
    "product2 = productividad + (productividad * 0.1)\n",
    "print(product2)\n",
    "\n",
    "\n",
    "while productividad < product2:\n",
    "    valor_insumos = materiales + mano_obra + gastos_generales\n",
    "    productividad = precio_venta / valor_insumos\n",
    "    materiales -= 0.01\n",
    "\n",
    "print(materiales, mano_obra, gastos_generales)\n",
    "print(productividad)\n",
    "    "
   ]
  },
  {
   "cell_type": "code",
   "execution_count": 28,
   "metadata": {},
   "outputs": [
    {
     "name": "stdout",
     "output_type": "stream",
     "text": [
      "2.2\n",
      "70 16.349999999997866 50\n",
      "2.2000586682311876\n"
     ]
    }
   ],
   "source": [
    "productividad = 0\n",
    "materiales = 70\n",
    "mano_obra = 30\n",
    "gastos_generales = 50\n",
    "precio_venta = 300\n",
    "valor_insumos = materiales + mano_obra + gastos_generales\n",
    "\n",
    "productividad = precio_venta / valor_insumos\n",
    "product2 = productividad + (productividad * 0.1)\n",
    "print(product2)\n",
    "\n",
    "\n",
    "while productividad < product2:\n",
    "    valor_insumos = materiales + mano_obra + gastos_generales\n",
    "    productividad = precio_venta / valor_insumos\n",
    "    mano_obra -= 0.01\n",
    "\n",
    "print(materiales, mano_obra, gastos_generales)\n",
    "print(productividad)\n",
    "    "
   ]
  },
  {
   "cell_type": "code",
   "execution_count": 25,
   "metadata": {},
   "outputs": [
    {
     "name": "stdout",
     "output_type": "stream",
     "text": [
      "2.2\n",
      "70 30 36.350000000002716\n",
      "2.200058668231109\n"
     ]
    }
   ],
   "source": [
    "productividad = 0\n",
    "materiales = 70\n",
    "mano_obra = 30\n",
    "gastos_generales = 50\n",
    "precio_venta = 300\n",
    "valor_insumos = materiales + mano_obra + gastos_generales\n",
    "\n",
    "productividad = precio_venta / valor_insumos\n",
    "product2 = productividad + (productividad * 0.1)\n",
    "print(product2)\n",
    "\n",
    "\n",
    "while productividad < product2:\n",
    "    valor_insumos = materiales + mano_obra + gastos_generales\n",
    "    productividad = precio_venta / valor_insumos\n",
    "    gastos_generales -= 0.01\n",
    "\n",
    "\n",
    "print(materiales, mano_obra, gastos_generales)\n",
    "print(productividad)\n",
    "    "
   ]
  },
  {
   "cell_type": "code",
   "execution_count": null,
   "metadata": {},
   "outputs": [],
   "source": [
    "semana = [\"1\", \"2\", \"3\", \"4\"]\n",
    "unidades_producidas = [1124, 1310, 1092, 981]\n",
    "total_mano_obra = [12735, 14842, 10603, 9526]\n",
    "total_materiales = [21041, 24523, 20442, 18364]\n",
    "total_gastos_generales = [8992, 10480, 8736, 7848]"
   ]
  },
  {
   "cell_type": "code",
   "execution_count": null,
   "metadata": {},
   "outputs": [],
   "source": []
  },
  {
   "cell_type": "code",
   "execution_count": null,
   "metadata": {},
   "outputs": [],
   "source": []
  },
  {
   "cell_type": "code",
   "execution_count": null,
   "metadata": {},
   "outputs": [],
   "source": []
  },
  {
   "cell_type": "code",
   "execution_count": null,
   "metadata": {},
   "outputs": [],
   "source": []
  },
  {
   "cell_type": "code",
   "execution_count": null,
   "metadata": {},
   "outputs": [],
   "source": []
  },
  {
   "cell_type": "code",
   "execution_count": null,
   "metadata": {},
   "outputs": [],
   "source": []
  },
  {
   "cell_type": "code",
   "execution_count": null,
   "metadata": {},
   "outputs": [],
   "source": []
  },
  {
   "cell_type": "code",
   "execution_count": null,
   "metadata": {},
   "outputs": [],
   "source": []
  },
  {
   "cell_type": "code",
   "execution_count": null,
   "metadata": {},
   "outputs": [],
   "source": []
  },
  {
   "cell_type": "code",
   "execution_count": null,
   "metadata": {},
   "outputs": [],
   "source": []
  },
  {
   "cell_type": "code",
   "execution_count": null,
   "metadata": {},
   "outputs": [],
   "source": []
  },
  {
   "cell_type": "code",
   "execution_count": null,
   "metadata": {},
   "outputs": [],
   "source": []
  },
  {
   "cell_type": "code",
   "execution_count": null,
   "metadata": {},
   "outputs": [],
   "source": []
  },
  {
   "cell_type": "code",
   "execution_count": null,
   "metadata": {},
   "outputs": [],
   "source": []
  },
  {
   "cell_type": "code",
   "execution_count": null,
   "metadata": {},
   "outputs": [],
   "source": []
  }
 ],
 "metadata": {
  "kernelspec": {
   "display_name": "Python 3",
   "language": "python",
   "name": "python3"
  },
  "language_info": {
   "codemirror_mode": {
    "name": "ipython",
    "version": 3
   },
   "file_extension": ".py",
   "mimetype": "text/x-python",
   "name": "python",
   "nbconvert_exporter": "python",
   "pygments_lexer": "ipython3",
   "version": "3.6.8"
  }
 },
 "nbformat": 4,
 "nbformat_minor": 2
}
