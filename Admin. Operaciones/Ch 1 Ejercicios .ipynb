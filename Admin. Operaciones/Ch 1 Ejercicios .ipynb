{
 "cells": [
  {
   "cell_type": "markdown",
   "metadata": {},
   "source": [
    "#### Ecuación Clave\n",
    "\n",
    "La productividad es la razón del valor de las salidas (servicios y productos) producidas, divididas entre el valor de los insumos:\n",
    "\n",
    "$$\n",
    "Productividad = \\frac {Productos}{Insumos}\n",
    "$$"
   ]
  },
  {
   "cell_type": "markdown",
   "metadata": {},
   "source": [
    "### Ejemplo 1.1 Cálculos de productividad\n",
    "\n",
    "Calcule la productividad en las siguientes operaciones:\n",
    "\n",
    "a. Tres empleados procesan 600 pólizas de seguros en una semana. Trabajan 8 horas diarias, 5 días a la semana.\n",
    "\n",
    "b. Un equipo de trabajadores fabrica 400 unidades de un producto, el cual se valora de acuerdo con su costo estándar de S10 cada (antes de sumar otros gastos y la utilidad). El departamento de contabilidad informa que, para es- te trabajo, los costos reales son de S400 por mano de obra, S1,000 por materiales y S300 por gastos generales."
   ]
  },
  {
   "cell_type": "code",
   "execution_count": null,
   "metadata": {},
   "outputs": [],
   "source": [
    "produc_empleados = 0 \n",
    "polizas = 600 # polizas_procesadas = 600\n",
    "hh = 40 # horas_por_empleados = 40\n",
    "ce = 3 # cantidad_empleados = 3\n",
    "\n",
    "# Productividad de la mano de obra\n",
    "produc_empleados = polizas/(hh * ce) \n",
    "\n",
    "print(\"Poductividad de la mano de obra = {:.2f}\".format(produc_empleados))\n",
    "\n",
    "# b.\n",
    "tp = 400 # cantidad total de produccion\n",
    "cu= 10 # costo unitario estandar\n",
    "cthh = 400 # costo total mano de obra\n",
    "ctm = 1000 # costo total materiales\n",
    "gg = 300 # gastos generales\n",
    "\n",
    "produc_multifactorial = tp * cu / (cthh + ctm + gg)\n",
    "print(\"Poductividad Multifactorial = {:.2f}\"\\\n",
    "      .format(produc_multifactorial))"
   ]
  },
  {
   "cell_type": "markdown",
   "metadata": {},
   "source": [
    "**Punto de decisión** Estas mediciones deben comprarse con los niveles de desempeño en periodos anteriores y con las metas futuras. Si no están a la altura de las expectativas, el proceso debe investigarse para detectar oportuni- dades para mejorar."
   ]
  },
  {
   "cell_type": "markdown",
   "metadata": {},
   "source": [
    "#### PROBLEMA RESUELTO 1\n",
    "\n",
    "El costo de la educación de los estudiantes de la Universidad Boehring es de `$100` por hora crédito al semestre. El gobierno estatal complementa los ingresos de la escuela y aporta un dólar por cada dólar que pagan los estudiantes. El tamaño promedio de los grupos de clase en un curso típico de tres créditos es de 50 alumnos. Los costos de mano de obra son de `$4.000` por grupo, los costos de los materiales ascienden a `$20` por estudiante por grupo y los gastos generales son de `$25.000` por grupo.\n",
    "\n",
    "**a.** ¿Cuál es la productividad multifactorial de este proceso de cursos?\n",
    "\n",
    "**Solución** La productividad multifactorial es la razón del valor de los productos o servicios al valor de los insumos y recursos.\n",
    "\n",
    " **b.** Si los maestros trabajan en promedio 14 horas a la semana durante 16 semanas, en cada clase equivalente a tres créditos, con un grupo de 50 estudiantes, ¿cuál es la productividad de la mano de obra?\n",
    " \n",
    "**Solución** La productividad de la mano de obra es la razón del valor del producto o servicio a las horas de trabajo. El valor del producto es el mismo que en la parte (a), o sea, `$30,000/clase``, por lo que:"
   ]
  },
  {
   "cell_type": "code",
   "execution_count": null,
   "metadata": {},
   "outputs": [],
   "source": [
    "print(\"Solución 1\")\n",
    "print(\"-----\"*12)\n",
    "produc_multifactorial = 0\n",
    "cant_estudiantes = 50\n",
    "horas_creditos = 3\n",
    "cuota_escolar = 100\n",
    "cuota_estatal = 100\n",
    "\n",
    "valor_producto = cant_estudiantes*horas_creditos*\\\n",
    "                (cuota_escolar+cuota_estatal)\n",
    "print(\"Valor del producto = {:.2f}\".format(valor_producto))\n",
    "\n",
    "mano_obra = 4000\n",
    "materiales_unitarios = 20\n",
    "gastos_generales = 25000\n",
    "\n",
    "valor_insumos = mano_obra + (materiales_unitarios*cant_estudiantes) + \\\n",
    "                            gastos_generales\n",
    "\n",
    "print(\"Valor de los insumos = {:.2f}\".format(valor_insumos))\n",
    "\n",
    "produc_multifactorial = valor_producto / valor_insumos\n",
    "print(\"Productividad Multifactorial = {}\".format(produc_multifactorial))\n",
    "\n",
    "print(\"\")\n",
    "print(\"Solución 2\")\n",
    "print(\"-----\"*12)\n",
    "\n",
    "produc_empleados = 0\n",
    "horas_semanas = 14\n",
    "semanas = 16\n",
    "total_horas = 0\n",
    "\n",
    "print(\"Valor del producto = ${}/clase\".format(valor_producto))\n",
    "\n",
    "total_horas = horas_semanas * semanas\n",
    "print(\"Horas de trabajo del insumo = {}horas/clase\".format(total_horas))\n",
    "\n",
    "\n",
    "produc_empleados = valor_producto / total_horas\n",
    "print(\"Productividad de la mano de obra = ${:.2f}/hora\".format(produc_empleados))\n",
    "\n"
   ]
  },
  {
   "cell_type": "code",
   "execution_count": null,
   "metadata": {},
   "outputs": [],
   "source": []
  },
  {
   "cell_type": "markdown",
   "metadata": {},
   "source": [
    "#### PROBLEMA RESUELTO 2\n",
    "Natalie Attire fabrica ropa de moda. En una semana específica, los empleados trabajaron 360 horas para producir un lote de 132 prendas, de las cuales 52 resultaron “segundas” (se les llama así cuando tienen defectos). Las segundas se venderán a `$90` cada una en la tienda de fábrica de Attire. Las 80 prendas restantes se venderán a distribuidores minoristas a `$200` cada una. ¿Cuál es la productividad de la mano de obra de este proceso de manufactura?"
   ]
  },
  {
   "cell_type": "code",
   "execution_count": null,
   "metadata": {},
   "outputs": [],
   "source": [
    "valor_producto = 0\n",
    "produc_empleados = 0\n",
    "cant_total_horas = 360\n",
    "cant_defec = 52\n",
    "precio_defec = 90\n",
    "cant_prendas = 80\n",
    "precio_prendas = 200\n",
    "\n",
    "valor_producto = (cant_defec*precio_defec \\\n",
    "                  + cant_prendas * precio_prendas)\n",
    "\n",
    "print(\"Valor del producto = ${}\".format(valor_producto))\n",
    "print(\"Horas de trabajo insumos = {} horas\".format(cant_total_horas))\n",
    "\n",
    "produc_empleados = valor_producto / cant_total_horas\n",
    "print(\"Productividad de la mano de obra = ${:.2f} en ventas por hora\"\\\n",
    "      .format(produc_empleados))\n"
   ]
  },
  {
   "cell_type": "markdown",
   "metadata": {},
   "source": [
    "#### Problema 1\n",
    "\n",
    "**Consulte el Problema resuelto 1).** Bajo la dirección del entrenador Bjourn Toulouse, el equipo de futbol americano de los Big Red Herrings ha tenido varias temporadas decepcionantes. Sólo con un mejor sistema de reclutamiento se logrará que el equipo vuelva a ser ganador. Debido a la situación actual del programa, es improbable que los aficionados de la Universidad Boehring apoyen incrementos en el precio de las entradas a los partidos de la temporada, que es de `$192`. Para mejorar el reclutamiento, los costos generales aumentarán a `$30.000` por sección de clase, frente al costo actual de `$25.000` por sección de clase. El plan presupuestario de la universidad consiste en pagar los costos de reclutamiento incrementando a `75` estudiantes el tamaño promedio de los grupos. Los costos de mano de obra se elevarán a `$6.500` por cada curso de tres créditos. Los costos de los materiales serán de alrededor de $25 por estudiante en cada curso de tres créditos. Las cuotas escolares serán de `$200` por crédito al semestre y el gobierno estatal hará una aportación de `$100` por crédito al semestre.\n",
    "\n",
    "**a.** ¿Cuál es la productividad? En comparación con el resultado obtenido en el Problema resuelto 1, ¿la productividad del proceso de cursos aumentó o disminuyó?\n",
    "\n",
    "**b.** Si los maestros trabajan `20` horas semanales en promedio durante `16` semanas, por cada clase de tres créditos impartida a un grupo de `75` estudiantes, ¿cuál es la productividad de la mano de obra?"
   ]
  },
  {
   "cell_type": "code",
   "execution_count": null,
   "metadata": {},
   "outputs": [],
   "source": [
    "produc_multifactorial = 0\n",
    "cant_estudiantes = 75\n",
    "horas_creditos = 3\n",
    "cuota_escolar = 200\n",
    "cuota_estatal = 100\n",
    "\n",
    "valor_producto = cant_estudiantes * horas_creditos * \\\n",
    "                (cuota_escolar + cuota_estatal)\n",
    "print(\"Valor del producto = {:.2f}/clase\".format(valor_producto))\n",
    "\n",
    "mano_obra = 6500\n",
    "materiales_unitarios = 20\n",
    "gastos_generales = 30000\n",
    "\n",
    "valor_insumos = mano_obra + (materiales_unitarios*cant_estudiantes) + \\\n",
    "                            gastos_generales\n",
    "\n",
    "print(\"Valor de los insumos = {:.2f}\".format(valor_insumos))\n",
    "\n",
    "produc_multifactorial = valor_producto / valor_insumos\n",
    "print(\"Productividad Multifactorial = {:.2f}\"\\\n",
    "      .format(produc_multifactorial))\n",
    "\n",
    "print(\"\")\n",
    "print(\"Solución 2\")\n",
    "print(\"-----\"*12)\n",
    "\n",
    "produc_empleados = 0\n",
    "horas_semanas = 20\n",
    "semanas = 16\n",
    "total_horas = 0\n",
    "\n",
    "print(\"Valor del producto = ${}/clase\".format(valor_producto))\n",
    "\n",
    "total_horas = horas_semanas * semanas\n",
    "print(\"Horas de trabajo del insumo = {}horas/clase\".format(total_horas))\n",
    "\n",
    "\n",
    "produc_empleados = valor_producto / total_horas\n",
    "print(\"Productividad de la mano de obra = ${:.2f}/hora\"\\\n",
    "      .format(produc_empleados))\n",
    "\n"
   ]
  },
  {
   "cell_type": "markdown",
   "metadata": {},
   "source": [
    "#### Problema 2\n",
    "\n",
    "*Suds and Duds Laundry* lavó y planchó las siguientes cantidades de camisas de vestir por semana:\n",
    "\n",
    "**a.** Calcule la productividad de la mano de obra en cada semana.\n",
    "\n",
    "**b.** Explique la pauta de productividad de la mano de obra que se aprecia en los datos.\n",
    "\n"
   ]
  },
  {
   "cell_type": "code",
   "execution_count": null,
   "metadata": {},
   "outputs": [],
   "source": [
    "semana = [\"1\",\"2\",\"3\",\"4\",\"5\"]\n",
    "trabajadores = [2,2,3,3,2]\n",
    "total_horas = [24,46,62,51,45]\n",
    "camisas = [68,130,152,125,131]\n",
    "productividad = []\n",
    "productividad_trabajador = []\n",
    "for i in range(len(semana)):\n",
    "    productividad.append(camisas[i]/(total_horas[i]))\n",
    "    productividad_trabajador.append(camisas[i]/trabajadores[i])\n",
    "print(\"Cantidad de camisas por horas\")\n",
    "print(\"---\"*12)\n",
    "for i in range(len(semana)):\n",
    "    print(\"Semana {} productividad = {:.2f}\"\\\n",
    "          .format(semana[i],productividad[i]))\n",
    "print()\n",
    "print(\"Cantidad de camisas por trabajador\")\n",
    "print(\"---\"*12)\n",
    "for i in range(len(semana)):\n",
    "    print(\"Semana {} prod. trabajador = {:.2f}\"\\\n",
    "          .format(semana[i],productividad_trabajador[i]))\n"
   ]
  },
  {
   "cell_type": "markdown",
   "metadata": {},
   "source": [
    "#### Problema 3\n",
    "\n",
    "Los reproductores de discos compactos se fabrican en una línea de ensamblaje automatizada. El costo estándar de los reproductores de discos compactos es de `$150` por unidad (mano de obra, `$30`; materiales, `$70`; y gastos generales, `$50`). El precio de venta es de `$300` por unidad.\n",
    "\n",
    "**a.** Si se desea lograr una mejora de `10%` en la productividad multifactorial reduciendo únicamente los costos de materiales, ¿en qué porcentaje habrá que reducir esos costos?\n",
    "\n",
    "**b.** Si se desea lograr una mejora de `10%` en la productividad multifactorial reduciendo únicamente los costos de mano de obra, ¿en qué porcentaje habrá que reducir esos costos?\n",
    "\n",
    "**c.** Si se desea lograr una mejora de `10%` en la productividad multifactorial reduciendo únicamente los gastos generales, ¿en qué porcentaje habrá que reducir esos gastos?"
   ]
  },
  {
   "cell_type": "code",
   "execution_count": null,
   "metadata": {},
   "outputs": [],
   "source": [
    "productividad = 0\n",
    "materiales = 70\n",
    "mano_obra = 30\n",
    "gastos_generales = 50\n",
    "precio_venta = 300\n",
    "valor_insumos = materiales + mano_obra + gastos_generales\n",
    "\n",
    "productividad = precio_venta / valor_insumos\n",
    "product2 = productividad + (productividad * 0.1)\n",
    "print(product2)\n",
    "\n",
    "\n",
    "while productividad < product2:\n",
    "    valor_insumos = materiales + mano_obra + gastos_generales\n",
    "    productividad = precio_venta / valor_insumos\n",
    "    materiales -= 0.01\n",
    "\n",
    "print(\"Materiales={} Mano de obra={:.2f}, Gastos generales={}\".format(materiales, mano_obra, gastos_generales))\n",
    "print(\"Productividad {:.2f}\".format(productividad))    "
   ]
  },
  {
   "cell_type": "code",
   "execution_count": null,
   "metadata": {},
   "outputs": [],
   "source": [
    "productividad = 0\n",
    "materiales = 70\n",
    "mano_obra = 30\n",
    "gastos_generales = 50\n",
    "precio_venta = 300\n",
    "valor_insumos = materiales + mano_obra + gastos_generales\n",
    "\n",
    "productividad = precio_venta / valor_insumos\n",
    "productividad2 = productividad + (productividad * 0.1)\n",
    "\n",
    "\n",
    "while productividad < productividad2:\n",
    "    valor_insumos = materiales + mano_obra + gastos_generales\n",
    "    productividad = precio_venta / valor_insumos\n",
    "    mano_obra -= 0.01\n",
    "\n",
    "    \n",
    "print(\"Materiales={} Mano de obra={:.2f}, Gastos generales={}\".format(materiales, mano_obra, gastos_generales))\n",
    "print(\"Productividad {:.2f}\".format(productividad))\n",
    "    "
   ]
  },
  {
   "cell_type": "code",
   "execution_count": null,
   "metadata": {},
   "outputs": [],
   "source": [
    "productividad = 0\n",
    "materiales = 70\n",
    "mano_obra = 30\n",
    "gastos_generales = 50\n",
    "precio_venta = 300\n",
    "valor_insumos = materiales + mano_obra + gastos_generales\n",
    "\n",
    "productividad = precio_venta / valor_insumos\n",
    "product2 = productividad + (productividad * 0.1)\n",
    "print(product2)\n",
    "\n",
    "\n",
    "while productividad < product2:\n",
    "    valor_insumos = materiales + mano_obra + gastos_generales\n",
    "    productividad = precio_venta / valor_insumos\n",
    "    gastos_generales -= 0.01\n",
    "\n",
    "\n",
    "print(\"Materiales={} Mano de obra={:.2f}, Gastos generales={}\"\\\n",
    "      .format(materiales, mano_obra, gastos_generales))\n",
    "print(\"Productividad {:.2f}\".format(productividad))\n",
    "    "
   ]
  },
  {
   "cell_type": "code",
   "execution_count": null,
   "metadata": {
    "scrolled": true
   },
   "outputs": [],
   "source": [
    "semana = [\"1\", \"2\", \"3\", \"4\"]\n",
    "unidades_producidas = [1124, 1310, 1092, 981]\n",
    "total_mano_obra = [12735, 14842, 10603, 9526]\n",
    "total_materiales = [21041, 24523, 20442, 18364]\n",
    "total_gastos_generales = [8992, 10480, 8736, 7848]\n",
    "\n",
    "produc_multifactorial = []\n",
    "\n",
    "for i in range(len(semana)):\n",
    "    produc_multifactorial.append(total_mano_obra[i]+total_materiales[i]+\\\n",
    "                                total_gastos_generales[i])\n",
    "for i in range(len(semana)):\n",
    "    print(\"Semana {} Pro. Mult.= ${:.2f} Prod. M.O.= ${:5.5f} {:.0f} Unid\"\\\n",
    "          .format(semana[i],produc_multifactorial[i]/unidades_producidas[i],\\\n",
    "           total_mano_obra[i]/unidades_producidas[i],\\\n",
    "           unidades_producidas[i]))\n",
    "    \n",
    "    \n",
    "    \n",
    "    "
   ]
  },
  {
   "cell_type": "markdown",
   "metadata": {},
   "source": [
    "### PROBLEMA AVANZADO 5\n",
    "\n",
    "Big Black Bird Company (BBBC) tiene un pedido grande de uniformes militares especiales forrados de plástico que se usarán en una operación militar urgente. Trabajando los `2 turnos` normales de `40 horas`, el proceso de producción de BBBC produce normalmente `2,500` uniformes por semana al costo normal de `$120` cada uno. En el primer turno trabajan `70` empleados y `30` en el segundo. El precio contratado es de `$200` por uniforme. En atención a la urgencia del pedido, BBBC ha recibido autorización para trabajar en la producción las `24 horas` del día, `6 días` a la semana. Cuando cada uno de los `2 turnos` trabaja `72 horas` a la semana, la producción se incrementa a `4,000` uniformes por semana, pero a un costo de `$144` cada uno.\n",
    "\n",
    "**a.** ¿La productividad aumentó, disminuyó o permaneció igual? Si cambió, ¿en qué porcentaje lo hizo?\n",
    "\n",
    "**b.** ¿La productividad de la mano de obra aumentó, disminuyó o permaneció igual? Si cambió, ¿en qué porcentaje lo hizo?\n",
    "\n",
    "**c.** ¿Las utilidades semanales aumentaron, disminuyeron o permanecieron sin cambio?\n"
   ]
  },
  {
   "cell_type": "code",
   "execution_count": null,
   "metadata": {},
   "outputs": [],
   "source": [
    "turnos = 2\n",
    "h_normal = 40\n",
    "h_extras = 72\n",
    "produ_normal = 2500\n",
    "produ_extra = 4000\n",
    "costo_normal = 120\n",
    "costo_extra = 144\n",
    "precio_contrato = 200\n",
    "cant_empleados = 100\n",
    "\n",
    "val_1 = (produ_normal*precio_contrato)/(produ_normal*costo_normal)\n",
    "print(\"Produc multif normal =  {:.2f}\".format(val_1))\n",
    "\n",
    "val_2 = (produ_extra*precio_contrato)/(produ_extra*costo_extra)\n",
    "print(\"Produc multif extra =  {:.2f}\".format(val_2))\n",
    "\n",
    "variacion = (val_2*100)/val_1\n",
    "\n",
    "print(\"variacion {:.2f}%\".format(variacion-100))\n",
    "print(\"\")\n",
    "\n",
    "#productividad de la mano de obra = pmo\n",
    "pmo1 = produ_normal/(turnos*h_normal)\n",
    "pmo2 = produ_extra/(turnos*h_extras)\n",
    "print(\"Productividad normal = {:2.2f} unid/hora\".format(pmo1))\n",
    "print(\"Productividad extra = {:2.2f} unid/hora\".format(pmo2))\n",
    "print(\"variación = {:2.2f}%\".format(((pmo2*100)/pmo1)-100))\n",
    "print(\"\")\n",
    "\n",
    "\n",
    "# Utilidad semanales = us\n",
    "us1 = produ_normal*(precio_contrato-costo_normal)\n",
    "us2 = produ_extra*(precio_contrato-costo_extra)\n",
    "print(\"Utilidad semanal normal = ${:10.2f}\".format(us1))\n",
    "print(\"Utilidad semanal extra  = ${:10.2f}\".format(us2))\n",
    "print(\"Variaciòn utilidades = {:2.2f}\".format(us2-us1))\n",
    "\n",
    "\n"
   ]
  },
  {
   "cell_type": "markdown",
   "metadata": {},
   "source": [
    "#### SUPLEMENTO - TOMA DE DECISIONES\n",
    "\n",
    "1. Explicar el análisis de punto de equilibrio, usando tanto el método gráfico como el algebraico.\n",
    "2. Definir una matriz de preferencias.\n",
    "3. Identificar las reglas de decisión maximin, maximax, Laplace, rechazo minimax y valor esperado.\n",
    "4. Explicar cómo se construye una tabla de pagos.\n",
    "5. Describir cómo se traza y analiza un árbol de decisiones\n"
   ]
  },
  {
   "cell_type": "markdown",
   "metadata": {},
   "source": [
    "#### EJEMPLO A.1 Cálculo del punto de equilibrio\n",
    "\n",
    "Un hospital está considerando un nuevo procedimiento que se ofrecerá al precio de `$200` por paciente. El costo fijo anual sería de `$100,000`, con costos variables totales de `$100` por paciente. ¿Cuál sería el punto de equilibrio de este servicio? Use los dos métodos, el algebraico y el gráfico, para obtener la respuesta.\n",
    "\n",
    "$$\n",
    "Q = \\frac{F}{p-c}\n",
    "$$\n"
   ]
  },
  {
   "cell_type": "code",
   "execution_count": 174,
   "metadata": {},
   "outputs": [
    {
     "data": {
      "image/png": "[encoded data removed]",
      "text/plain": [
       "<Figure size 432x288 with 1 Axes>"
      ]
     },
     "metadata": {
      "needs_background": "light"
     },
     "output_type": "display_data"
    },
    {
     "name": "stdout",
     "output_type": "stream",
     "text": [
      "       0.0        0.0\n",
      "     250.0    50000.0\n",
      "     500.0   100000.0\n",
      "     750.0   150000.0\n",
      "    1000.0   200000.0\n",
      "    1250.0   250000.0\n",
      "    1500.0   300000.0\n",
      "    1750.0   350000.0\n",
      "    2000.0   400000.0\n",
      "\n",
      "       0.0   100000.0\n",
      "     250.0   125000.0\n",
      "     500.0   150000.0\n",
      "     750.0   175000.0\n",
      "    1000.0   200000.0\n",
      "    1250.0   225000.0\n",
      "    1500.0   250000.0\n",
      "    1750.0   275000.0\n",
      "    2000.0   300000.0\n",
      "1000.0\n"
     ]
    }
   ],
   "source": [
    "from numpy import *\n",
    "import matplotlib.pyplot as plt\n",
    "from matplotlib.legend_handler import HandlerLine2D\n",
    "\n",
    "F = 100000\n",
    "p = 200\n",
    "c = 100\n",
    "\n",
    "def pto_equ (F, p, c):\n",
    "    Q=F/(p-c)\n",
    "    return Q\n",
    "\n",
    "Q = pto_equ(F,p,c)\n",
    "\n",
    "def plot_recta(p,c, Q):\n",
    "    \n",
    "    \n",
    "    k = 9\n",
    "    ingresos_x = linspace(0, 2*Q, k)\n",
    "    ingresos_y = linspace(0, p*(2*Q), k)\n",
    "    \n",
    "    costos_x = linspace(0, 2*Q, k)\n",
    "    costos_y = linspace(F, F + (c*(2*Q)), k)\n",
    "    \n",
    "    line1, = plt.plot(ingresos_x, ingresos_y, marker='o',label='Ingresos')\n",
    "    line2, = plt.plot(costos_x, costos_y, marker='o', label='Costos')\n",
    "    \n",
    "    plt.legend(handler_map={line1: HandlerLine2D(numpoints=3)})\n",
    "    plt.title(\"Análisis de pto. de Equilibrio\")\n",
    "    plt.xlabel(\"Cantidad Q\")\n",
    "    plt.ylabel('Dolarees')\n",
    "    \n",
    "    #plt.grid(True)\n",
    "    plt.grid(True, linestyle='--', which='major',\n",
    "                   color='gray', alpha=.75)\n",
    "    plt.text(1000, 0, r'Q= {:.1f} und. Pto.Equi. = ${:.1f} '\\\n",
    "             .format(Q, p*Q))\n",
    "\n",
    "    fig.tight_layout()\n",
    "\n",
    "    plt.show()\n",
    "    \n",
    "    for i in range(len(ingresos_x)):\n",
    "        print(\"{:10.1f} {:10.1f}\".format(ingresos_x[i], ingresos_y[i]))\n",
    "    print(\"\")\n",
    "    for i in range(len(ingresos_x)):\n",
    "        print(\"{:10.1f} {:10.1f}\".format(costos_x[i], costos_y[i]))\n",
    "\n",
    "plot_recta(p,c,Q)\n",
    "print(pto_equ(F, p, c))\n"
   ]
  },
  {
   "cell_type": "code",
   "execution_count": null,
   "metadata": {},
   "outputs": [],
   "source": []
  },
  {
   "cell_type": "code",
   "execution_count": 139,
   "metadata": {},
   "outputs": [
    {
     "name": "stdout",
     "output_type": "stream",
     "text": [
      "19200.0\n"
     ]
    }
   ],
   "source": [
    "def evaluacion (fm, cm, fb, cb):\n",
    "    Q = (fm-fb)/(cb-cm)\n",
    "    return Q\n",
    "\n",
    "x=evaluacion(2400,2,12000,1.5)\n",
    "print(x)"
   ]
  },
  {
   "cell_type": "markdown",
   "metadata": {},
   "source": [
    "\n",
    "La propietaria de una pequeña empresa manufacturera ha patentado un nuevo dispositivo para lavar platos y limpiar fregaderos de cocina sucios.\n",
    "\n",
    "Antes de tratar de comercializar el dispositivo y agregarlo a su línea de productos actual, desea asegurarse, dentro de razonable, de que tendrá éxito. Los costos variables se han estimado en `$7` por unidad producida y vendida. Los costos fijos ascienden aproximadamente a `$56,000` al año.\n",
    "\n",
    "**a.** Si el precio de venta se establece en `$25`, ¿cuántas unidades deberán fabricarse y venderse para alcanzar el punto de equilibrio? Use los métodos algebraico y gráfico.\n",
    "\n",
    "**b.** Las ventas pronosticadas para el primer año son de `10,000` unidades si el precio se reduce a `$15`. Con esta estrategia de precios, ¿cuál sería la contribución total del producto a las utilidades en el primer año?"
   ]
  },
  {
   "cell_type": "code",
   "execution_count": 172,
   "metadata": {},
   "outputs": [
    {
     "name": "stdout",
     "output_type": "stream",
     "text": [
      "Q = 3.1 en miles\n"
     ]
    },
    {
     "data": {
      "image/png": "[encoded data removed]",
      "text/plain": [
       "<Figure size 432x288 with 1 Axes>"
      ]
     },
     "metadata": {
      "needs_background": "light"
     },
     "output_type": "display_data"
    },
    {
     "name": "stdout",
     "output_type": "stream",
     "text": [
      "       0.0        0.0\n",
      "     777.8    19444.4\n",
      "    1555.6    38888.9\n",
      "    2333.3    58333.3\n",
      "    3111.1    77777.8\n",
      "    3888.9    97222.2\n",
      "    4666.7   116666.7\n",
      "    5444.4   136111.1\n",
      "    6222.2   155555.6\n",
      "\n",
      "       0.0    56000.0\n",
      "     777.8    61444.4\n",
      "    1555.6    66888.9\n",
      "    2333.3    72333.3\n",
      "    3111.1    77777.8\n",
      "    3888.9    83222.2\n",
      "    4666.7    88666.7\n",
      "    5444.4    94111.1\n",
      "    6222.2    99555.6\n"
     ]
    }
   ],
   "source": [
    "from numpy import *\n",
    "import matplotlib.pyplot as plt\n",
    "from matplotlib.legend_handler import HandlerLine2D\n",
    "\n",
    "F = 56000\n",
    "p = 25\n",
    "c = 7\n",
    "\n",
    "def pto_equ (F, p, c):\n",
    "    Q=F/(p-c)\n",
    "    return Q\n",
    "\n",
    "Q = pto_equ(F,p,c)\n",
    "\n",
    "def plot_recta(p, c, Q, F):\n",
    "    \n",
    "    k = 9\n",
    "    ingresos_x = linspace(0, 2*Q, k)\n",
    "    ingresos_y = linspace(0, p*(2*Q), k)\n",
    "    \n",
    "    costos_x = linspace(0, 2*Q, k)\n",
    "    costos_y = linspace(F, F + (c*(2*Q)), k)\n",
    "    \n",
    "    line1, = plt.plot(ingresos_x, ingresos_y, \"k--\", marker='o',label='Ingresos')\n",
    "    line2, = plt.plot(costos_x, costos_y, \"k:\",marker='o', label='Costos')\n",
    "    \n",
    "    plt.legend(handler_map={line1: HandlerLine2D(numpoints=3)})\n",
    "    plt.title(\"Análisis de pto. de Equilibrio\")\n",
    "    plt.xlabel(\"Cantidad Q\")\n",
    "    plt.ylabel('Dolarees')\n",
    "    plt.grid(True, linestyle='--', which='major',\n",
    "                   color='gray', alpha=.75)\n",
    "    plt.text(1000, 0, r'Q= {:.1f} und. Pto.Equi. = ${:.1f} '\\\n",
    "             .format(Q, p*Q))\n",
    "    fig.tight_layout()\n",
    "    plt.show()\n",
    "    for i in range(len(ingresos_x)):\n",
    "        print(\"{:10.1f} {:10.1f}\".format(ingresos_x[i], ingresos_y[i]))\n",
    "    print(\"\")\n",
    "    for i in range(len(ingresos_x)):\n",
    "        print(\"{:10.1f} {:10.1f}\".format(costos_x[i], costos_y[i]))\n",
    "\n",
    "cant = pto_equ(F, p, c)        \n",
    "print(\"Q = {:.1f} en miles\".format(cant/1000))\n",
    "plot_recta(p,c,Q,F)\n",
    "\n"
   ]
  },
  {
   "cell_type": "code",
   "execution_count": 194,
   "metadata": {},
   "outputs": [
    {
     "data": {
      "image/png": "[encoded data removed]",
      "text/plain": [
       "<Figure size 360x216 with 2 Axes>"
      ]
     },
     "metadata": {
      "needs_background": "light"
     },
     "output_type": "display_data"
    }
   ],
   "source": [
    "import matplotlib.pyplot as plt\n",
    "import numpy as np\n",
    "\n",
    "x1 = np.linspace(0.0, 5.0, 100)\n",
    "y1 = np.cos(2 * np.pi * x1) * np.exp(-x1)\n",
    "\n",
    "\n",
    "\n",
    "fig, axs = plt.subplots(2, 1, figsize=(5, 3), tight_layout=True)\n",
    "axs[0].plot(x1, y1)\n",
    "axs[1].plot(x1, y1)\n",
    "ticks = np.arange(0., 10.1, 2.)\n",
    "\n",
    "# list comprehension to get all tick labels...\n",
    "tickla = ['%1.2f' % tick for tick in ticks]\n",
    "axs[1].xaxis.set_ticks(ticks)\n",
    "axs[1].xaxis.set_ticklabels(tickla)\n",
    "axs[1].set_xlim(axs[0].get_xlim())\n",
    "plt.show()"
   ]
  },
  {
   "cell_type": "code",
   "execution_count": null,
   "metadata": {},
   "outputs": [],
   "source": []
  },
  {
   "cell_type": "code",
   "execution_count": null,
   "metadata": {},
   "outputs": [],
   "source": []
  },
  {
   "cell_type": "code",
   "execution_count": null,
   "metadata": {},
   "outputs": [],
   "source": []
  }
 ],
 "metadata": {
  "kernelspec": {
   "display_name": "Python 3",
   "language": "python",
   "name": "python3"
  },
  "language_info": {
   "codemirror_mode": {
    "name": "ipython",
    "version": 3
   },
   "file_extension": ".py",
   "mimetype": "text/x-python",
   "name": "python",
   "nbconvert_exporter": "python",
   "pygments_lexer": "ipython3",
   "version": "3.6.8"
  }
 },
 "nbformat": 4,
 "nbformat_minor": 2
}
