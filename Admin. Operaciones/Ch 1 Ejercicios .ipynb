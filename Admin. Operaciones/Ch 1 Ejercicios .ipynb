{
 "cells": [
  {
   "cell_type": "markdown",
   "metadata": {},
   "source": [
    "#### Ecuación Clave\n",
    "\n",
    "La productividad es la razón del valor de las salidas (servicios y productos) producidas, divididas entre el valor de los insumos:\n",
    "\n",
    "$$\n",
    "Productividad = \\frac {Productos}{Insumos}\n",
    "$$"
   ]
  },
  {
   "cell_type": "markdown",
   "metadata": {},
   "source": [
    "### Ejemplo 1.1 Cálculos de productividad\n",
    "\n",
    "Calcule la productividad en las siguientes operaciones:\n",
    "\n",
    "a. Tres empleados procesan 600 pólizas de seguros en una semana. Trabajan 8 horas diarias, 5 días a la semana.\n",
    "\n",
    "b. Un equipo de trabajadores fabrica 400 unidades de un producto, el cual se valora de acuerdo con su costo estándar de S10 cada (antes de sumar otros gastos y la utilidad). El departamento de contabilidad informa que, para es- te trabajo, los costos reales son de S400 por mano de obra, S1,000 por materiales y S300 por gastos generales."
   ]
  },
  {
   "cell_type": "code",
   "execution_count": 1,
   "metadata": {},
   "outputs": [
    {
     "name": "stdout",
     "output_type": "stream",
     "text": [
      "Poductividad de la mano de obra = 5.00\n",
      "Poductividad Multifactorial = 2.35\n"
     ]
    }
   ],
   "source": [
    "produc_empleados = 0 \n",
    "polizas = 600 # polizas_procesadas = 600\n",
    "hh = 40 # horas_por_empleados = 40\n",
    "ce = 3 # cantidad_empleados = 3\n",
    "\n",
    "# Productividad de la mano de obra\n",
    "produc_empleados = polizas/(hh * ce) \n",
    "\n",
    "print(\"Poductividad de la mano de obra = {:.2f}\".format(produc_empleados))\n",
    "\n",
    "# b.\n",
    "tp = 400 # cantidad total de produccion\n",
    "cu= 10 # costo unitario estandar\n",
    "cthh = 400 # costo total mano de obra\n",
    "ctm = 1000 # costo total materiales\n",
    "gg = 300 # gastos generales\n",
    "\n",
    "produc_multifactorial = tp * cu / (cthh + ctm + gg)\n",
    "print(\"Poductividad Multifactorial = {:.2f}\"\\\n",
    "      .format(produc_multifactorial))"
   ]
  },
  {
   "cell_type": "markdown",
   "metadata": {},
   "source": [
    "**Punto de decisión** Estas mediciones deben comprarse con los niveles de desempeño en periodos anteriores y con las metas futuras. Si no están a la altura de las expectativas, el proceso debe investigarse para detectar oportuni- dades para mejorar."
   ]
  },
  {
   "cell_type": "markdown",
   "metadata": {},
   "source": [
    "#### PROBLEMA RESUELTO 1\n",
    "\n",
    "El costo de la educación de los estudiantes de la Universidad Boehring es de `$100` por hora crédito al semestre. El gobierno estatal complementa los ingresos de la escuela y aporta un dólar por cada dólar que pagan los estudiantes. El tamaño promedio de los grupos de clase en un curso típico de tres créditos es de 50 alumnos. Los costos de mano de obra son de `$4.000` por grupo, los costos de los materiales ascienden a `$20` por estudiante por grupo y los gastos generales son de `$25.000` por grupo.\n",
    "\n",
    "**a.** ¿Cuál es la productividad multifactorial de este proceso de cursos?\n",
    "\n",
    "**Solución** La productividad multifactorial es la razón del valor de los productos o servicios al valor de los insumos y recursos.\n",
    "\n",
    " **b.** Si los maestros trabajan en promedio 14 horas a la semana durante 16 semanas, en cada clase equivalente a tres créditos, con un grupo de 50 estudiantes, ¿cuál es la productividad de la mano de obra?\n",
    " \n",
    "**Solución** La productividad de la mano de obra es la razón del valor del producto o servicio a las horas de trabajo. El valor del producto es el mismo que en la parte (a), o sea, `$30,000/clase``, por lo que:"
   ]
  },
  {
   "cell_type": "code",
   "execution_count": 2,
   "metadata": {},
   "outputs": [
    {
     "name": "stdout",
     "output_type": "stream",
     "text": [
      "Solución 1\n",
      "------------------------------------------------------------\n",
      "Valor del producto = 30000.00\n",
      "Valor de los insumos = 30000.00\n",
      "Productividad Multifactorial = 1.0\n",
      "\n",
      "Solución 2\n",
      "------------------------------------------------------------\n",
      "Valor del producto = $30000/clase\n",
      "Horas de trabajo del insumo = 224horas/clase\n",
      "Productividad de la mano de obra = $133.93/hora\n"
     ]
    }
   ],
   "source": [
    "print(\"Solución 1\")\n",
    "print(\"-----\"*12)\n",
    "produc_multifactorial = 0\n",
    "cant_estudiantes = 50\n",
    "horas_creditos = 3\n",
    "cuota_escolar = 100\n",
    "cuota_estatal = 100\n",
    "\n",
    "valor_producto = cant_estudiantes*horas_creditos*\\\n",
    "                (cuota_escolar+cuota_estatal)\n",
    "print(\"Valor del producto = {:.2f}\".format(valor_producto))\n",
    "\n",
    "mano_obra = 4000\n",
    "materiales_unitarios = 20\n",
    "gastos_generales = 25000\n",
    "\n",
    "valor_insumos = mano_obra + (materiales_unitarios*cant_estudiantes) + \\\n",
    "                            gastos_generales\n",
    "\n",
    "print(\"Valor de los insumos = {:.2f}\".format(valor_insumos))\n",
    "\n",
    "produc_multifactorial = valor_producto / valor_insumos\n",
    "print(\"Productividad Multifactorial = {}\".format(produc_multifactorial))\n",
    "\n",
    "print(\"\")\n",
    "print(\"Solución 2\")\n",
    "print(\"-----\"*12)\n",
    "\n",
    "produc_empleados = 0\n",
    "horas_semanas = 14\n",
    "semanas = 16\n",
    "total_horas = 0\n",
    "\n",
    "print(\"Valor del producto = ${}/clase\".format(valor_producto))\n",
    "\n",
    "total_horas = horas_semanas * semanas\n",
    "print(\"Horas de trabajo del insumo = {}horas/clase\".format(total_horas))\n",
    "\n",
    "\n",
    "produc_empleados = valor_producto / total_horas\n",
    "print(\"Productividad de la mano de obra = ${:.2f}/hora\".format(produc_empleados))\n",
    "\n"
   ]
  },
  {
   "cell_type": "code",
   "execution_count": null,
   "metadata": {},
   "outputs": [],
   "source": []
  },
  {
   "cell_type": "markdown",
   "metadata": {},
   "source": [
    "#### PROBLEMA RESUELTO 2\n",
    "Natalie Attire fabrica ropa de moda. En una semana específica, los empleados trabajaron 360 horas para producir un lote de 132 prendas, de las cuales 52 resultaron “segundas” (se les llama así cuando tienen defectos). Las segundas se venderán a `$90` cada una en la tienda de fábrica de Attire. Las 80 prendas restantes se venderán a distribuidores minoristas a `$200` cada una. ¿Cuál es la productividad de la mano de obra de este proceso de manufactura?"
   ]
  },
  {
   "cell_type": "code",
   "execution_count": 3,
   "metadata": {},
   "outputs": [
    {
     "name": "stdout",
     "output_type": "stream",
     "text": [
      "Valor del producto = $20680\n",
      "Horas de trabajo insumos = 360 horas\n",
      "Productividad de la mano de obra = $57.44 en ventas por hora\n"
     ]
    }
   ],
   "source": [
    "valor_producto = 0\n",
    "produc_empleados = 0\n",
    "cant_total_horas = 360\n",
    "cant_defec = 52\n",
    "precio_defec = 90\n",
    "cant_prendas = 80\n",
    "precio_prendas = 200\n",
    "\n",
    "valor_producto = (cant_defec*precio_defec \\\n",
    "                  + cant_prendas * precio_prendas)\n",
    "\n",
    "print(\"Valor del producto = ${}\".format(valor_producto))\n",
    "print(\"Horas de trabajo insumos = {} horas\".format(cant_total_horas))\n",
    "\n",
    "produc_empleados = valor_producto / cant_total_horas\n",
    "print(\"Productividad de la mano de obra = ${:.2f} en ventas por hora\"\\\n",
    "      .format(produc_empleados))\n"
   ]
  },
  {
   "cell_type": "markdown",
   "metadata": {},
   "source": [
    "#### Problema 1\n",
    "\n",
    "**Consulte el Problema resuelto 1).** Bajo la dirección del entrenador Bjourn Toulouse, el equipo de futbol americano de los Big Red Herrings ha tenido varias temporadas decepcionantes. Sólo con un mejor sistema de reclutamiento se logrará que el equipo vuelva a ser ganador. Debido a la situación actual del programa, es improbable que los aficionados de la Universidad Boehring apoyen incrementos en el precio de las entradas a los partidos de la temporada, que es de `$192`. Para mejorar el reclutamiento, los costos generales aumentarán a `$30.000` por sección de clase, frente al costo actual de `$25.000` por sección de clase. El plan presupuestario de la universidad consiste en pagar los costos de reclutamiento incrementando a `75` estudiantes el tamaño promedio de los grupos. Los costos de mano de obra se elevarán a `$6.500` por cada curso de tres créditos. Los costos de los materiales serán de alrededor de $25 por estudiante en cada curso de tres créditos. Las cuotas escolares serán de `$200` por crédito al semestre y el gobierno estatal hará una aportación de `$100` por crédito al semestre.\n",
    "\n",
    "**a.** ¿Cuál es la productividad? En comparación con el resultado obtenido en el Problema resuelto 1, ¿la productividad del proceso de cursos aumentó o disminuyó?\n",
    "\n",
    "**b.** Si los maestros trabajan `20` horas semanales en promedio durante `16` semanas, por cada clase de tres créditos impartida a un grupo de `75` estudiantes, ¿cuál es la productividad de la mano de obra?"
   ]
  },
  {
   "cell_type": "code",
   "execution_count": 4,
   "metadata": {},
   "outputs": [
    {
     "name": "stdout",
     "output_type": "stream",
     "text": [
      "Valor del producto = 67500.00/clase\n",
      "Valor de los insumos = 38000.00\n",
      "Productividad Multifactorial = 1.78\n",
      "\n",
      "Solución 2\n",
      "------------------------------------------------------------\n",
      "Valor del producto = $67500/clase\n",
      "Horas de trabajo del insumo = 320horas/clase\n",
      "Productividad de la mano de obra = $210.94/hora\n"
     ]
    }
   ],
   "source": [
    "produc_multifactorial = 0\n",
    "cant_estudiantes = 75\n",
    "horas_creditos = 3\n",
    "cuota_escolar = 200\n",
    "cuota_estatal = 100\n",
    "\n",
    "valor_producto = cant_estudiantes * horas_creditos * \\\n",
    "                (cuota_escolar + cuota_estatal)\n",
    "print(\"Valor del producto = {:.2f}/clase\".format(valor_producto))\n",
    "\n",
    "mano_obra = 6500\n",
    "materiales_unitarios = 20\n",
    "gastos_generales = 30000\n",
    "\n",
    "valor_insumos = mano_obra + (materiales_unitarios*cant_estudiantes) + \\\n",
    "                            gastos_generales\n",
    "\n",
    "print(\"Valor de los insumos = {:.2f}\".format(valor_insumos))\n",
    "\n",
    "produc_multifactorial = valor_producto / valor_insumos\n",
    "print(\"Productividad Multifactorial = {:.2f}\"\\\n",
    "      .format(produc_multifactorial))\n",
    "\n",
    "print(\"\")\n",
    "print(\"Solución 2\")\n",
    "print(\"-----\"*12)\n",
    "\n",
    "produc_empleados = 0\n",
    "horas_semanas = 20\n",
    "semanas = 16\n",
    "total_horas = 0\n",
    "\n",
    "print(\"Valor del producto = ${}/clase\".format(valor_producto))\n",
    "\n",
    "total_horas = horas_semanas * semanas\n",
    "print(\"Horas de trabajo del insumo = {}horas/clase\".format(total_horas))\n",
    "\n",
    "\n",
    "produc_empleados = valor_producto / total_horas\n",
    "print(\"Productividad de la mano de obra = ${:.2f}/hora\"\\\n",
    "      .format(produc_empleados))\n",
    "\n"
   ]
  },
  {
   "cell_type": "markdown",
   "metadata": {},
   "source": [
    "#### Problema 2\n",
    "\n",
    "*Suds and Duds Laundry* lavó y planchó las siguientes cantidades de camisas de vestir por semana:\n",
    "\n",
    "**a.** Calcule la productividad de la mano de obra en cada semana.\n",
    "\n",
    "**b.** Explique la pauta de productividad de la mano de obra que se aprecia en los datos.\n",
    "\n"
   ]
  },
  {
   "cell_type": "code",
   "execution_count": 5,
   "metadata": {},
   "outputs": [
    {
     "name": "stdout",
     "output_type": "stream",
     "text": [
      "Cantidad de camisas por horas\n",
      "------------------------------------\n",
      "Semana 1 productividad = 2.83\n",
      "Semana 2 productividad = 2.83\n",
      "Semana 3 productividad = 2.45\n",
      "Semana 4 productividad = 2.45\n",
      "Semana 5 productividad = 2.91\n",
      "\n",
      "Cantidad de camisas por trabajador\n",
      "------------------------------------\n",
      "Semana 1 prod. trabajador = 34.00\n",
      "Semana 2 prod. trabajador = 65.00\n",
      "Semana 3 prod. trabajador = 50.67\n",
      "Semana 4 prod. trabajador = 41.67\n",
      "Semana 5 prod. trabajador = 65.50\n"
     ]
    }
   ],
   "source": [
    "semana = [\"1\",\"2\",\"3\",\"4\",\"5\"]\n",
    "trabajadores = [2,2,3,3,2]\n",
    "total_horas = [24,46,62,51,45]\n",
    "camisas = [68,130,152,125,131]\n",
    "productividad = []\n",
    "productividad_trabajador = []\n",
    "for i in range(len(semana)):\n",
    "    productividad.append(camisas[i]/(total_horas[i]))\n",
    "    productividad_trabajador.append(camisas[i]/trabajadores[i])\n",
    "print(\"Cantidad de camisas por horas\")\n",
    "print(\"---\"*12)\n",
    "for i in range(len(semana)):\n",
    "    print(\"Semana {} productividad = {:.2f}\"\\\n",
    "          .format(semana[i],productividad[i]))\n",
    "print()\n",
    "print(\"Cantidad de camisas por trabajador\")\n",
    "print(\"---\"*12)\n",
    "for i in range(len(semana)):\n",
    "    print(\"Semana {} prod. trabajador = {:.2f}\"\\\n",
    "          .format(semana[i],productividad_trabajador[i]))\n"
   ]
  },
  {
   "cell_type": "markdown",
   "metadata": {},
   "source": [
    "#### Problema 3\n",
    "\n",
    "Los reproductores de discos compactos se fabrican en una línea de ensamblaje automatizada. El costo estándar de los reproductores de discos compactos es de `$150` por unidad (mano de obra, `$30`; materiales, `$70`; y gastos generales, `$50`). El precio de venta es de `$300` por unidad.\n",
    "\n",
    "**a.** Si se desea lograr una mejora de `10%` en la productividad multifactorial reduciendo únicamente los costos de materiales, ¿en qué porcentaje habrá que reducir esos costos?\n",
    "\n",
    "**b.** Si se desea lograr una mejora de `10%` en la productividad multifactorial reduciendo únicamente los costos de mano de obra, ¿en qué porcentaje habrá que reducir esos costos?\n",
    "\n",
    "**c.** Si se desea lograr una mejora de `10%` en la productividad multifactorial reduciendo únicamente los gastos generales, ¿en qué porcentaje habrá que reducir esos gastos?"
   ]
  },
  {
   "cell_type": "code",
   "execution_count": 6,
   "metadata": {},
   "outputs": [
    {
     "name": "stdout",
     "output_type": "stream",
     "text": [
      "2.2\n",
      "Materiales=56.34999999999846 Mano de obra=30.00, Gastos generales=50\n",
      "Productividad 2.20\n"
     ]
    }
   ],
   "source": [
    "productividad = 0\n",
    "materiales = 70\n",
    "mano_obra = 30\n",
    "gastos_generales = 50\n",
    "precio_venta = 300\n",
    "valor_insumos = materiales + mano_obra + gastos_generales\n",
    "\n",
    "productividad = precio_venta / valor_insumos\n",
    "product2 = productividad + (productividad * 0.1)\n",
    "print(product2)\n",
    "\n",
    "\n",
    "while productividad < product2:\n",
    "    valor_insumos = materiales + mano_obra + gastos_generales\n",
    "    productividad = precio_venta / valor_insumos\n",
    "    materiales -= 0.01\n",
    "\n",
    "print(\"Materiales={} Mano de obra={:.2f}, Gastos generales={}\".format(materiales, mano_obra, gastos_generales))\n",
    "print(\"Productividad {:.2f}\".format(productividad))    "
   ]
  },
  {
   "cell_type": "code",
   "execution_count": 7,
   "metadata": {},
   "outputs": [
    {
     "name": "stdout",
     "output_type": "stream",
     "text": [
      "Materiales=70 Mano de obra=16.35, Gastos generales=50\n",
      "Productividad 2.20\n"
     ]
    }
   ],
   "source": [
    "productividad = 0\n",
    "materiales = 70\n",
    "mano_obra = 30\n",
    "gastos_generales = 50\n",
    "precio_venta = 300\n",
    "valor_insumos = materiales + mano_obra + gastos_generales\n",
    "\n",
    "productividad = precio_venta / valor_insumos\n",
    "productividad2 = productividad + (productividad * 0.1)\n",
    "\n",
    "\n",
    "while productividad < productividad2:\n",
    "    valor_insumos = materiales + mano_obra + gastos_generales\n",
    "    productividad = precio_venta / valor_insumos\n",
    "    mano_obra -= 0.01\n",
    "\n",
    "    \n",
    "print(\"Materiales={} Mano de obra={:.2f}, Gastos generales={}\".format(materiales, mano_obra, gastos_generales))\n",
    "print(\"Productividad {:.2f}\".format(productividad))\n",
    "    "
   ]
  },
  {
   "cell_type": "code",
   "execution_count": 8,
   "metadata": {},
   "outputs": [
    {
     "name": "stdout",
     "output_type": "stream",
     "text": [
      "2.2\n",
      "Materiales=70 Mano de obra=30.00, Gastos generales=36.350000000002716\n",
      "Productividad 2.20\n"
     ]
    }
   ],
   "source": [
    "productividad = 0\n",
    "materiales = 70\n",
    "mano_obra = 30\n",
    "gastos_generales = 50\n",
    "precio_venta = 300\n",
    "valor_insumos = materiales + mano_obra + gastos_generales\n",
    "\n",
    "productividad = precio_venta / valor_insumos\n",
    "product2 = productividad + (productividad * 0.1)\n",
    "print(product2)\n",
    "\n",
    "\n",
    "while productividad < product2:\n",
    "    valor_insumos = materiales + mano_obra + gastos_generales\n",
    "    productividad = precio_venta / valor_insumos\n",
    "    gastos_generales -= 0.01\n",
    "\n",
    "\n",
    "print(\"Materiales={} Mano de obra={:.2f}, Gastos generales={}\"\\\n",
    "      .format(materiales, mano_obra, gastos_generales))\n",
    "print(\"Productividad {:.2f}\".format(productividad))\n",
    "    "
   ]
  },
  {
   "cell_type": "code",
   "execution_count": 9,
   "metadata": {
    "scrolled": true
   },
   "outputs": [
    {
     "name": "stdout",
     "output_type": "stream",
     "text": [
      "Semana 1 Pro. Mult.= $38.05 Prod. M.O.= $11.33007 1124 Unid\n",
      "Semana 2 Pro. Mult.= $38.05 Prod. M.O.= $11.32977 1310 Unid\n",
      "Semana 3 Pro. Mult.= $36.43 Prod. M.O.= $9.70971 1092 Unid\n",
      "Semana 4 Pro. Mult.= $36.43 Prod. M.O.= $9.71050 981 Unid\n"
     ]
    }
   ],
   "source": [
    "semana = [\"1\", \"2\", \"3\", \"4\"]\n",
    "unidades_producidas = [1124, 1310, 1092, 981]\n",
    "total_mano_obra = [12735, 14842, 10603, 9526]\n",
    "total_materiales = [21041, 24523, 20442, 18364]\n",
    "total_gastos_generales = [8992, 10480, 8736, 7848]\n",
    "\n",
    "produc_multifactorial = []\n",
    "\n",
    "for i in range(len(semana)):\n",
    "    produc_multifactorial.append(total_mano_obra[i]+total_materiales[i]+\\\n",
    "                                total_gastos_generales[i])\n",
    "for i in range(len(semana)):\n",
    "    print(\"Semana {} Pro. Mult.= ${:.2f} Prod. M.O.= ${:5.5f} {:.0f} Unid\"\\\n",
    "          .format(semana[i],produc_multifactorial[i]/unidades_producidas[i],\\\n",
    "           total_mano_obra[i]/unidades_producidas[i],\\\n",
    "           unidades_producidas[i]))\n",
    "    \n",
    "    \n",
    "    \n",
    "    "
   ]
  },
  {
   "cell_type": "markdown",
   "metadata": {},
   "source": [
    "### PROBLEMA AVANZADO 5\n",
    "\n",
    "Big Black Bird Company (BBBC) tiene un pedido grande de uniformes militares especiales forrados de plástico que se usarán en una operación militar urgente. Trabajando los `2 turnos` normales de `40 horas`, el proceso de producción de BBBC produce normalmente `2,500` uniformes por semana al costo normal de `$120` cada uno. En el primer turno trabajan `70` empleados y `30` en el segundo. El precio contratado es de `$200` por uniforme. En atención a la urgencia del pedido, BBBC ha recibido autorización para trabajar en la producción las `24 horas` del día, `6 días` a la semana. Cuando cada uno de los `2 turnos` trabaja `72 horas` a la semana, la producción se incrementa a `4,000` uniformes por semana, pero a un costo de `$144` cada uno.\n",
    "\n",
    "**a.** ¿La productividad aumentó, disminuyó o permaneció igual? Si cambió, ¿en qué porcentaje lo hizo?\n",
    "\n",
    "**b.** ¿La productividad de la mano de obra aumentó, disminuyó o permaneció igual? Si cambió, ¿en qué porcentaje lo hizo?\n",
    "\n",
    "**c.** ¿Las utilidades semanales aumentaron, disminuyeron o permanecieron sin cambio?\n"
   ]
  },
  {
   "cell_type": "code",
   "execution_count": 10,
   "metadata": {},
   "outputs": [
    {
     "name": "stdout",
     "output_type": "stream",
     "text": [
      "Produc multif normal =  1.67\n",
      "Produc multif extra =  1.39\n",
      "variacion -16.67%\n",
      "\n",
      "Productividad normal = 31.25 unid/hora\n",
      "Productividad extra = 27.78 unid/hora\n",
      "variación = -11.11%\n",
      "\n",
      "Utilidad semanal normal = $ 200000.00\n",
      "Utilidad semanal extra  = $ 224000.00\n",
      "Variaciòn utilidades = 24000.00\n"
     ]
    }
   ],
   "source": [
    "turnos = 2\n",
    "h_normal = 40\n",
    "h_extras = 72\n",
    "produ_normal = 2500\n",
    "produ_extra = 4000\n",
    "costo_normal = 120\n",
    "costo_extra = 144\n",
    "precio_contrato = 200\n",
    "cant_empleados = 100\n",
    "\n",
    "val_1 = (produ_normal*precio_contrato)/(produ_normal*costo_normal)\n",
    "print(\"Produc multif normal =  {:.2f}\".format(val_1))\n",
    "\n",
    "val_2 = (produ_extra*precio_contrato)/(produ_extra*costo_extra)\n",
    "print(\"Produc multif extra =  {:.2f}\".format(val_2))\n",
    "\n",
    "variacion = (val_2*100)/val_1\n",
    "\n",
    "print(\"variacion {:.2f}%\".format(variacion-100))\n",
    "print(\"\")\n",
    "\n",
    "#productividad de la mano de obra = pmo\n",
    "pmo1 = produ_normal/(turnos*h_normal)\n",
    "pmo2 = produ_extra/(turnos*h_extras)\n",
    "print(\"Productividad normal = {:2.2f} unid/hora\".format(pmo1))\n",
    "print(\"Productividad extra = {:2.2f} unid/hora\".format(pmo2))\n",
    "print(\"variación = {:2.2f}%\".format(((pmo2*100)/pmo1)-100))\n",
    "print(\"\")\n",
    "\n",
    "\n",
    "# Utilidad semanales = us\n",
    "us1 = produ_normal*(precio_contrato-costo_normal)\n",
    "us2 = produ_extra*(precio_contrato-costo_extra)\n",
    "print(\"Utilidad semanal normal = ${:10.2f}\".format(us1))\n",
    "print(\"Utilidad semanal extra  = ${:10.2f}\".format(us2))\n",
    "print(\"Variaciòn utilidades = {:2.2f}\".format(us2-us1))\n",
    "\n",
    "\n"
   ]
  },
  {
   "cell_type": "markdown",
   "metadata": {},
   "source": [
    "#### SUPLEMENTO - TOMA DE DECISIONES\n",
    "\n",
    "1. Explicar el análisis de punto de equilibrio, usando tanto el método gráfico como el algebraico.\n",
    "2. Definir una matriz de preferencias.\n",
    "3. Identificar las reglas de decisión maximin, maximax, Laplace, rechazo minimax y valor esperado.\n",
    "4. Explicar cómo se construye una tabla de pagos.\n",
    "5. Describir cómo se traza y analiza un árbol de decisiones\n"
   ]
  },
  {
   "cell_type": "markdown",
   "metadata": {},
   "source": [
    "#### <span style=\"color:red;\">EJEMPLO A.1 Cálculo del punto de equilibrio</span>\n",
    "Un hospital está considerando un nuevo procedimiento que se ofrecerá al precio de `$200` por paciente. El costo fijo anual sería de `$100,000`, con costos variables totales de `$100` por paciente. ¿Cuál sería el punto de equilibrio de este servicio? Use los dos métodos, el algebraico y el gráfico, para obtener la respuesta.\n",
    "\n",
    "$$\n",
    "Q = \\frac{F}{p-c}\n",
    "$$\n"
   ]
  },
  {
   "cell_type": "code",
   "execution_count": 11,
   "metadata": {},
   "outputs": [
    {
     "data": {
      "text/plain": [
       "<Figure size 640x480 with 1 Axes>"
      ]
     },
     "metadata": {},
     "output_type": "display_data"
    },
    {
     "name": "stdout",
     "output_type": "stream",
     "text": [
      "       0.0        0.0\n",
      "     250.0    50000.0\n",
      "     500.0   100000.0\n",
      "     750.0   150000.0\n",
      "    1000.0   200000.0\n",
      "    1250.0   250000.0\n",
      "    1500.0   300000.0\n",
      "    1750.0   350000.0\n",
      "    2000.0   400000.0\n",
      "\n",
      "       0.0   100000.0\n",
      "     250.0   125000.0\n",
      "     500.0   150000.0\n",
      "     750.0   175000.0\n",
      "    1000.0   200000.0\n",
      "    1250.0   225000.0\n",
      "    1500.0   250000.0\n",
      "    1750.0   275000.0\n",
      "    2000.0   300000.0\n",
      "1000.0\n"
     ]
    }
   ],
   "source": [
    "from numpy import *\n",
    "import matplotlib.pyplot as plt\n",
    "from matplotlib.legend_handler import HandlerLine2D\n",
    "\n",
    "F = 100000\n",
    "p = 200\n",
    "c = 100\n",
    "\n",
    "def pto_equ (F, p, c):\n",
    "    Q=F/(p-c)\n",
    "    return Q\n",
    "\n",
    "Q = pto_equ(F,p,c)\n",
    "\n",
    "def plot_recta(p,c, Q):\n",
    "    \n",
    "    \n",
    "    k = 9\n",
    "    ingresos_x = linspace(0, 2*Q, k)\n",
    "    ingresos_y = linspace(0, p*(2*Q), k)\n",
    "    \n",
    "    costos_x = linspace(0, 2*Q, k)\n",
    "    costos_y = linspace(F, F + (c*(2*Q)), k)\n",
    "    \n",
    "    line1, = plt.plot(ingresos_x, ingresos_y, marker='o',label='Ingresos')\n",
    "    line2, = plt.plot(costos_x, costos_y, marker='o', label='Costos')\n",
    "    \n",
    "    plt.legend(handler_map={line1: HandlerLine2D(numpoints=3)})\n",
    "    plt.title(\"Análisis de pto. de Equilibrio\")\n",
    "    plt.xlabel(\"Cantidad Q\")\n",
    "    plt.ylabel('Dolarees')\n",
    "    \n",
    "    #plt.grid(True)\n",
    "    plt.grid(True, linestyle='--', which='major',\n",
    "                   color='gray', alpha=.75)\n",
    "    plt.text(1000, 0, r'Q= {:.1f} und. Pto.Equi. = ${:.1f} '\\\n",
    "             .format(Q, p*Q))\n",
    "\n",
    "    plt.show()\n",
    "    \n",
    "    for i in range(len(ingresos_x)):\n",
    "        print(\"{:10.1f} {:10.1f}\".format(ingresos_x[i], ingresos_y[i]))\n",
    "    print(\"\")\n",
    "    for i in range(len(ingresos_x)):\n",
    "        print(\"{:10.1f} {:10.1f}\".format(costos_x[i], costos_y[i]))\n",
    "\n",
    "plot_recta(p,c,Q)\n",
    "print(pto_equ(F, p, c))\n"
   ]
  },
  {
   "cell_type": "code",
   "execution_count": null,
   "metadata": {},
   "outputs": [],
   "source": []
  },
  {
   "cell_type": "markdown",
   "metadata": {},
   "source": [
    "#### <span style=\"color:red;\">EJEMPLO A.2 Análisis de sensibilidad de los pronósticos de ventas</span>\n",
    "\n",
    "Si el pronóstico de ventas más pesimista para el servicio propuesto en la figura A.1 fuera de `1500 pacientes`, ¿cuál sería la contribución total del procedimiento a las utilidades y gastos generales por año?\n",
    "\n",
    "**SOLUCIÓN**\n",
    "El gráfico muestra que aun el pronóstico más pesimista se ubica por encima del volumen de equilibrio, lo que resulta alentador. La contribución total del producto, que se encuentra restando los costos totales de los ingresos totales, es:\n"
   ]
  },
  {
   "cell_type": "code",
   "execution_count": 12,
   "metadata": {},
   "outputs": [
    {
     "name": "stdout",
     "output_type": "stream",
     "text": [
      "= $50000 al año\n"
     ]
    }
   ],
   "source": [
    "F = 100000\n",
    "p = 200\n",
    "c = 100\n",
    "\n",
    "Q = 1500 # Cantidad de pacientes propuestos\n",
    "\n",
    "x = p * Q - (F + c * Q)\n",
    "print(\"= ${:.0f} al año\".format(x))"
   ]
  },
  {
   "cell_type": "code",
   "execution_count": null,
   "metadata": {},
   "outputs": [],
   "source": []
  },
  {
   "cell_type": "markdown",
   "metadata": {},
   "source": [
    "#### <span style=\"color:red;\">EJEMPLO A.3 AnaAnálisis de punto de equilibrio para decisiones de fabricar o comprar</span>\n",
    "\n",
    "El gerente de un restaurante de comida rápida que vende hamburguesas decide incluir ensaladas en el menú. Existen dos opciones y el precio para el cliente será el mismo con cualquiera de ellas. La opción de fabricar consiste en instalar una barra de ensaladas bien provista de verduras, frutas y aderezos, y dejar que el cliente prepare la ensalada. La barra de ensaladas tendría que pedirse en alquiler y sería necesario contratar un empleado de tiempo parcial que la atendiera. El gerente estima los costos fijos en `$12,000` y cree que los costos variables ascenderán a `$1.50` por ensalada. La opción de comprar consiste en conseguir las ensaladas ya preparadas y listas para la venta. Éstas tendrían que comprarse a un proveedor local a `$2.00` por ensalada. La venta de ensaladas previamente preparadas requeriría la instalación y operación de más refrigeradores, con un costo fijo anual de `$2400`. El gerente espera vender `25.000` en- saladas al año.\n",
    "\n",
    "¿Cuál es la cantidad en la que se alcanza el punto de equilibrio?\n",
    "\n",
    "**SOLUCIÓN**\n",
    "\n",
    "Usando la fórmula del punto de equilibrio se obtiene:\n"
   ]
  },
  {
   "cell_type": "code",
   "execution_count": 13,
   "metadata": {},
   "outputs": [
    {
     "name": "stdout",
     "output_type": "stream",
     "text": [
      "19200.0\n"
     ]
    }
   ],
   "source": [
    "fm = 12000 # costos fijos de fabricacion\n",
    "cm = 1.5 # costos variables de fabricacion\n",
    "fb = 2400 # costos fijos de compra\n",
    "cb = 2.0 # costos variables de compras\n",
    "\n",
    "def evaluacion (fm, cm, fb, cb):\n",
    "    Q = (fm-fb)/(cb-cm)\n",
    "    return Q\n",
    "\n",
    "Q = evaluacion(fm, cm, fb, cb)\n",
    "print(Q)"
   ]
  },
  {
   "cell_type": "markdown",
   "metadata": {},
   "source": [
    "En la figura de abajo se muestra la solución obtenida de análisis de punto de equilibrio. La cantidad en la que se alcanza el punto de equilibrio es de `19,200` ensaladas. En virtud de que el pronóstico de ventas de `25,000` ensaladas es superior a esta cantidad, la opción de fabricar resulta preferible. Sólo si el restaurante esperara vender menos de 19,200 ensaladas, la opción de comprar sería la mejor."
   ]
  },
  {
   "cell_type": "code",
   "execution_count": 14,
   "metadata": {},
   "outputs": [
    {
     "name": "stdout",
     "output_type": "stream",
     "text": [
      "19200.0\n",
      "Las dos líneas se cruzan en Q = 19200 unidades, la cantidad       en la que se alcanza el punto de equilibrio \n"
     ]
    },
    {
     "data": {
      "image/png": "[encoded data removed]",
      "text/plain": [
       "<Figure size 432x288 with 1 Axes>"
      ]
     },
     "metadata": {
      "needs_background": "light"
     },
     "output_type": "display_data"
    },
    {
     "name": "stdout",
     "output_type": "stream",
     "text": [
      "       0.0     2400.0\n",
      "    4800.0    12000.0\n",
      "    9600.0    21600.0\n",
      "   14400.0    31200.0\n",
      "   19200.0    40800.0\n",
      "   24000.0    50400.0\n",
      "   28800.0    60000.0\n",
      "   33600.0    69600.0\n",
      "   38400.0    79200.0\n",
      "\n",
      "       0.0    12000.0\n",
      "    4800.0    19200.0\n",
      "    9600.0    26400.0\n",
      "   14400.0    33600.0\n",
      "   19200.0    40800.0\n",
      "   24000.0    48000.0\n",
      "   28800.0    55200.0\n",
      "   33600.0    62400.0\n",
      "   38400.0    69600.0\n"
     ]
    }
   ],
   "source": [
    "from numpy import *\n",
    "import matplotlib.pyplot as plt\n",
    "from matplotlib.legend_handler import HandlerLine2D\n",
    "\n",
    "fm = 12000 # costos fijos de fabricacion\n",
    "cm = 1.5 # costos variables de fabricacion\n",
    "fb = 2400 # costos fijos de compra\n",
    "cb = 2.0 # costos variables de compras\n",
    "\n",
    "def evaluacion (fm, cm, fb, cb):\n",
    "    Q = (fm-fb)/(cb-cm)\n",
    "    return Q\n",
    "\n",
    "Q = evaluacion(fm, cm, fb, cb)\n",
    "print(Q)\n",
    "\n",
    "\n",
    "def plot_recta(fm, cm, fb, cb, Q):\n",
    "    \n",
    "    k = 9\n",
    "    proceso1_x = linspace(0, 2*Q, k)\n",
    "    proceso1_y = linspace(fb, fb+(cb*(2*Q)), k)\n",
    "    \n",
    "    proceso2_x = linspace(0, 2*Q, k)\n",
    "    proceso2_y = linspace(fm, fm+(cm*(2*Q)), k)\n",
    "    \n",
    "    line1, = plt.plot(proceso1_x, proceso1_y, \"k--\", \\\n",
    "                      color='blue',marker='o',label='proceso 1')\n",
    "    line2, = plt.plot(proceso2_x, proceso2_y, \"k:\",\\\n",
    "                      color='red', marker='o', label='proceso 2')\n",
    "    \n",
    "    plt.legend(handler_map={line1: HandlerLine2D(numpoints=3)})\n",
    "    plt.title(\"Análisis de pto. de Equilibrio\")\n",
    "    plt.xlabel(\"Cantidad (Q)\")\n",
    "    plt.ylabel(\"Dolares\")\n",
    "    plt.grid(True, linestyle='--', which='major',\n",
    "                   color='gray', alpha=.75)\n",
    "    plt.text(1000, 0, r'Q= {:.1f} und. Pto.Equi'.format(Q))\n",
    "    plt.show()\n",
    "    for i in range(len(proceso1_x)):\n",
    "        print(\"{:10.1f} {:10.1f}\".format(proceso1_x[i], proceso1_y[i]))\n",
    "    print(\"\")\n",
    "    for i in range(len(proceso1_x)):\n",
    "        print(\"{:10.1f} {:10.1f}\".format(proceso2_x[i], proceso2_y[i]))\n",
    "\n",
    "#cant = pto_equ(F, p, c)        \n",
    "print(\"Las dos líneas se cruzan en Q = {:.0f} unidades, la cantidad\\\n",
    "       en la que se alcanza el punto de equilibrio \".format(Q))\n",
    "\n",
    "plot_recta(fm, cm, fb, cb, Q)\n"
   ]
  },
  {
   "cell_type": "markdown",
   "metadata": {},
   "source": [
    "#### <span style=\"color:green;\">EJEMPLO A.4 Evaluación de una alternativa con una matriz de preferencias</span>\n",
    "\n",
    "La tabla que se presenta al principio de la página 30 muestra los criterios de desempeño, ponderaciones y puntajes (1=peor, 10=mejor) correspondientes a un nuevo producto: un aparato de aire acondicionado para almacenamiento térmico. Si la gerencia desea lanzar al mercado sólo un nuevo producto y el puntaje total más alto de las ideas sobre otros productos es 800, ¿debe la empresa insistir en fabricar el aparato de aire acondicionado?"
   ]
  },
  {
   "cell_type": "code",
   "execution_count": 15,
   "metadata": {},
   "outputs": [
    {
     "name": "stdout",
     "output_type": "stream",
     "text": [
      "Potencial de mercado             30  8 240\n",
      "Margen de utilidad unitaria      20 10 200\n",
      "Compatibilidad con operaciones   20  6 120\n",
      "Ventaja competitiva              15 10 150\n",
      "Requisitos de inversion          10  2  20\n",
      "Riesgo del proyecto               5  4  20\n",
      "\n",
      "Puntaje ponderado =   750\n"
     ]
    }
   ],
   "source": [
    "# Criterio de desempeño\n",
    "cd = [\"Potencial de mercado\", \"Margen de utilidad unitaria\",\\\n",
    "      \"Compatibilidad con operaciones\", \"Ventaja competitiva\", \\\n",
    "      \"Requisitos de inversion\", \"Riesgo del proyecto\"]\n",
    "\n",
    "pa = [30,20,20,15,10,5] # Ponderacion A\n",
    "pb = [8,10,6,10,2,4] # Puntaje B\n",
    "\n",
    "pp = [] # Puntaje ponderado\n",
    "\n",
    "for i in range(len(cd)):\n",
    "    pp.append(pa[i] * pb[i])\n",
    "    print(\"{:32} {:2.0f} {:2.0f} {:3.0f}\"\\\n",
    "          .format(cd[i], pa[i], pb[i], pa[i]*pb[i]))\n",
    "print(\"\")    \n",
    "print(\"Puntaje ponderado = {:5}\".format(sum(pp)))"
   ]
  },
  {
   "cell_type": "markdown",
   "metadata": {},
   "source": [
    "**SOLUCIÓN** \n",
    "\n",
    "Puesto que la suma de puntajes ponderados es de 750, no llega al puntaje de 800 que correspondería a otro producto."
   ]
  },
  {
   "cell_type": "markdown",
   "metadata": {},
   "source": [
    "#### <span style=\"color:green;\">EJEMPLO A.5 Decisiones bajo certidumbre</span>\n",
    "\n",
    "Un gerente tiene que decidir si conviene construir una instalación pequeña o una grande. Mucho depende de la futura demanda que la instalación tenga que atender, y dicha demanda puede ser grande o pequeña. El gerente conoce con certeza los beneficios que producirá cada alternativa, que se muestran la siguiente tabla de beneficios. Los beneficios `(en $000)` son los valores presentes de los ingresos futuros menos los costos que corresponden a cada alternativa, en cada uno de los acontecimientos.\n",
    "\n",
    "\n",
    "| Altrnativas   | Baja | Alta  |\n",
    "| ------------- |:----:| -----:|\n",
    "| Instalacion pequeña      | 200 |  270 |\n",
    "| Instalacion grande     | 160 |    800 |\n",
    "| No hacer nada | 0   |     0 |\n",
    "\n",
    "**SOLUCIÓN**\n",
    "\n",
    "En este ejemplo, la mejor opción es la que produce el beneficio más grande. Si el gerente sabe que la demanda futura va a ser baja, la compañía debe construir una instalación pequeña y disfrutar de un beneficio de `$200,000`. La instalación grande reporta un beneficio de sólo `$160,000`. La alternativa de “no hacer nada” está dominada por las otras alternativas; es decir, el resultado de una alternativa no es mejor que el resultado de la otra en cada acontecimiento. En virtud de que la alternativa de “no hacer nada” está dominada, el gerente la descarta.\n",
    "\n",
    "Punto de decisión Si la gerencia conoce en realidad la demanda futura, construirá la instalación pequeña si la demanda va a ser baja, y la instalación grande, si la demanda va a ser alta. Si la demanda es incierta, debe considerar otras reglas de decisión."
   ]
  },
  {
   "cell_type": "markdown",
   "metadata": {},
   "source": [
    "#### <span style=\"color:green;\">EJEMPLO A.6 Decisiones bajo Incertidumbre</span>\n",
    "\n",
    "Considere de nuevo la matriz de beneficios del ejemplo A.5. ¿Cuál es la mejor alternativa para cada regla de decisión?\n",
    "\n",
    "**SOLUCIÓN**\n",
    "\n",
    "**a.** Maximin: el peor beneficio de una alternativa es el número más bajo que aparece en la fila respectiva de la matriz de beneficios, porque los beneficios son utilidades. Los peores beneficios `($000)` son:\n",
    "\n",
    "| Altrnativas   | Peor beneficio |\n",
    "| ------------- |:----:| \n",
    "| Instalacion pequeña      | 200 |\n",
    "| Instalacion grande     | 160 |  \n",
    "\n",
    "El mejor de esos números peores es `$200,000`, por lo cual el pesimista decidiría construir una instalación pequeña.\n",
    "\n",
    "**b. Maximax:** el mejor beneficio de una alternativa `($000)` es el número más alto que aparece en la fila respectiva de la matriz de beneficios, o\n",
    "\n",
    "| Altrnativas   | Mejor beneficio |\n",
    "| ------------- |:----:| \n",
    "| Instalacion pequeña      | 270 |\n",
    "| Instalacion grande     | 800 |\n",
    "\n",
    "El mejor de esos números mejores es `$800,000`, por lo cual el optimista decidiría construir una instalación grande.\n",
    "\n",
    "**c. Laplace:** si se trata de dos acontecimientos, asignamos a cada uno una probabilidad de 0.5. Así, los beneficios ponderados `($000)` son:\n",
    "\n",
    "| Altrnativas   | Beneficio ponderado|\n",
    "| ------------- |:---------:| \n",
    "| Instalacion pequeña | 0.5(200) + 0.5(270) = 235 |\n",
    "| Instalacion grande  | 0.5(160) + 0.5(800) = 480  |\n",
    "\n",
    "El mejor de esos beneficios ponderados es `$480,000`, por lo cual la persona realista optaría por construir una ins- talación grande.\n",
    "\n",
    "**d. Rechazo minimax:** si la demanda resulta ser baja, la mejor alternativa es una instalación pequeña y su rechazo es 0 (o sea, 200 – 200). Si se construye una instalación grande cuando la demanda resulta ser baja, el rechazo es 40 (o sea, 200 – 160).\n",
    "\n",
    "| Altrnativas        | Demanada Baja | Demanada Alta  | Rechazo mximo  |\n",
    "| ------------------ |:----:|------:|------:|\n",
    "| Instalacion pequeña|  200 - 200 =  0 | 800 - 270 = 530 |   530 |\n",
    "| Instalacion grande |  200 - 160 = 40 |   800 - 800 = 0 |    40 |\n",
    "\n",
    "La columna de la derecha muestra el peor rechazo en cada una de las alternativas. Para minimizar el rechazo máximo, se elige una instalación grande. El mayor rechazo se produce en el caso en que se tiene sólo una instalación pequeña y hay una gran demanda.\n",
    "\n",
    "**Punto de decisión** El pesimista elegiría la instalación pequeña. El realista, el optimista y el gerente que opta por minimizar el rechazo máximo construirían la instalación grande.\n"
   ]
  },
  {
   "cell_type": "markdown",
   "metadata": {},
   "source": [
    "#### <span style=\"color:green;\">EJEMPLO A.7 Decisiones bajo riesgo</span>\n",
    "\n",
    "Considere de nuevo la matriz de beneficios del ejemplo A.5. Para la regla de decisión del valor esperado, ¿cuál es la mejor alternativa si la probabilidad de que la demanda sea pequeña se estima en 0.4 y la probabilidad de que la demanda sea grande se estima en 0.6?\n",
    "\n",
    "**SOLUCIÓN**\n",
    "\n",
    "El valor esperado para cada alternativa es:\n",
    "\n",
    "| Altrnativas   | Valor esperado |\n",
    "| ------------- |:---------:| \n",
    "| Instalacion pequeña | 0.4(200) + 0.6(270) = 242 |\n",
    "| Instalacion grande  | 0.4(160) + 0.6(800) = 544  |\n",
    "\n",
    "**Punto de decisión** La gerencia escogería una instalación grande si siguiera la regla de decisión del valor espe- rado, porque ésta ofrece los mejores resultados a largo plazo si se aplica sistemáticamente a través del tiempo."
   ]
  },
  {
   "cell_type": "markdown",
   "metadata": {},
   "source": [
    "#### <span style=\"color:red;\">PROBLEMA RESUELTO 1</span>\n",
    "\n",
    "La propietaria de una pequeña empresa manufacturera ha patentado un nuevo dispositivo para lavar platos y limpiar fregaderos de cocina sucios.\n",
    "\n",
    "Antes de tratar de comercializar el dispositivo y agregarlo a su línea de productos actual, desea asegurarse, dentro de razonable, de que tendrá éxito. Los costos variables se han estimado en `$7` por unidad producida y vendida. Los costos fijos ascienden aproximadamente a `$56,000` al año.\n",
    "\n",
    "**a.** Si el precio de venta se establece en `$25`, ¿cuántas unidades deberán fabricarse y venderse para alcanzar el punto de equilibrio? Use los métodos algebraico y gráfico.\n",
    "\n",
    "**b.** Las ventas pronosticadas para el primer año son de `10,000` unidades si el precio se reduce a `$15`. Con esta estrategia de precios, ¿cuál sería la contribución total del producto a las utilidades en el primer año?"
   ]
  },
  {
   "cell_type": "code",
   "execution_count": 16,
   "metadata": {},
   "outputs": [
    {
     "name": "stdout",
     "output_type": "stream",
     "text": [
      "Las dos líneas se cruzan en Q = 3111 unidades, la cantidad       en la que se alcanza el punto de equilibrio \n"
     ]
    },
    {
     "data": {
      "image/png": "[encoded data removed]",
      "text/plain": [
       "<Figure size 432x288 with 1 Axes>"
      ]
     },
     "metadata": {
      "needs_background": "light"
     },
     "output_type": "display_data"
    },
    {
     "name": "stdout",
     "output_type": "stream",
     "text": [
      "       0.0        0.0\n",
      "     777.8    19444.4\n",
      "    1555.6    38888.9\n",
      "    2333.3    58333.3\n",
      "    3111.1    77777.8\n",
      "    3888.9    97222.2\n",
      "    4666.7   116666.7\n",
      "    5444.4   136111.1\n",
      "    6222.2   155555.6\n",
      "\n",
      "       0.0    56000.0\n",
      "     777.8    61444.4\n",
      "    1555.6    66888.9\n",
      "    2333.3    72333.3\n",
      "    3111.1    77777.8\n",
      "    3888.9    83222.2\n",
      "    4666.7    88666.7\n",
      "    5444.4    94111.1\n",
      "    6222.2    99555.6\n"
     ]
    }
   ],
   "source": [
    "from numpy import *\n",
    "import matplotlib.pyplot as plt\n",
    "from matplotlib.legend_handler import HandlerLine2D\n",
    "\n",
    "F = 56000\n",
    "p = 25\n",
    "c = 7\n",
    "\n",
    "def pto_equ (F, p, c):\n",
    "    Q=F/(p-c)\n",
    "    return Q\n",
    "\n",
    "Q = pto_equ(F,p,c)\n",
    "\n",
    "def plot_recta(p, c, Q, F):\n",
    "    \n",
    "    k = 9\n",
    "    ingresos_x = linspace(0, 2*Q, k)\n",
    "    ingresos_y = linspace(0, p*(2*Q), k)\n",
    "    \n",
    "    costos_x = linspace(0, 2*Q, k)\n",
    "    costos_y = linspace(F, F + (c*(2*Q)), k)\n",
    "    \n",
    "    line1, = plt.plot(ingresos_x, ingresos_y, \"k--\", \\\n",
    "                      color='blue',marker='o',label='Ingresos')\n",
    "    line2, = plt.plot(costos_x, costos_y, \"k:\",\\\n",
    "                      color='red', marker='o', label='Costos')\n",
    "    \n",
    "    plt.legend(handler_map={line1: HandlerLine2D(numpoints=3)})\n",
    "    plt.title(\"Análisis de pto. de Equilibrio\")\n",
    "    plt.xlabel(\"Cantidad Q\")\n",
    "    plt.ylabel('Dolarees')\n",
    "    plt.grid(True, linestyle='--', which='major',\n",
    "                   color='gray', alpha=.75)\n",
    "    plt.text(1000, 0, r'Q= {:.1f} und. Pto.Equi. = ${:.1f} '\\\n",
    "             .format(Q, p*Q))\n",
    "    plt.show()\n",
    "    for i in range(len(ingresos_x)):\n",
    "        print(\"{:10.1f} {:10.1f}\".format(ingresos_x[i], ingresos_y[i]))\n",
    "    print(\"\")\n",
    "    for i in range(len(ingresos_x)):\n",
    "        print(\"{:10.1f} {:10.1f}\".format(costos_x[i], costos_y[i]))\n",
    "\n",
    "cant = pto_equ(F, p, c)        \n",
    "print(\"Las dos líneas se cruzan en Q = {:.0f} unidades, la cantidad\\\n",
    "       en la que se alcanza el punto de equilibrio \".format(cant))\n",
    "\n",
    "plot_recta(p,c,Q,F)\n",
    "\n"
   ]
  },
  {
   "cell_type": "markdown",
   "metadata": {},
   "source": [
    "**b.** Contribución total a las utilidades = Ingreso total – Costo total\n",
    "$$\n",
    " = pQ - (F + cQ)\n",
    "$$"
   ]
  },
  {
   "cell_type": "code",
   "execution_count": 17,
   "metadata": {},
   "outputs": [
    {
     "name": "stdout",
     "output_type": "stream",
     "text": [
      "= $24000 al año\n"
     ]
    }
   ],
   "source": [
    "F = 56000\n",
    "p = 15\n",
    "c = 7\n",
    "\n",
    "Q = 10000 # Cantidad de ventas de dispositivos(por sobre los 3.111)\n",
    "\n",
    "utilidades = p * Q - (F + c * Q)\n",
    "\n",
    "print(\"= ${:.0f} al año\".format(utilidades))"
   ]
  },
  {
   "cell_type": "markdown",
   "metadata": {},
   "source": [
    "#### <span style=\"color:red;\">PROBLEMA RESUELTO 2</span>\n",
    "\n",
    "Binford Tool Company está evaluando tres ideas sobre nuevos productos, A, B y C. Las restricciones de recursos permiten que solo uno de ellos se comercialice. Los criterios de desempeño y las calificaciones, en una escala de 1 (peor) a 10 (mejor), se muestran en la siguiente tabla. Los gerentes de Binford han asignado <span style=\"color:red;\">ponderaciones iguales</span> a los criterios de desempeño. ¿Cuál es la mejor alternativa, según el método de la matriz de preferencias?"
   ]
  },
  {
   "cell_type": "code",
   "execution_count": 19,
   "metadata": {},
   "outputs": [
    {
     "name": "stdout",
     "output_type": "stream",
     "text": [
      "Producto [ 3  7 10  4  4], puntaje total 5.6\n",
      "Producto [9 8 4 7 6], puntaje total 6.8\n",
      "Producto [2 6 8 6 5], puntaje total 5.4\n",
      "\n",
      "La mejor alternativa es = 6.8\n"
     ]
    }
   ],
   "source": [
    "import numpy as np\n",
    "\n",
    "cd = [\"Incertidumbre a demanda y riesgo\",\n",
    "\"Semejanza con productos actuales\",\n",
    "\"Rendimiento esperado de la inversión (ROI)\",\n",
    "\"Compatibilidad con los procesos manufactureros actuales\",\n",
    "\"Ventaja competitiva\"]\n",
    "\n",
    "pond = 1 / (len(cd))\n",
    "\n",
    "\n",
    "pa = np.array((3,7,10,4,4))\n",
    "pb = np.array((9,8,4,7,6))\n",
    "pc = np.array((2,6,8,6,5))\n",
    "\n",
    "productos = (pa,pb,pc)\n",
    "x = []\n",
    "\n",
    "for i in range(len(productos)):\n",
    "    x.append(productos[i].sum()*0.2)\n",
    "    print(\"Producto {}, puntaje total {:2.1f}\"\\\n",
    "          .format(productos[i], x[i]))    \n",
    "print(\"\")\n",
    "print(\"La mejor alternativa es = {:2.1f}\".format(max(x)))    \n",
    "    "
   ]
  },
  {
   "cell_type": "code",
   "execution_count": null,
   "metadata": {},
   "outputs": [],
   "source": []
  },
  {
   "cell_type": "code",
   "execution_count": null,
   "metadata": {},
   "outputs": [],
   "source": []
  },
  {
   "cell_type": "code",
   "execution_count": null,
   "metadata": {},
   "outputs": [],
   "source": []
  },
  {
   "cell_type": "code",
   "execution_count": null,
   "metadata": {},
   "outputs": [],
   "source": []
  }
 ],
 "metadata": {
  "kernelspec": {
   "display_name": "Python 3",
   "language": "python",
   "name": "python3"
  },
  "language_info": {
   "codemirror_mode": {
    "name": "ipython",
    "version": 3
   },
   "file_extension": ".py",
   "mimetype": "text/x-python",
   "name": "python",
   "nbconvert_exporter": "python",
   "pygments_lexer": "ipython3",
   "version": "3.6.8"
  }
 },
 "nbformat": 4,
 "nbformat_minor": 2
}
