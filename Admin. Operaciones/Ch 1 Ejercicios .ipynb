{
 "cells": [
  {
   "cell_type": "markdown",
   "metadata": {},
   "source": [
    "### Ejemplo 1.1 Cálculos de productividad\n",
    "\n",
    "Calcule la productividad en las siguientes operaciones:\n",
    "\n",
    "a. Tres empleados procesan 600 pólizas de seguros en una semana. Trabajan 8 horas diarias, 5 días a la semana.\n",
    "\n",
    "b. Un equipo de trabajadores fabrica 400 unidades de un producto, el cual se valora de acuerdo con su costo estándar de S10 cada (antes de sumar otros gastos y la utilidad). El departamento de contabilidad informa que, para es- te trabajo, los costos reales son de S400 por mano de obra, S1,000 por materiales y S300 por gastos generales."
   ]
  },
  {
   "cell_type": "code",
   "execution_count": 7,
   "metadata": {},
   "outputs": [
    {
     "name": "stdout",
     "output_type": "stream",
     "text": [
      "Poductividad de la mano de obra = 5.00\n",
      "Poductividad Multifactorial = 2.35\n"
     ]
    }
   ],
   "source": [
    "polizas = 600 # polizas_procesadas = 600\n",
    "hh = 40 # horas_por_empleados = 40\n",
    "ce = 3 # cantidad_empleados = 3\n",
    "\n",
    "# Productividad de la mano de obra\n",
    "produc_empleados = polizas/(hh * ce) \n",
    "\n",
    "print(\"Poductividad de la mano de obra = {:.2f}\".format(produc_empleados))\n",
    "\n",
    "# b.\n",
    "tp = 400 # cantidad total de produccion\n",
    "cu= 10 # costo unitario estandar\n",
    "cthh = 400 # costo total mano de obra\n",
    "ctm = 1000 # costo total materiales\n",
    "gg = 300 # gastos generales\n",
    "\n",
    "produc_multifactorial = tp * cu / (cthh + ctm + gg)\n",
    "print(\"Poductividad Multifactorial = {:.2f}\".format(produc_multifactorial))"
   ]
  },
  {
   "cell_type": "markdown",
   "metadata": {},
   "source": [
    "**Punto de decisión** Estas mediciones deben comprarse con los niveles de desempeño en periodos anteriores y con las metas futuras. Si no están a la altura de las expectativas, el proceso debe investigarse para detectar oportuni- dades para mejorar."
   ]
  },
  {
   "cell_type": "code",
   "execution_count": null,
   "metadata": {},
   "outputs": [],
   "source": []
  }
 ],
 "metadata": {
  "kernelspec": {
   "display_name": "Python 3",
   "language": "python",
   "name": "python3"
  },
  "language_info": {
   "codemirror_mode": {
    "name": "ipython",
    "version": 3
   },
   "file_extension": ".py",
   "mimetype": "text/x-python",
   "name": "python",
   "nbconvert_exporter": "python",
   "pygments_lexer": "ipython3",
   "version": "3.6.8"
  }
 },
 "nbformat": 4,
 "nbformat_minor": 2
}
